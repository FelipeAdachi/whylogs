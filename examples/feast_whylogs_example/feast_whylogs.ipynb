{
 "cells": [
  {
   "cell_type": "code",
   "execution_count": null,
   "metadata": {
    "cell_id": "a5128f15-129b-439d-a18d-7b4c3fcf5193",
    "deepnote_cell_height": 262.75,
    "deepnote_cell_type": "code",
    "deepnote_to_be_reexecuted": false,
    "execution_millis": 30173,
    "execution_start": 1645028373805,
    "source_hash": "9327dbe7",
    "tags": []
   },
   "outputs": [
    {
     "name": "stderr",
     "output_type": "stream",
     "text": [
      "ERROR: pip's dependency resolver does not currently take into account all the packages that are installed. This behaviour is the source of the following dependency conflicts.\n",
      "tensorflow 2.4.1 requires grpcio~=1.32.0, but you have grpcio 1.43.0 which is incompatible.\n",
      "tensorflow 2.4.1 requires six~=1.15.0, but you have six 1.16.0 which is incompatible.\n",
      "tensorflow 2.4.1 requires typing-extensions~=3.7.4, but you have typing-extensions 4.1.1 which is incompatible.\n"
     ]
    }
   ],
   "source": [
    "%%sh\n",
    "pip install --upgrade pip -q\n",
    "pip install whylogs -U -q\n",
    "pip install feast -U -q\n",
    "pip install Pygments -q\n"
   ]
  },
  {
   "cell_type": "markdown",
   "metadata": {
    "cell_id": "de903b6c-4909-4723-af84-34562ed0c672",
    "deepnote_cell_height": 1075.78125,
    "deepnote_cell_type": "markdown",
    "tags": []
   },
   "source": [
    "# Context\n",
    "\n",
    "In this walkthrough, we'll see how you can use Feast and whylogs together at different parts of your ML pipeline - We'll use Feast to set up an online feature store, and then use it to enrich our serving data with additional features. After assembling our feature vector, we'll proceed to log it with whylogs. As the requests for prediction arrives, the logged input features will be statistically profiled. We will explore these profiles to see what kind of insights we can have.\n",
    "\n",
    "\n",
    "\n",
    "To do so, we'll use a sample dataset of daily taxi rides in NYC, extracted from [here](https://www1.nyc.gov/site/tlc/about/tlc-trip-record-data.page). Our final goal could be a prediction requested at the start of a given ride. This prediction could be whether the customer will give a high tip to the driver, or maybe whether the customer will give him a good review.  As an input to the prediction model, in addition to the ride information (like number of passengers, day of the week or trip distance), we might be interested in enriching our feature vector with information about the driver, like the driver's average speed, average rating or avg trips in the last 24 hours, with the hopes of improving the model's performances.\n",
    "\n",
    "![alt text](images/context.jpg \"Title\")\n",
    "\n",
    "The info about the specific ride will be known at inference time. However, the driver statistics might be available to us in a different data source, updated at specific time intervals. We will join these information to assemble a single feature vector by using Feast to set up an online feature store. Feast will materialize the features into the online store from a data source file. This data source will have driver statistic's, according the each driver's ID updated in an hourly basis.\n",
    "\n",
    "We will simulate a production pipeline, where requests for predictions will be made at different timestamps. We'll then log the feature vectors for each request into daily profiles for a period of 7 days. We'll then see how to inspect the summary for a given profile, and how to inspect multiple profiles across time."
   ]
  },
  {
   "cell_type": "markdown",
   "metadata": {
    "cell_id": "a49c1024-fd11-4224-bb90-4f7ce7d83512",
    "deepnote_cell_height": 420.734375,
    "deepnote_cell_type": "markdown",
    "tags": []
   },
   "source": [
    "# Changes in Data\n",
    "\n",
    "Let's consider some scenarios in which logging and visualizing features would be helpful.\n",
    "\n",
    "## Data Freshness\n",
    "\n",
    "In this example, we have updated information about drivers in an hourly basis. Let's simulate a scenario in which this frequency gets affected by some reason, and for a particular period we have new information accessible only in 2-hour cycles.\n",
    "\n",
    "## Changes in Customer Behavior\n",
    "\n",
    "Let's consider a scenario where people's behavior changes: maybe people are riding less and in groups of fewer people.  For example, when covid started, the number of rides certainly plummeted, and we could expect to see a dip in the number of passengers for each ride (for social distancing measures).\n",
    "\n",
    "We could also have a change in the criterias people use to rate a driver. For example, now the given rates, or reviews, for each driver could be affected by specific services provided, like the presence of alcohol and/or physical barriers to ensure social distancing. \n"
   ]
  },
  {
   "cell_type": "markdown",
   "metadata": {
    "cell_id": "813ead78-a12b-4dd1-a17b-1c85ae987814",
    "deepnote_cell_height": 82,
    "deepnote_cell_type": "markdown",
    "tags": []
   },
   "source": [
    "# The Feature Repository"
   ]
  },
  {
   "cell_type": "markdown",
   "metadata": {
    "cell_id": "f5815dee-9e8b-4edf-8812-40e5ff2b1ef4",
    "deepnote_cell_height": 111.171875,
    "deepnote_cell_type": "markdown",
    "tags": []
   },
   "source": [
    "For this walkthrough, the feature repository is already created for you.\n",
    "\n",
    "The block of code below is just for reference, showing how the feature repository was first created. We used the quickstart example from Feast as a base, and then replaced the files to adapt it to our use case.\n",
    "\n",
    "> This notebook was originally run in a Deep Note environment. If you are running this notebook locally, just remember to change line 11 of the `example.py` to replace the path with your local path"
   ]
  },
  {
   "cell_type": "code",
   "execution_count": null,
   "metadata": {
    "cell_id": "95288f70-7fcb-4e3c-b1e0-ab7d2c73ce8e",
    "deepnote_cell_height": 676.1875,
    "deepnote_cell_type": "code",
    "deepnote_output_heights": [
     21.1875
    ],
    "deepnote_to_be_reexecuted": false,
    "execution_millis": 264,
    "execution_start": 1644851582202,
    "source_hash": "eaf21d72",
    "tags": []
   },
   "outputs": [
    {
     "data": {
      "text/plain": [
       "'\\nJust for reference\\n\\nTerminal Commands:\\n\\n    !feast init feature_repo\\n\\n    !cp driver_stats.parquet feature_repo/data/driver_stats.parquet\\n\\n    !cp nyc_taxi_rides_feb_2020_changed.parquet feature_repo/data/nyc_taxi_rides_feb_2020.parquet\\n\\n\\nfeature_repo/example.py:\\n\\n    changed driver_hourly_stats_view to:\\n\\n    driver_hourly_stats_view = FeatureView(\\n        name=\"driver_hourly_stats\",\\n        entities=[\"driver_id\"],\\n        ttl=Duration(seconds=86400 * 1),\\n        features=[\\n            Feature(name=\"rate_1m\", dtype=ValueType.INT64),\\n            Feature(name=\"avg_daily_trips\", dtype=ValueType.INT64),\\n            Feature(name=\"avg_speed\", dtype=ValueType.FLOAT),\\n\\n        ],\\n        online=True,\\n        batch_source=driver_hourly_stats,\\n        tags={},\\n    )\\n\\n'"
      ]
     },
     "execution_count": 22,
     "metadata": {},
     "output_type": "execute_result"
    }
   ],
   "source": [
    "'''\n",
    "Just for reference\n",
    "\n",
    "Terminal Commands:\n",
    "\n",
    "    !feast init feature_repo\n",
    "\n",
    "    !cp driver_stats.parquet feature_repo/data/driver_stats.parquet\n",
    "\n",
    "    !cp nyc_taxi_rides_feb_2020_changed.parquet feature_repo/data/nyc_taxi_rides_feb_2020.parquet\n",
    "\n",
    "\n",
    "feature_repo/example.py:\n",
    "\n",
    "    changed driver_hourly_stats_view to:\n",
    "\n",
    "    driver_hourly_stats_view = FeatureView(\n",
    "        name=\"driver_hourly_stats\",\n",
    "        entities=[\"driver_id\"],\n",
    "        ttl=Duration(seconds=86400 * 1),\n",
    "        features=[\n",
    "            Feature(name=\"rate_1m\", dtype=ValueType.INT64),\n",
    "            Feature(name=\"avg_daily_trips\", dtype=ValueType.INT64),\n",
    "            Feature(name=\"avg_speed\", dtype=ValueType.FLOAT),\n",
    "\n",
    "        ],\n",
    "        online=True,\n",
    "        batch_source=driver_hourly_stats,\n",
    "        tags={},\n",
    "    )\n",
    "\n",
    "'''"
   ]
  },
  {
   "cell_type": "code",
   "execution_count": 6,
   "metadata": {
    "cell_id": "a75698cc-150c-45cf-b713-65810c8b4e58",
    "deepnote_cell_height": 251.3125,
    "deepnote_cell_type": "code",
    "deepnote_to_be_reexecuted": false,
    "execution_millis": 283,
    "execution_start": 1645028498706,
    "source_hash": "23e5b252",
    "tags": []
   },
   "outputs": [
    {
     "name": "stdout",
     "output_type": "stream",
     "text": [
      "/mnt/c/Users/felip/OneDrive/Documentos/Projects/whylogs-felipeadachi/examples/feast_whylogs_example/feature_repo\n",
      ".:\n",
      "__init__.py  data  example.py  feature_store.yaml\n",
      "\n",
      "./data:\n",
      "driver_stats.parquet  nyc_taxi_rides_feb_2020.parquet\n"
     ]
    }
   ],
   "source": [
    "%cd feature_repo\n",
    "!ls -R"
   ]
  },
  {
   "cell_type": "code",
   "execution_count": 7,
   "metadata": {
    "cell_id": "7f5c9c81-38e1-4148-b5c7-b299b360402d",
    "deepnote_cell_height": 634,
    "deepnote_cell_type": "code",
    "deepnote_to_be_reexecuted": false,
    "execution_millis": 312,
    "execution_start": 1644596963009,
    "source_hash": "17461909",
    "tags": []
   },
   "outputs": [
    {
     "data": {
      "text/html": [
       "<div>\n",
       "<style scoped>\n",
       "    .dataframe tbody tr th:only-of-type {\n",
       "        vertical-align: middle;\n",
       "    }\n",
       "\n",
       "    .dataframe tbody tr th {\n",
       "        vertical-align: top;\n",
       "    }\n",
       "\n",
       "    .dataframe thead th {\n",
       "        text-align: right;\n",
       "    }\n",
       "</style>\n",
       "<table border=\"1\" class=\"dataframe\">\n",
       "  <thead>\n",
       "    <tr style=\"text-align: right;\">\n",
       "      <th></th>\n",
       "      <th>index</th>\n",
       "      <th>event_timestamp</th>\n",
       "      <th>driver_id</th>\n",
       "      <th>created</th>\n",
       "      <th>avg_daily_trips</th>\n",
       "      <th>rate_1m</th>\n",
       "      <th>avg_speed</th>\n",
       "    </tr>\n",
       "  </thead>\n",
       "  <tbody>\n",
       "    <tr>\n",
       "      <th>0</th>\n",
       "      <td>0.0</td>\n",
       "      <td>2020-02-10 00:00:00</td>\n",
       "      <td>1001</td>\n",
       "      <td>2022-02-16 16:17:56.446774</td>\n",
       "      <td>25</td>\n",
       "      <td>3</td>\n",
       "      <td>16.87</td>\n",
       "    </tr>\n",
       "    <tr>\n",
       "      <th>1</th>\n",
       "      <td>0.0</td>\n",
       "      <td>2020-02-10 00:00:00</td>\n",
       "      <td>1002</td>\n",
       "      <td>2022-02-16 16:17:56.446774</td>\n",
       "      <td>35</td>\n",
       "      <td>1</td>\n",
       "      <td>20.21</td>\n",
       "    </tr>\n",
       "    <tr>\n",
       "      <th>2</th>\n",
       "      <td>1.0</td>\n",
       "      <td>2020-02-10 01:00:00</td>\n",
       "      <td>1001</td>\n",
       "      <td>2022-02-16 16:17:56.446774</td>\n",
       "      <td>19</td>\n",
       "      <td>4</td>\n",
       "      <td>20.77</td>\n",
       "    </tr>\n",
       "    <tr>\n",
       "      <th>3</th>\n",
       "      <td>1.0</td>\n",
       "      <td>2020-02-10 01:00:00</td>\n",
       "      <td>1002</td>\n",
       "      <td>2022-02-16 16:17:56.446774</td>\n",
       "      <td>29</td>\n",
       "      <td>3</td>\n",
       "      <td>19.20</td>\n",
       "    </tr>\n",
       "    <tr>\n",
       "      <th>4</th>\n",
       "      <td>2.0</td>\n",
       "      <td>2020-02-10 02:00:00</td>\n",
       "      <td>1001</td>\n",
       "      <td>2022-02-16 16:17:56.446774</td>\n",
       "      <td>31</td>\n",
       "      <td>3</td>\n",
       "      <td>17.41</td>\n",
       "    </tr>\n",
       "    <tr>\n",
       "      <th>...</th>\n",
       "      <td>...</td>\n",
       "      <td>...</td>\n",
       "      <td>...</td>\n",
       "      <td>...</td>\n",
       "      <td>...</td>\n",
       "      <td>...</td>\n",
       "      <td>...</td>\n",
       "    </tr>\n",
       "    <tr>\n",
       "      <th>331</th>\n",
       "      <td>165.0</td>\n",
       "      <td>2020-02-16 21:00:00</td>\n",
       "      <td>1002</td>\n",
       "      <td>2022-02-16 16:17:56.446774</td>\n",
       "      <td>3</td>\n",
       "      <td>5</td>\n",
       "      <td>16.27</td>\n",
       "    </tr>\n",
       "    <tr>\n",
       "      <th>332</th>\n",
       "      <td>166.0</td>\n",
       "      <td>2020-02-16 22:00:00</td>\n",
       "      <td>1001</td>\n",
       "      <td>2022-02-16 16:17:56.446774</td>\n",
       "      <td>6</td>\n",
       "      <td>1</td>\n",
       "      <td>21.68</td>\n",
       "    </tr>\n",
       "    <tr>\n",
       "      <th>333</th>\n",
       "      <td>166.0</td>\n",
       "      <td>2020-02-16 22:00:00</td>\n",
       "      <td>1002</td>\n",
       "      <td>2022-02-16 16:17:56.446774</td>\n",
       "      <td>0</td>\n",
       "      <td>2</td>\n",
       "      <td>20.90</td>\n",
       "    </tr>\n",
       "    <tr>\n",
       "      <th>334</th>\n",
       "      <td>167.0</td>\n",
       "      <td>2020-02-16 23:00:00</td>\n",
       "      <td>1001</td>\n",
       "      <td>2022-02-16 16:17:56.446774</td>\n",
       "      <td>0</td>\n",
       "      <td>2</td>\n",
       "      <td>23.75</td>\n",
       "    </tr>\n",
       "    <tr>\n",
       "      <th>335</th>\n",
       "      <td>167.0</td>\n",
       "      <td>2020-02-16 23:00:00</td>\n",
       "      <td>1002</td>\n",
       "      <td>2022-02-16 16:17:56.446774</td>\n",
       "      <td>4</td>\n",
       "      <td>3</td>\n",
       "      <td>18.91</td>\n",
       "    </tr>\n",
       "  </tbody>\n",
       "</table>\n",
       "<p>312 rows × 7 columns</p>\n",
       "</div>"
      ],
      "text/plain": [
       "     index     event_timestamp  driver_id                    created  \\\n",
       "0      0.0 2020-02-10 00:00:00       1001 2022-02-16 16:17:56.446774   \n",
       "1      0.0 2020-02-10 00:00:00       1002 2022-02-16 16:17:56.446774   \n",
       "2      1.0 2020-02-10 01:00:00       1001 2022-02-16 16:17:56.446774   \n",
       "3      1.0 2020-02-10 01:00:00       1002 2022-02-16 16:17:56.446774   \n",
       "4      2.0 2020-02-10 02:00:00       1001 2022-02-16 16:17:56.446774   \n",
       "..     ...                 ...        ...                        ...   \n",
       "331  165.0 2020-02-16 21:00:00       1002 2022-02-16 16:17:56.446774   \n",
       "332  166.0 2020-02-16 22:00:00       1001 2022-02-16 16:17:56.446774   \n",
       "333  166.0 2020-02-16 22:00:00       1002 2022-02-16 16:17:56.446774   \n",
       "334  167.0 2020-02-16 23:00:00       1001 2022-02-16 16:17:56.446774   \n",
       "335  167.0 2020-02-16 23:00:00       1002 2022-02-16 16:17:56.446774   \n",
       "\n",
       "     avg_daily_trips  rate_1m  avg_speed  \n",
       "0                 25        3      16.87  \n",
       "1                 35        1      20.21  \n",
       "2                 19        4      20.77  \n",
       "3                 29        3      19.20  \n",
       "4                 31        3      17.41  \n",
       "..               ...      ...        ...  \n",
       "331                3        5      16.27  \n",
       "332                6        1      21.68  \n",
       "333                0        2      20.90  \n",
       "334                0        2      23.75  \n",
       "335                4        3      18.91  \n",
       "\n",
       "[312 rows x 7 columns]"
      ]
     },
     "execution_count": 7,
     "metadata": {},
     "output_type": "execute_result"
    }
   ],
   "source": [
    "import pandas as pd\n",
    "\n",
    "pd.read_parquet(\"data/driver_stats.parquet\")"
   ]
  },
  {
   "cell_type": "markdown",
   "metadata": {
    "cell_id": "b3e8d011-dcb0-4943-b991-5c48cd276f9e",
    "deepnote_cell_height": 82,
    "deepnote_cell_type": "markdown",
    "tags": []
   },
   "source": [
    "# Registering feature definitions and deploying your feature store"
   ]
  },
  {
   "cell_type": "code",
   "execution_count": 8,
   "metadata": {
    "cell_id": "c7e6cf46-41bf-46df-8322-4829e00089e6",
    "deepnote_cell_height": 132.375,
    "deepnote_cell_type": "code",
    "deepnote_to_be_reexecuted": false,
    "execution_millis": 3388,
    "execution_start": 1645028504756,
    "source_hash": "109b5466",
    "tags": []
   },
   "outputs": [
    {
     "name": "stdout",
     "output_type": "stream",
     "text": [
      "Created entity \u001b[1m\u001b[32mdriver_id\u001b[0m\n",
      "Created feature view \u001b[1m\u001b[32mdriver_hourly_stats\u001b[0m\n"
     ]
    }
   ],
   "source": [
    "!feast apply"
   ]
  },
  {
   "cell_type": "markdown",
   "metadata": {
    "cell_id": "e043e469-5beb-4a6b-9f56-fdd56197c457",
    "deepnote_cell_height": 82,
    "deepnote_cell_type": "markdown",
    "tags": []
   },
   "source": [
    "# Additional Transformations"
   ]
  },
  {
   "cell_type": "markdown",
   "metadata": {
    "cell_id": "4f5be4b6-fe9e-40c4-bd69-ce0cebb6d4e1",
    "deepnote_cell_height": 74.78125,
    "deepnote_cell_type": "markdown",
    "tags": []
   },
   "source": [
    "The real dataset doesn't contain information regarding the taxi driver that conducted the ride. Since our goal is to enrich the dataset with driver features from an external data source, we will create a `driver_id` column. For simplicity, let's consider that this dataset contains ride information of only 2 drivers (IDs `1001` and `1002`)"
   ]
  },
  {
   "cell_type": "code",
   "execution_count": null,
   "metadata": {
    "cell_id": "4d11dc9b-73b9-4e37-9adf-c84ea5c8c0da",
    "deepnote_cell_height": 307,
    "deepnote_cell_type": "code",
    "deepnote_output_heights": [
     156
    ],
    "deepnote_to_be_reexecuted": false,
    "execution_millis": 202,
    "execution_start": 1645028519574,
    "source_hash": "519c0c34",
    "tags": []
   },
   "outputs": [
    {
     "data": {
      "text/plain": [
       "pickup_weekday                   int64\n",
       "passenger_count                float64\n",
       "trip_distance                  float64\n",
       "PULocationID                     int64\n",
       "high_tip_indicator                bool\n",
       "tpep_pickup_datetime    datetime64[ns]\n",
       "pickup_date                     object\n",
       "dtype: object"
      ]
     },
     "execution_count": 22,
     "metadata": {},
     "output_type": "execute_result"
    }
   ],
   "source": [
    "import pandas as pd\n",
    "\n",
    "rides_df = pd.read_parquet('data/nyc_taxi_rides_feb_2020.parquet')\n",
    "rides_df.dtypes"
   ]
  },
  {
   "cell_type": "code",
   "execution_count": null,
   "metadata": {
    "cell_id": "f3856ea3-97aa-4a05-8f8f-c05c37e7d143",
    "deepnote_cell_height": 99,
    "deepnote_cell_type": "code",
    "deepnote_to_be_reexecuted": false,
    "execution_millis": 6,
    "execution_start": 1645028524538,
    "source_hash": "77077597",
    "tags": []
   },
   "outputs": [],
   "source": [
    "import numpy as np\n",
    "rides_df['driver_id'] = np.random.randint(1001, 1003, rides_df.shape[0])"
   ]
  },
  {
   "cell_type": "markdown",
   "metadata": {
    "cell_id": "0bc7c4e0-f344-4c9d-9f6f-8e7b6b7d4139",
    "deepnote_cell_height": 82,
    "deepnote_cell_type": "markdown",
    "tags": []
   },
   "source": [
    "# Features: Load, Fetch and Log"
   ]
  },
  {
   "cell_type": "markdown",
   "metadata": {
    "cell_id": "500d0a8f-11f3-4e7b-b65c-aa4b6adb6c7d",
    "deepnote_cell_height": 201.34375,
    "deepnote_cell_type": "markdown",
    "tags": []
   },
   "source": [
    "We will iterate on `rides_df`, where each row represents a point in time in which we will request a prediction. For each request, we will:\n",
    "\n",
    "- Materialize latest features into our online feature store\n",
    "- Get features from the online feature store\n",
    "- Join the features from the online store (driver features) with ride features\n",
    "- Log features with whylogs into a profile\n",
    "\n",
    "We'll consider that the __materialization__ job is run hourly. To simulate that, we will call __materialize__ for the last rounded hour, based on the request's timestamp `tpep_pickup_datetime`."
   ]
  },
  {
   "cell_type": "code",
   "execution_count": null,
   "metadata": {
    "cell_id": "6b44ecc2-e8a3-4068-8dd5-ac149c3f28ea",
    "deepnote_cell_height": 1799,
    "deepnote_cell_type": "code",
    "deepnote_to_be_reexecuted": false,
    "execution_millis": 79479,
    "execution_start": 1644597331774,
    "source_hash": "9dbe7dc0",
    "tags": []
   },
   "outputs": [
    {
     "name": "stdout",
     "output_type": "stream",
     "text": [
      " 'driver_rate_1m': 2,\n",
      " 'passenger_count': 1.0,\n",
      " 'pickup_weekday': 0,\n",
      " 'trip_distance': 0.28}\n",
      "######################################################\n",
      "request timestmap>>\n",
      "2020-02-10 10:25:41\n",
      "{'PULocationID': 90,\n",
      " 'driver_avg_daily_trips': 28,\n",
      " 'driver_avg_speed': 16.93000030517578,\n",
      " 'driver_rate_1m': 2,\n",
      " 'passenger_count': 1.0,\n",
      " 'pickup_weekday': 0,\n",
      " 'trip_distance': 0.41}\n",
      "######################################################\n",
      "request timestmap>>\n",
      "2020-02-10 10:43:01\n",
      "{'PULocationID': 68,\n",
      " 'driver_avg_daily_trips': 30,\n",
      " 'driver_avg_speed': 19.729999542236328,\n",
      " 'driver_rate_1m': 2,\n",
      " 'passenger_count': 1.0,\n",
      " 'pickup_weekday': 0,\n",
      " 'trip_distance': 4.04}\n",
      "######################################################\n",
      "request timestmap>>\n",
      "2020-02-10 10:43:35\n",
      "{'PULocationID': 158,\n",
      " 'driver_avg_daily_trips': 30,\n",
      " 'driver_avg_speed': 19.729999542236328,\n",
      " 'driver_rate_1m': 2,\n",
      " 'passenger_count': 1.0,\n",
      " 'pickup_weekday': 0,\n",
      " 'trip_distance': 1.2}\n",
      "######################################################\n",
      "request timestmap>>\n",
      "2020-02-10 10:53:06\n",
      "{'PULocationID': 151,\n",
      " 'driver_avg_daily_trips': 30,\n",
      " 'driver_avg_speed': 19.729999542236328,\n",
      " 'driver_rate_1m': 2,\n",
      " 'passenger_count': 1.0,\n",
      " 'pickup_weekday': 0,\n",
      " 'trip_distance': 1.24}\n",
      "######################################################\n",
      "request timestmap>>\n",
      "2020-02-10 11:21:07\n",
      "Materializing \u001b[1m\u001b[32m1\u001b[0m feature views from \u001b[1m\u001b[32m2020-02-10 10:00:00+00:00\u001b[0m to \u001b[1m\u001b[32m2020-02-10 11:00:00+00:00\u001b[0m into the \u001b[1m\u001b[32msqlite\u001b[0m online store.\n",
      "\n",
      "\u001b[1m\u001b[32mdriver_hourly_stats\u001b[0m:\n",
      "100%|█████████████████████████████████████████████████████████████████| 2/2 [00:00<00:00, 94.02it/s]\n",
      "{'PULocationID': 143,\n",
      " 'driver_avg_daily_trips': 22,\n",
      " 'driver_avg_speed': 26.040000915527344,\n",
      " 'driver_rate_1m': 2,\n",
      " 'passenger_count': 1.0,\n",
      " 'pickup_weekday': 0,\n",
      " 'trip_distance': 0.39}\n",
      "######################################################\n",
      "request timestmap>>\n",
      "2020-02-10 11:45:06\n",
      "{'PULocationID': 164,\n",
      " 'driver_avg_daily_trips': 27,\n",
      " 'driver_avg_speed': 17.690000534057617,\n",
      " 'driver_rate_1m': 2,\n",
      " 'passenger_count': 1.0,\n",
      " 'pickup_weekday': 0,\n",
      " 'trip_distance': 1.9}\n",
      "######################################################\n",
      "request timestmap>>\n",
      "2020-02-10 11:49:16\n",
      "{'PULocationID': 68,\n",
      " 'driver_avg_daily_trips': 22,\n",
      " 'driver_avg_speed': 26.040000915527344,\n",
      " 'driver_rate_1m': 2,\n",
      " 'passenger_count': 4.0,\n",
      " 'pickup_weekday': 0,\n",
      " 'trip_distance': 2.1}\n",
      "######################################################\n",
      "request timestmap>>\n",
      "2020-02-10 11:49:45\n",
      "{'PULocationID': 132,\n",
      " 'driver_avg_daily_trips': 27,\n",
      " 'driver_avg_speed': 17.690000534057617,\n",
      " 'driver_rate_1m': 2,\n",
      " 'passenger_count': 1.0,\n",
      " 'pickup_weekday': 0,\n",
      " 'trip_distance': 7.38}\n",
      "######################################################\n",
      "request timestmap>>\n",
      "2020-02-10 11:53:41\n",
      "{'PULocationID': 113,\n",
      " 'driver_avg_daily_trips': 22,\n",
      " 'driver_avg_speed': 26.040000915527344,\n",
      " 'driver_rate_1m': 2,\n",
      " 'passenger_count': 1.0,\n",
      " 'pickup_weekday': 0,\n",
      " 'trip_distance': 2.9}\n",
      "######################################################\n",
      "request timestmap>>\n",
      "2020-02-10 12:02:06\n",
      "Materializing \u001b[1m\u001b[32m1\u001b[0m feature views from \u001b[1m\u001b[32m2020-02-10 11:00:00+00:00\u001b[0m to \u001b[1m\u001b[32m2020-02-10 12:00:00+00:00\u001b[0m into the \u001b[1m\u001b[32msqlite\u001b[0m online store.\n",
      "\n",
      "\u001b[1m\u001b[32mdriver_hourly_stats\u001b[0m:\n",
      "100%|█████████████████████████████████████████████████████████████████| 2/2 [00:00<00:00, 49.53it/s]\n",
      "{'PULocationID': 132,\n",
      " 'driver_avg_daily_trips': 36,\n",
      " 'driver_avg_speed': 18.81999969482422,\n",
      " 'driver_rate_1m': 1,\n",
      " 'passenger_count': 1.0,\n",
      " 'pickup_weekday': 0,\n",
      " 'trip_distance': 16.43}\n",
      "######################################################\n",
      "request timestmap>>\n",
      "2020-02-10 12:03:03\n",
      "{'PULocationID': 170,\n",
      " 'driver_avg_daily_trips': 28,\n",
      " 'driver_avg_speed': 20.420000076293945,\n",
      " 'driver_rate_1m': 3,\n",
      " 'passenger_count': 6.0,\n",
      " 'pickup_weekday': 0,\n",
      " 'trip_distance': 1.03}\n",
      "######################################################\n",
      "request timestmap>>\n",
      "2020-02-10 12:14:49\n",
      "{'PULocationID': 87,\n",
      " 'driver_avg_daily_trips': 28,\n",
      " 'driver_avg_speed': 20.420000076293945,\n",
      " 'driver_rate_1m': 3,\n",
      " 'passenger_count': 1.0,\n",
      " 'pickup_weekday': 0,\n",
      " 'trip_distance': 2.3}\n",
      "######################################################\n",
      "request timestmap>>\n",
      "2020-02-10 12:16:05\n",
      "{'PULocationID': 138,\n",
      " 'driver_avg_daily_trips': 36,\n",
      " 'driver_avg_speed': 18.81999969482422,\n",
      " 'driver_rate_1m': 1,\n",
      " 'passenger_count': 1.0,\n",
      " 'pickup_weekday': 0,\n",
      " 'trip_distance': 1.74}\n",
      "######################################################\n",
      "request timestmap>>\n",
      "2020-02-10 12:18:20\n",
      "{'PULocationID': 162,\n",
      " 'driver_avg_daily_trips': 28,\n",
      " 'driver_avg_speed': 20.420000076293945,\n",
      " 'driver_rate_1m': 3,\n",
      " 'passenger_count': 2.0,\n",
      " 'pickup_weekday': 0,\n",
      " 'trip_distance': 1.26}\n",
      "######################################################\n",
      "request timestmap>>\n",
      "2020-02-10 12:48:34\n",
      "{'PULocationID': 170,\n",
      " 'driver_avg_daily_trips': 28,\n",
      " 'driver_avg_speed': 20.420000076293945,\n",
      " 'driver_rate_1m': 3,\n",
      " 'passenger_count': 1.0,\n",
      " 'pickup_weekday': 0,\n",
      " 'trip_distance': 0.0}\n",
      "######################################################\n",
      "request timestmap>>\n",
      "2020-02-10 13:00:44\n",
      "Materializing \u001b[1m\u001b[32m1\u001b[0m feature views from \u001b[1m\u001b[32m2020-02-10 12:00:00+00:00\u001b[0m to \u001b[1m\u001b[32m2020-02-10 13:00:00+00:00\u001b[0m into the \u001b[1m\u001b[32msqlite\u001b[0m online store.\n",
      "\n",
      "\u001b[1m\u001b[32mdriver_hourly_stats\u001b[0m:\n",
      "100%|█████████████████████████████████████████████████████████████████| 2/2 [00:00<00:00, 94.14it/s]\n",
      "{'PULocationID': 239,\n",
      " 'driver_avg_daily_trips': 31,\n",
      " 'driver_avg_speed': 21.610000610351562,\n",
      " 'driver_rate_1m': 4,\n",
      " 'passenger_count': 1.0,\n",
      " 'pickup_weekday': 0,\n",
      " 'trip_distance': 2.04}\n",
      "######################################################\n",
      "request timestmap>>\n",
      "2020-02-10 13:03:06\n",
      "{'PULocationID': 237,\n",
      " 'driver_avg_daily_trips': 21,\n",
      " 'driver_avg_speed': 24.110000610351562,\n",
      " 'driver_rate_1m': 2,\n",
      " 'passenger_count': 1.0,\n",
      " 'pickup_weekday': 0,\n",
      " 'trip_distance': 2.38}\n",
      "######################################################\n",
      "request timestmap>>\n",
      "2020-02-10 13:11:17\n",
      "{'PULocationID': 236,\n",
      " 'driver_avg_daily_trips': 21,\n",
      " 'driver_avg_speed': 24.110000610351562,\n",
      " 'driver_rate_1m': 2,\n",
      " 'passenger_count': 0.0,\n",
      " 'pickup_weekday': 0,\n",
      " 'trip_distance': 0.9}\n",
      "######################################################\n",
      "request timestmap>>\n",
      "2020-02-10 13:18:25\n",
      "{'PULocationID': 100,\n",
      " 'driver_avg_daily_trips': 31,\n",
      " 'driver_avg_speed': 21.610000610351562,\n",
      " 'driver_rate_1m': 4,\n",
      " 'passenger_count': 1.0,\n",
      " 'pickup_weekday': 0,\n",
      " 'trip_distance': 0.28}\n",
      "######################################################\n",
      "request timestmap>>\n",
      "2020-02-10 13:18:30\n",
      "{'PULocationID': 158,\n",
      " 'driver_avg_daily_trips': 31,\n",
      " 'driver_avg_speed': 21.610000610351562,\n",
      " 'driver_rate_1m': 4,\n",
      " 'passenger_count': 1.0,\n",
      " 'pickup_weekday': 0,\n",
      " 'trip_distance': 2.3}\n",
      "######################################################\n",
      "request timestmap>>\n",
      "2020-02-10 13:39:26\n",
      "{'PULocationID': 234,\n",
      " 'driver_avg_daily_trips': 31,\n",
      " 'driver_avg_speed': 21.610000610351562,\n",
      " 'driver_rate_1m': 4,\n",
      " 'passenger_count': 2.0,\n",
      " 'pickup_weekday': 0,\n",
      " 'trip_distance': 1.82}\n",
      "######################################################\n",
      "request timestmap>>\n",
      "2020-02-10 13:48:57\n",
      "{'PULocationID': 237,\n",
      " 'driver_avg_daily_trips': 21,\n",
      " 'driver_avg_speed': 24.110000610351562,\n",
      " 'driver_rate_1m': 2,\n",
      " 'passenger_count': 1.0,\n",
      " 'pickup_weekday': 0,\n",
      " 'trip_distance': 0.7}\n",
      "######################################################\n",
      "request timestmap>>\n",
      "2020-02-10 13:50:40\n",
      "{'PULocationID': 162,\n",
      " 'driver_avg_daily_trips': 31,\n",
      " 'driver_avg_speed': 21.610000610351562,\n",
      " 'driver_rate_1m': 4,\n",
      " 'passenger_count': 1.0,\n",
      " 'pickup_weekday': 0,\n",
      " 'trip_distance': 1.17}\n",
      "######################################################\n",
      "request timestmap>>\n",
      "2020-02-10 14:02:34\n",
      "Materializing \u001b[1m\u001b[32m1\u001b[0m feature views from \u001b[1m\u001b[32m2020-02-10 13:00:00+00:00\u001b[0m to \u001b[1m\u001b[32m2020-02-10 14:00:00+00:00\u001b[0m into the \u001b[1m\u001b[32msqlite\u001b[0m online store.\n",
      "\n",
      "\u001b[1m\u001b[32mdriver_hourly_stats\u001b[0m:\n",
      "100%|█████████████████████████████████████████████████████████████████| 2/2 [00:00<00:00, 72.70it/s]\n",
      "{'PULocationID': 138,\n",
      " 'driver_avg_daily_trips': 28,\n",
      " 'driver_avg_speed': 18.809999465942383,\n",
      " 'driver_rate_1m': 2,\n",
      " 'passenger_count': 1.0,\n",
      " 'pickup_weekday': 0,\n",
      " 'trip_distance': 11.32}\n",
      "######################################################\n",
      "request timestmap>>\n",
      "2020-02-10 14:11:54\n",
      "{'PULocationID': 236,\n",
      " 'driver_avg_daily_trips': 26,\n",
      " 'driver_avg_speed': 33.34000015258789,\n",
      " 'driver_rate_1m': 3,\n",
      " 'passenger_count': 1.0,\n",
      " 'pickup_weekday': 0,\n",
      " 'trip_distance': 2.14}\n",
      "######################################################\n",
      "request timestmap>>\n",
      "2020-02-10 14:17:55\n",
      "{'PULocationID': 151,\n",
      " 'driver_avg_daily_trips': 26,\n",
      " 'driver_avg_speed': 33.34000015258789,\n",
      " 'driver_rate_1m': 3,\n",
      " 'passenger_count': 2.0,\n",
      " 'pickup_weekday': 0,\n",
      " 'trip_distance': 0.4}\n",
      "######################################################\n",
      "request timestmap>>\n",
      "2020-02-10 14:22:46\n",
      "{'PULocationID': 161,\n",
      " 'driver_avg_daily_trips': 26,\n",
      " 'driver_avg_speed': 33.34000015258789,\n",
      " 'driver_rate_1m': 3,\n",
      " 'passenger_count': 5.0,\n",
      " 'pickup_weekday': 0,\n",
      " 'trip_distance': 0.57}\n",
      "######################################################\n",
      "request timestmap>>\n",
      "2020-02-10 14:32:20\n",
      "{'PULocationID': 161,\n",
      " 'driver_avg_daily_trips': 28,\n",
      " 'driver_avg_speed': 18.809999465942383,\n",
      " 'driver_rate_1m': 2,\n",
      " 'passenger_count': 1.0,\n",
      " 'pickup_weekday': 0,\n",
      " 'trip_distance': 0.6}\n",
      "######################################################\n",
      "request timestmap>>\n",
      "2020-02-10 14:33:41\n",
      "{'PULocationID': 142,\n",
      " 'driver_avg_daily_trips': 26,\n",
      " 'driver_avg_speed': 33.34000015258789,\n",
      " 'driver_rate_1m': 3,\n",
      " 'passenger_count': 1.0,\n",
      " 'pickup_weekday': 0,\n",
      " 'trip_distance': 3.0}\n",
      "######################################################\n",
      "request timestmap>>\n",
      "2020-02-10 14:46:01\n",
      "{'PULocationID': 161,\n",
      " 'driver_avg_daily_trips': 28,\n",
      " 'driver_avg_speed': 18.809999465942383,\n",
      " 'driver_rate_1m': 2,\n",
      " 'passenger_count': 1.0,\n",
      " 'pickup_weekday': 0,\n",
      " 'trip_distance': 3.68}\n",
      "######################################################\n",
      "request timestmap>>\n",
      "2020-02-10 14:47:55\n",
      "{'PULocationID': 162,\n",
      " 'driver_avg_daily_trips': 26,\n",
      " 'driver_avg_speed': 33.34000015258789,\n",
      " 'driver_rate_1m': 3,\n",
      " 'passenger_count': 2.0,\n",
      " 'pickup_weekday': 0,\n",
      " 'trip_distance': 1.1}\n",
      "######################################################\n",
      "request timestmap>>\n",
      "2020-02-10 15:07:15\n",
      "Materializing \u001b[1m\u001b[32m1\u001b[0m feature views from \u001b[1m\u001b[32m2020-02-10 14:00:00+00:00\u001b[0m to \u001b[1m\u001b[32m2020-02-10 15:00:00+00:00\u001b[0m into the \u001b[1m\u001b[32msqlite\u001b[0m online store.\n",
      "\n",
      "\u001b[1m\u001b[32mdriver_hourly_stats\u001b[0m:\n",
      "100%|█████████████████████████████████████████████████████████████████| 2/2 [00:00<00:00, 86.47it/s]\n",
      "{'PULocationID': 237,\n",
      " 'driver_avg_daily_trips': 40,\n",
      " 'driver_avg_speed': 19.56999969482422,\n",
      " 'driver_rate_1m': 2,\n",
      " 'passenger_count': 1.0,\n",
      " 'pickup_weekday': 0,\n",
      " 'trip_distance': 1.75}\n",
      "######################################################\n",
      "request timestmap>>\n",
      "2020-02-10 15:10:58\n",
      "{'PULocationID': 238,\n",
      " 'driver_avg_daily_trips': 31,\n",
      " 'driver_avg_speed': 20.329999923706055,\n",
      " 'driver_rate_1m': 2,\n",
      " 'passenger_count': 1.0,\n",
      " 'pickup_weekday': 0,\n",
      " 'trip_distance': 1.46}\n",
      "######################################################\n",
      "request timestmap>>\n",
      "2020-02-10 15:45:12\n",
      "{'PULocationID': 236,\n",
      " 'driver_avg_daily_trips': 40,\n",
      " 'driver_avg_speed': 19.56999969482422,\n",
      " 'driver_rate_1m': 2,\n",
      " 'passenger_count': 2.0,\n",
      " 'pickup_weekday': 0,\n",
      " 'trip_distance': 0.3}\n",
      "######################################################\n",
      "request timestmap>>\n",
      "2020-02-10 15:48:34\n",
      "{'PULocationID': 236,\n",
      " 'driver_avg_daily_trips': 31,\n",
      " 'driver_avg_speed': 20.329999923706055,\n",
      " 'driver_rate_1m': 2,\n",
      " 'passenger_count': 1.0,\n",
      " 'pickup_weekday': 0,\n",
      " 'trip_distance': 0.5}\n",
      "######################################################\n",
      "request timestmap>>\n",
      "2020-02-10 15:50:26\n",
      "{'PULocationID': 261,\n",
      " 'driver_avg_daily_trips': 40,\n",
      " 'driver_avg_speed': 19.56999969482422,\n",
      " 'driver_rate_1m': 2,\n",
      " 'passenger_count': 2.0,\n",
      " 'pickup_weekday': 0,\n",
      " 'trip_distance': 2.47}\n",
      "######################################################\n",
      "request timestmap>>\n",
      "2020-02-10 16:09:41\n",
      "Materializing \u001b[1m\u001b[32m1\u001b[0m feature views from \u001b[1m\u001b[32m2020-02-10 15:00:00+00:00\u001b[0m to \u001b[1m\u001b[32m2020-02-10 16:00:00+00:00\u001b[0m into the \u001b[1m\u001b[32msqlite\u001b[0m online store.\n",
      "\n",
      "\u001b[1m\u001b[32mdriver_hourly_stats\u001b[0m:\n",
      "100%|█████████████████████████████████████████████████████████████████| 2/2 [00:00<00:00, 68.17it/s]\n",
      "{'PULocationID': 48,\n",
      " 'driver_avg_daily_trips': 35,\n",
      " 'driver_avg_speed': 19.809999465942383,\n",
      " 'driver_rate_1m': 2,\n",
      " 'passenger_count': 1.0,\n",
      " 'pickup_weekday': 0,\n",
      " 'trip_distance': 3.3}\n",
      "######################################################\n",
      "request timestmap>>\n",
      "2020-02-10 16:15:01\n",
      "{'PULocationID': 43,\n",
      " 'driver_avg_daily_trips': 35,\n",
      " 'driver_avg_speed': 19.809999465942383,\n",
      " 'driver_rate_1m': 2,\n",
      " 'passenger_count': 1.0,\n",
      " 'pickup_weekday': 0,\n",
      " 'trip_distance': 2.12}\n",
      "######################################################\n",
      "request timestmap>>\n",
      "2020-02-10 16:34:48\n",
      "{'PULocationID': 43,\n",
      " 'driver_avg_daily_trips': 35,\n",
      " 'driver_avg_speed': 19.809999465942383,\n",
      " 'driver_rate_1m': 2,\n",
      " 'passenger_count': 1.0,\n",
      " 'pickup_weekday': 0,\n",
      " 'trip_distance': 8.2}\n",
      "######################################################\n",
      "request timestmap>>\n",
      "2020-02-10 16:35:55\n",
      "{'PULocationID': 237,\n",
      " 'driver_avg_daily_trips': 33,\n",
      " 'driver_avg_speed': 20.110000610351562,\n",
      " 'driver_rate_1m': 2,\n",
      " 'passenger_count': 4.0,\n",
      " 'pickup_weekday': 0,\n",
      " 'trip_distance': 1.48}\n",
      "######################################################\n",
      "request timestmap>>\n",
      "2020-02-10 16:36:48\n",
      "{'PULocationID': 263,\n",
      " 'driver_avg_daily_trips': 33,\n",
      " 'driver_avg_speed': 20.110000610351562,\n",
      " 'driver_rate_1m': 2,\n",
      " 'passenger_count': 1.0,\n",
      " 'pickup_weekday': 0,\n",
      " 'trip_distance': 2.71}\n",
      "######################################################\n",
      "request timestmap>>\n",
      "2020-02-10 16:39:01\n",
      "{'PULocationID': 13,\n",
      " 'driver_avg_daily_trips': 35,\n",
      " 'driver_avg_speed': 19.809999465942383,\n",
      " 'driver_rate_1m': 2,\n",
      " 'passenger_count': 2.0,\n",
      " 'pickup_weekday': 0,\n",
      " 'trip_distance': 6.15}\n",
      "######################################################\n",
      "request timestmap>>\n",
      "2020-02-10 16:54:53\n",
      "{'PULocationID': 236,\n",
      " 'driver_avg_daily_trips': 35,\n",
      " 'driver_avg_speed': 19.809999465942383,\n",
      " 'driver_rate_1m': 2,\n",
      " 'passenger_count': 3.0,\n",
      " 'pickup_weekday': 0,\n",
      " 'trip_distance': 0.6}\n",
      "######################################################\n",
      "request timestmap>>\n",
      "2020-02-10 16:56:48\n",
      "{'PULocationID': 239,\n",
      " 'driver_avg_daily_trips': 33,\n",
      " 'driver_avg_speed': 20.110000610351562,\n",
      " 'driver_rate_1m': 2,\n",
      " 'passenger_count': 4.0,\n",
      " 'pickup_weekday': 0,\n",
      " 'trip_distance': 1.17}\n",
      "######################################################\n",
      "request timestmap>>\n",
      "2020-02-10 17:09:03\n",
      "Materializing \u001b[1m\u001b[32m1\u001b[0m feature views from \u001b[1m\u001b[32m2020-02-10 16:00:00+00:00\u001b[0m to \u001b[1m\u001b[32m2020-02-10 17:00:00+00:00\u001b[0m into the \u001b[1m\u001b[32msqlite\u001b[0m online store.\n",
      "\n",
      "\u001b[1m\u001b[32mdriver_hourly_stats\u001b[0m:\n",
      "100%|█████████████████████████████████████████████████████████████████| 2/2 [00:00<00:00, 80.69it/s]\n",
      "{'PULocationID': 43,\n",
      " 'driver_avg_daily_trips': 24,\n",
      " 'driver_avg_speed': 25.020000457763672,\n",
      " 'driver_rate_1m': 1,\n",
      " 'passenger_count': 1.0,\n",
      " 'pickup_weekday': 0,\n",
      " 'trip_distance': 2.0}\n",
      "######################################################\n",
      "request timestmap>>\n",
      "2020-02-10 17:10:21\n",
      "{'PULocationID': 138,\n",
      " 'driver_avg_daily_trips': 27,\n",
      " 'driver_avg_speed': 20.760000228881836,\n",
      " 'driver_rate_1m': 2,\n",
      " 'passenger_count': 1.0,\n",
      " 'pickup_weekday': 0,\n",
      " 'trip_distance': 7.92}\n",
      "######################################################\n",
      "request timestmap>>\n",
      "2020-02-10 17:25:49\n",
      "{'PULocationID': 142,\n",
      " 'driver_avg_daily_trips': 24,\n",
      " 'driver_avg_speed': 25.020000457763672,\n",
      " 'driver_rate_1m': 1,\n",
      " 'passenger_count': 1.0,\n",
      " 'pickup_weekday': 0,\n",
      " 'trip_distance': 1.02}\n",
      "######################################################\n",
      "request timestmap>>\n",
      "2020-02-10 17:30:25\n",
      "{'PULocationID': 236,\n",
      " 'driver_avg_daily_trips': 24,\n",
      " 'driver_avg_speed': 25.020000457763672,\n",
      " 'driver_rate_1m': 1,\n",
      " 'passenger_count': 3.0,\n",
      " 'pickup_weekday': 0,\n",
      " 'trip_distance': 3.77}\n",
      "######################################################\n",
      "request timestmap>>\n",
      "2020-02-10 17:38:03\n",
      "{'PULocationID': 48,\n",
      " 'driver_avg_daily_trips': 24,\n",
      " 'driver_avg_speed': 25.020000457763672,\n",
      " 'driver_rate_1m': 1,\n",
      " 'passenger_count': 1.0,\n",
      " 'pickup_weekday': 0,\n",
      " 'trip_distance': 0.8}\n",
      "######################################################\n",
      "request timestmap>>\n",
      "2020-02-10 17:40:27\n",
      "{'PULocationID': 262,\n",
      " 'driver_avg_daily_trips': 24,\n",
      " 'driver_avg_speed': 25.020000457763672,\n",
      " 'driver_rate_1m': 1,\n",
      " 'passenger_count': 2.0,\n",
      " 'pickup_weekday': 0,\n",
      " 'trip_distance': 2.0}\n",
      "######################################################\n",
      "request timestmap>>\n",
      "2020-02-10 17:53:44\n",
      "{'PULocationID': 132,\n",
      " 'driver_avg_daily_trips': 24,\n",
      " 'driver_avg_speed': 25.020000457763672,\n",
      " 'driver_rate_1m': 1,\n",
      " 'passenger_count': 1.0,\n",
      " 'pickup_weekday': 0,\n",
      " 'trip_distance': 17.21}\n",
      "######################################################\n",
      "request timestmap>>\n",
      "2020-02-10 17:54:49\n",
      "{'PULocationID': 143,\n",
      " 'driver_avg_daily_trips': 24,\n",
      " 'driver_avg_speed': 25.020000457763672,\n",
      " 'driver_rate_1m': 1,\n",
      " 'passenger_count': 1.0,\n",
      " 'pickup_weekday': 0,\n",
      " 'trip_distance': 0.4}\n",
      "######################################################\n",
      "request timestmap>>\n",
      "2020-02-10 18:00:25\n",
      "Materializing \u001b[1m\u001b[32m1\u001b[0m feature views from \u001b[1m\u001b[32m2020-02-10 17:00:00+00:00\u001b[0m to \u001b[1m\u001b[32m2020-02-10 18:00:00+00:00\u001b[0m into the \u001b[1m\u001b[32msqlite\u001b[0m online store.\n",
      "\n",
      "\u001b[1m\u001b[32mdriver_hourly_stats\u001b[0m:\n",
      "100%|█████████████████████████████████████████████████████████████████| 2/2 [00:00<00:00, 79.88it/s]\n",
      "{'PULocationID': 246,\n",
      " 'driver_avg_daily_trips': 30,\n",
      " 'driver_avg_speed': 21.950000762939453,\n",
      " 'driver_rate_1m': 1,\n",
      " 'passenger_count': 1.0,\n",
      " 'pickup_weekday': 0,\n",
      " 'trip_distance': 3.22}\n",
      "######################################################\n",
      "request timestmap>>\n",
      "2020-02-10 18:04:17\n",
      "{'PULocationID': 237,\n",
      " 'driver_avg_daily_trips': 30,\n",
      " 'driver_avg_speed': 21.950000762939453,\n",
      " 'driver_rate_1m': 1,\n",
      " 'passenger_count': 1.0,\n",
      " 'pickup_weekday': 0,\n",
      " 'trip_distance': 1.5}\n",
      "######################################################\n",
      "request timestmap>>\n",
      "2020-02-10 18:04:20\n",
      "{'PULocationID': 237,\n",
      " 'driver_avg_daily_trips': 31,\n",
      " 'driver_avg_speed': 15.770000457763672,\n",
      " 'driver_rate_1m': 1,\n",
      " 'passenger_count': 1.0,\n",
      " 'pickup_weekday': 0,\n",
      " 'trip_distance': 4.05}\n",
      "######################################################\n",
      "request timestmap>>\n",
      "2020-02-10 18:17:57\n",
      "{'PULocationID': 231,\n",
      " 'driver_avg_daily_trips': 31,\n",
      " 'driver_avg_speed': 15.770000457763672,\n",
      " 'driver_rate_1m': 1,\n",
      " 'passenger_count': 1.0,\n",
      " 'pickup_weekday': 0,\n",
      " 'trip_distance': 1.21}\n",
      "######################################################\n",
      "request timestmap>>\n",
      "2020-02-10 18:26:04\n",
      "{'PULocationID': 186,\n",
      " 'driver_avg_daily_trips': 31,\n",
      " 'driver_avg_speed': 15.770000457763672,\n",
      " 'driver_rate_1m': 1,\n",
      " 'passenger_count': 2.0,\n",
      " 'pickup_weekday': 0,\n",
      " 'trip_distance': 0.67}\n",
      "######################################################\n",
      "request timestmap>>\n",
      "2020-02-10 18:28:19\n",
      "{'PULocationID': 161,\n",
      " 'driver_avg_daily_trips': 31,\n",
      " 'driver_avg_speed': 15.770000457763672,\n",
      " 'driver_rate_1m': 1,\n",
      " 'passenger_count': 1.0,\n",
      " 'pickup_weekday': 0,\n",
      " 'trip_distance': 2.8}\n",
      "######################################################\n",
      "request timestmap>>\n",
      "2020-02-10 18:30:19\n",
      "{'PULocationID': 43,\n",
      " 'driver_avg_daily_trips': 30,\n",
      " 'driver_avg_speed': 21.950000762939453,\n",
      " 'driver_rate_1m': 1,\n",
      " 'passenger_count': 1.0,\n",
      " 'pickup_weekday': 0,\n",
      " 'trip_distance': 0.89}\n",
      "######################################################\n",
      "request timestmap>>\n",
      "2020-02-10 18:35:42\n",
      "{'PULocationID': 230,\n",
      " 'driver_avg_daily_trips': 30,\n",
      " 'driver_avg_speed': 21.950000762939453,\n",
      " 'driver_rate_1m': 1,\n",
      " 'passenger_count': 2.0,\n",
      " 'pickup_weekday': 0,\n",
      " 'trip_distance': 2.72}\n",
      "######################################################\n",
      "request timestmap>>\n",
      "2020-02-10 18:39:17\n",
      "{'PULocationID': 68,\n",
      " 'driver_avg_daily_trips': 30,\n",
      " 'driver_avg_speed': 21.950000762939453,\n",
      " 'driver_rate_1m': 1,\n",
      " 'passenger_count': 4.0,\n",
      " 'pickup_weekday': 0,\n",
      " 'trip_distance': 0.78}\n",
      "######################################################\n",
      "request timestmap>>\n",
      "2020-02-10 18:40:11\n",
      "{'PULocationID': 239,\n",
      " 'driver_avg_daily_trips': 30,\n",
      " 'driver_avg_speed': 21.950000762939453,\n",
      " 'driver_rate_1m': 1,\n",
      " 'passenger_count': 1.0,\n",
      " 'pickup_weekday': 0,\n",
      " 'trip_distance': 0.7}\n",
      "######################################################\n",
      "request timestmap>>\n",
      "2020-02-10 18:41:38\n",
      "{'PULocationID': 170,\n",
      " 'driver_avg_daily_trips': 31,\n",
      " 'driver_avg_speed': 15.770000457763672,\n",
      " 'driver_rate_1m': 1,\n",
      " 'passenger_count': 1.0,\n",
      " 'pickup_weekday': 0,\n",
      " 'trip_distance': 2.42}\n",
      "######################################################\n",
      "request timestmap>>\n",
      "2020-02-10 18:42:15\n",
      "{'PULocationID': 88,\n",
      " 'driver_avg_daily_trips': 30,\n",
      " 'driver_avg_speed': 21.950000762939453,\n",
      " 'driver_rate_1m': 1,\n",
      " 'passenger_count': 1.0,\n",
      " 'pickup_weekday': 0,\n",
      " 'trip_distance': 6.7}\n",
      "######################################################\n",
      "request timestmap>>\n",
      "2020-02-10 18:49:57\n",
      "{'PULocationID': 138,\n",
      " 'driver_avg_daily_trips': 30,\n",
      " 'driver_avg_speed': 21.950000762939453,\n",
      " 'driver_rate_1m': 1,\n",
      " 'passenger_count': 4.0,\n",
      " 'pickup_weekday': 0,\n",
      " 'trip_distance': 7.8}\n",
      "######################################################\n",
      "request timestmap>>\n",
      "2020-02-10 19:02:32\n",
      "Materializing \u001b[1m\u001b[32m1\u001b[0m feature views from \u001b[1m\u001b[32m2020-02-10 18:00:00+00:00\u001b[0m to \u001b[1m\u001b[32m2020-02-10 19:00:00+00:00\u001b[0m into the \u001b[1m\u001b[32msqlite\u001b[0m online store.\n",
      "\n",
      "\u001b[1m\u001b[32mdriver_hourly_stats\u001b[0m:\n",
      "100%|█████████████████████████████████████████████████████████████████| 2/2 [00:00<00:00, 53.60it/s]\n",
      "{'PULocationID': 230,\n",
      " 'driver_avg_daily_trips': 21,\n",
      " 'driver_avg_speed': 17.260000228881836,\n",
      " 'driver_rate_1m': 1,\n",
      " 'passenger_count': 1.0,\n",
      " 'pickup_weekday': 0,\n",
      " 'trip_distance': 1.26}\n",
      "######################################################\n",
      "request timestmap>>\n",
      "2020-02-10 19:05:30\n",
      "{'PULocationID': 246,\n",
      " 'driver_avg_daily_trips': 39,\n",
      " 'driver_avg_speed': 15.0,\n",
      " 'driver_rate_1m': 2,\n",
      " 'passenger_count': 1.0,\n",
      " 'pickup_weekday': 0,\n",
      " 'trip_distance': 2.84}\n",
      "######################################################\n",
      "request timestmap>>\n",
      "2020-02-10 19:06:06\n",
      "{'PULocationID': 170,\n",
      " 'driver_avg_daily_trips': 39,\n",
      " 'driver_avg_speed': 15.0,\n",
      " 'driver_rate_1m': 2,\n",
      " 'passenger_count': 1.0,\n",
      " 'pickup_weekday': 0,\n",
      " 'trip_distance': 0.3}\n",
      "######################################################\n",
      "request timestmap>>\n",
      "2020-02-10 19:13:02\n",
      "{'PULocationID': 141,\n",
      " 'driver_avg_daily_trips': 21,\n",
      " 'driver_avg_speed': 17.260000228881836,\n",
      " 'driver_rate_1m': 1,\n",
      " 'passenger_count': 1.0,\n",
      " 'pickup_weekday': 0,\n",
      " 'trip_distance': 0.81}\n",
      "######################################################\n",
      "request timestmap>>\n",
      "2020-02-10 19:14:27\n",
      "{'PULocationID': 100,\n",
      " 'driver_avg_daily_trips': 39,\n",
      " 'driver_avg_speed': 15.0,\n",
      " 'driver_rate_1m': 2,\n",
      " 'passenger_count': 1.0,\n",
      " 'pickup_weekday': 0,\n",
      " 'trip_distance': 0.6}\n",
      "######################################################\n",
      "request timestmap>>\n",
      "2020-02-10 19:20:20\n",
      "{'PULocationID': 100,\n",
      " 'driver_avg_daily_trips': 21,\n",
      " 'driver_avg_speed': 17.260000228881836,\n",
      " 'driver_rate_1m': 1,\n",
      " 'passenger_count': 1.0,\n",
      " 'pickup_weekday': 0,\n",
      " 'trip_distance': 0.79}\n",
      "######################################################\n",
      "request timestmap>>\n",
      "2020-02-10 19:35:28\n",
      "{'PULocationID': 161,\n",
      " 'driver_avg_daily_trips': 39,\n",
      " 'driver_avg_speed': 15.0,\n",
      " 'driver_rate_1m': 2,\n",
      " 'passenger_count': 5.0,\n",
      " 'pickup_weekday': 0,\n",
      " 'trip_distance': 1.28}\n",
      "######################################################\n",
      "request timestmap>>\n",
      "2020-02-10 19:42:22\n",
      "{'PULocationID': 68,\n",
      " 'driver_avg_daily_trips': 21,\n",
      " 'driver_avg_speed': 17.260000228881836,\n",
      " 'driver_rate_1m': 1,\n",
      " 'passenger_count': 4.0,\n",
      " 'pickup_weekday': 0,\n",
      " 'trip_distance': 0.8}\n",
      "######################################################\n",
      "request timestmap>>\n",
      "2020-02-10 19:55:30\n",
      "{'PULocationID': 163,\n",
      " 'driver_avg_daily_trips': 21,\n",
      " 'driver_avg_speed': 17.260000228881836,\n",
      " 'driver_rate_1m': 1,\n",
      " 'passenger_count': 1.0,\n",
      " 'pickup_weekday': 0,\n",
      " 'trip_distance': 1.81}\n",
      "######################################################\n",
      "request timestmap>>\n",
      "2020-02-10 20:00:06\n",
      "Materializing \u001b[1m\u001b[32m1\u001b[0m feature views from \u001b[1m\u001b[32m2020-02-10 19:00:00+00:00\u001b[0m to \u001b[1m\u001b[32m2020-02-10 20:00:00+00:00\u001b[0m into the \u001b[1m\u001b[32msqlite\u001b[0m online store.\n",
      "\n",
      "\u001b[1m\u001b[32mdriver_hourly_stats\u001b[0m:\n",
      "100%|████████████████████████████████████████████████████████████████| 2/2 [00:00<00:00, 108.13it/s]\n",
      "{'PULocationID': 158,\n",
      " 'driver_avg_daily_trips': 22,\n",
      " 'driver_avg_speed': 19.170000076293945,\n",
      " 'driver_rate_1m': 2,\n",
      " 'passenger_count': 1.0,\n",
      " 'pickup_weekday': 0,\n",
      " 'trip_distance': 0.9}\n",
      "######################################################\n",
      "request timestmap>>\n",
      "2020-02-10 20:08:20\n",
      "{'PULocationID': 107,\n",
      " 'driver_avg_daily_trips': 22,\n",
      " 'driver_avg_speed': 19.170000076293945,\n",
      " 'driver_rate_1m': 2,\n",
      " 'passenger_count': 1.0,\n",
      " 'pickup_weekday': 0,\n",
      " 'trip_distance': 0.98}\n",
      "######################################################\n",
      "request timestmap>>\n",
      "2020-02-10 20:14:42\n",
      "{'PULocationID': 230,\n",
      " 'driver_avg_daily_trips': 22,\n",
      " 'driver_avg_speed': 19.170000076293945,\n",
      " 'driver_rate_1m': 2,\n",
      " 'passenger_count': 1.0,\n",
      " 'pickup_weekday': 0,\n",
      " 'trip_distance': 1.5}\n",
      "######################################################\n",
      "request timestmap>>\n",
      "2020-02-10 20:28:03\n",
      "{'PULocationID': 233,\n",
      " 'driver_avg_daily_trips': 22,\n",
      " 'driver_avg_speed': 19.170000076293945,\n",
      " 'driver_rate_1m': 2,\n",
      " 'passenger_count': 0.0,\n",
      " 'pickup_weekday': 0,\n",
      " 'trip_distance': 4.7}\n",
      "######################################################\n",
      "request timestmap>>\n",
      "2020-02-10 20:34:08\n",
      "{'PULocationID': 231,\n",
      " 'driver_avg_daily_trips': 22,\n",
      " 'driver_avg_speed': 19.170000076293945,\n",
      " 'driver_rate_1m': 2,\n",
      " 'passenger_count': 1.0,\n",
      " 'pickup_weekday': 0,\n",
      " 'trip_distance': 1.0}\n",
      "######################################################\n",
      "request timestmap>>\n",
      "2020-02-10 20:43:56\n",
      "{'PULocationID': 234,\n",
      " 'driver_avg_daily_trips': 27,\n",
      " 'driver_avg_speed': 23.479999542236328,\n",
      " 'driver_rate_1m': 3,\n",
      " 'passenger_count': 1.0,\n",
      " 'pickup_weekday': 0,\n",
      " 'trip_distance': 2.4}\n",
      "######################################################\n",
      "request timestmap>>\n",
      "2020-02-10 20:50:47\n",
      "{'PULocationID': 151,\n",
      " 'driver_avg_daily_trips': 22,\n",
      " 'driver_avg_speed': 19.170000076293945,\n",
      " 'driver_rate_1m': 2,\n",
      " 'passenger_count': 1.0,\n",
      " 'pickup_weekday': 0,\n",
      " 'trip_distance': 0.64}\n",
      "######################################################\n",
      "request timestmap>>\n",
      "2020-02-10 21:09:38\n",
      "Materializing \u001b[1m\u001b[32m1\u001b[0m feature views from \u001b[1m\u001b[32m2020-02-10 20:00:00+00:00\u001b[0m to \u001b[1m\u001b[32m2020-02-10 21:00:00+00:00\u001b[0m into the \u001b[1m\u001b[32msqlite\u001b[0m online store.\n",
      "\n",
      "\u001b[1m\u001b[32mdriver_hourly_stats\u001b[0m:\n",
      "100%|█████████████████████████████████████████████████████████████████| 2/2 [00:00<00:00, 91.16it/s]\n",
      "{'PULocationID': 170,\n",
      " 'driver_avg_daily_trips': 37,\n",
      " 'driver_avg_speed': 19.639999389648438,\n",
      " 'driver_rate_1m': 2,\n",
      " 'passenger_count': 1.0,\n",
      " 'pickup_weekday': 0,\n",
      " 'trip_distance': 0.5}\n",
      "######################################################\n",
      "request timestmap>>\n",
      "2020-02-10 21:26:32\n",
      "{'PULocationID': 162,\n",
      " 'driver_avg_daily_trips': 37,\n",
      " 'driver_avg_speed': 19.639999389648438,\n",
      " 'driver_rate_1m': 2,\n",
      " 'passenger_count': 1.0,\n",
      " 'pickup_weekday': 0,\n",
      " 'trip_distance': 1.09}\n",
      "######################################################\n",
      "request timestmap>>\n",
      "2020-02-10 21:45:43\n",
      "{'PULocationID': 50,\n",
      " 'driver_avg_daily_trips': 26,\n",
      " 'driver_avg_speed': 18.440000534057617,\n",
      " 'driver_rate_1m': 2,\n",
      " 'passenger_count': 1.0,\n",
      " 'pickup_weekday': 0,\n",
      " 'trip_distance': 2.16}\n",
      "######################################################\n",
      "request timestmap>>\n",
      "2020-02-10 21:55:25\n",
      "{'PULocationID': 236,\n",
      " 'driver_avg_daily_trips': 37,\n",
      " 'driver_avg_speed': 19.639999389648438,\n",
      " 'driver_rate_1m': 2,\n",
      " 'passenger_count': 1.0,\n",
      " 'pickup_weekday': 0,\n",
      " 'trip_distance': 0.9}\n",
      "######################################################\n",
      "request timestmap>>\n",
      "2020-02-10 22:01:40\n",
      "Materializing \u001b[1m\u001b[32m1\u001b[0m feature views from \u001b[1m\u001b[32m2020-02-10 21:00:00+00:00\u001b[0m to \u001b[1m\u001b[32m2020-02-10 22:00:00+00:00\u001b[0m into the \u001b[1m\u001b[32msqlite\u001b[0m online store.\n",
      "\n",
      "\u001b[1m\u001b[32mdriver_hourly_stats\u001b[0m:\n",
      "100%|█████████████████████████████████████████████████████████████████| 2/2 [00:00<00:00, 95.34it/s]\n",
      "{'PULocationID': 170,\n",
      " 'driver_avg_daily_trips': 40,\n",
      " 'driver_avg_speed': 23.06999969482422,\n",
      " 'driver_rate_1m': 2,\n",
      " 'passenger_count': 1.0,\n",
      " 'pickup_weekday': 0,\n",
      " 'trip_distance': 6.1}\n",
      "######################################################\n",
      "request timestmap>>\n",
      "2020-02-10 22:04:42\n",
      "{'PULocationID': 90,\n",
      " 'driver_avg_daily_trips': 27,\n",
      " 'driver_avg_speed': 25.549999237060547,\n",
      " 'driver_rate_1m': 2,\n",
      " 'passenger_count': 2.0,\n",
      " 'pickup_weekday': 0,\n",
      " 'trip_distance': 7.04}\n",
      "######################################################\n",
      "request timestmap>>\n",
      "2020-02-10 22:18:08\n",
      "{'PULocationID': 237,\n",
      " 'driver_avg_daily_trips': 40,\n",
      " 'driver_avg_speed': 23.06999969482422,\n",
      " 'driver_rate_1m': 2,\n",
      " 'passenger_count': 5.0,\n",
      " 'pickup_weekday': 0,\n",
      " 'trip_distance': 2.72}\n",
      "######################################################\n",
      "request timestmap>>\n",
      "2020-02-10 22:18:52\n",
      "{'PULocationID': 87,\n",
      " 'driver_avg_daily_trips': 27,\n",
      " 'driver_avg_speed': 25.549999237060547,\n",
      " 'driver_rate_1m': 2,\n",
      " 'passenger_count': 1.0,\n",
      " 'pickup_weekday': 0,\n",
      " 'trip_distance': 7.09}\n",
      "######################################################\n",
      "request timestmap>>\n",
      "2020-02-10 22:24:40\n",
      "{'PULocationID': 132,\n",
      " 'driver_avg_daily_trips': 40,\n",
      " 'driver_avg_speed': 23.06999969482422,\n",
      " 'driver_rate_1m': 2,\n",
      " 'passenger_count': 1.0,\n",
      " 'pickup_weekday': 0,\n",
      " 'trip_distance': 7.9}\n",
      "######################################################\n",
      "request timestmap>>\n",
      "2020-02-10 22:26:10\n",
      "{'PULocationID': 140,\n",
      " 'driver_avg_daily_trips': 27,\n",
      " 'driver_avg_speed': 25.549999237060547,\n",
      " 'driver_rate_1m': 2,\n",
      " 'passenger_count': 1.0,\n",
      " 'pickup_weekday': 0,\n",
      " 'trip_distance': 1.07}\n",
      "######################################################\n",
      "request timestmap>>\n",
      "2020-02-10 22:52:12\n",
      "{'PULocationID': 132,\n",
      " 'driver_avg_daily_trips': 40,\n",
      " 'driver_avg_speed': 23.06999969482422,\n",
      " 'driver_rate_1m': 2,\n",
      " 'passenger_count': 1.0,\n",
      " 'pickup_weekday': 0,\n",
      " 'trip_distance': 17.54}\n",
      "######################################################\n",
      "request timestmap>>\n",
      "2020-02-10 23:05:28\n",
      "Materializing \u001b[1m\u001b[32m1\u001b[0m feature views from \u001b[1m\u001b[32m2020-02-10 22:00:00+00:00\u001b[0m to \u001b[1m\u001b[32m2020-02-10 23:00:00+00:00\u001b[0m into the \u001b[1m\u001b[32msqlite\u001b[0m online store.\n",
      "\n",
      "\u001b[1m\u001b[32mdriver_hourly_stats\u001b[0m:\n",
      "100%|█████████████████████████████████████████████████████████████████| 2/2 [00:00<00:00, 53.03it/s]\n",
      "{'PULocationID': 186,\n",
      " 'driver_avg_daily_trips': 31,\n",
      " 'driver_avg_speed': 21.760000228881836,\n",
      " 'driver_rate_1m': 1,\n",
      " 'passenger_count': 2.0,\n",
      " 'pickup_weekday': 0,\n",
      " 'trip_distance': 1.5}\n",
      "######################################################\n",
      "request timestmap>>\n",
      "2020-02-10 23:18:36\n",
      "{'PULocationID': 48,\n",
      " 'driver_avg_daily_trips': 33,\n",
      " 'driver_avg_speed': 21.90999984741211,\n",
      " 'driver_rate_1m': 3,\n",
      " 'passenger_count': 1.0,\n",
      " 'pickup_weekday': 0,\n",
      " 'trip_distance': 9.75}\n",
      "######################################################\n",
      "request timestmap>>\n",
      "2020-02-11 04:04:47\n"
     ]
    }
   ],
   "source": [
    "from datetime import datetime, timedelta\n",
    "from pprint import pprint\n",
    "from feast import FeatureStore\n",
    "from whylogs import get_or_create_session\n",
    "\n",
    "session = get_or_create_session()\n",
    "\n",
    "store = FeatureStore(repo_path=\".\")\n",
    "j=0\n",
    "\n",
    "prev_time = datetime(2020, 2, 10, 00, 00)\n",
    "target_time = datetime(2020, 2, 10, 1, 00)\n",
    "!feast materialize {prev_time.isoformat()} {target_time.isoformat()}\n",
    "\n",
    "day_to_log = datetime(2020, 2, 10)\n",
    "\n",
    "with session.logger(dataset_name=\"my_dataset\",dataset_timestamp=day_to_log) as logger:\n",
    "    for index,row in rides_df.iterrows():\n",
    "\n",
    "        request_timestamp = row['tpep_pickup_datetime']\n",
    "        print(\"request timestmap>>\")\n",
    "        print(request_timestamp)\n",
    "\n",
    "\n",
    "        if request_timestamp.day > day_to_log.day:\n",
    "            break\n",
    "\n",
    "        if request_timestamp>target_time + timedelta(hours=1):\n",
    "            target_time = datetime(request_timestamp.year,request_timestamp.month,request_timestamp.day,request_timestamp.hour)\n",
    "            prev_time = target_time - timedelta(hours=1)\n",
    "            !feast materialize {prev_time.isoformat()} {target_time.isoformat()}\n",
    "\n",
    "\n",
    "        driver_feature_vector = store.get_online_features(\n",
    "        features=[\n",
    "            \"driver_hourly_stats:rate_1m\",\n",
    "            \"driver_hourly_stats:avg_daily_trips\",\n",
    "            \"driver_hourly_stats:avg_speed\"\n",
    "\n",
    "        ],\n",
    "        entity_rows=[{\"driver_id\": row['driver_id']},],\n",
    "        ).to_dict()\n",
    "\n",
    "        # Get features from both ride and driver\n",
    "        assembled_feature_vector = {\n",
    "            \"pickup_weekday\": row[\"pickup_weekday\"],\n",
    "            \"passenger_count\": row[\"passenger_count\"],\n",
    "            \"trip_distance\": row[\"trip_distance\"],\n",
    "            \"PULocationID\": row[\"PULocationID\"],\n",
    "            \"driver_avg_daily_trips\": driver_feature_vector[\"avg_daily_trips\"][0],\n",
    "            \"driver_rate_1m\": driver_feature_vector[\"rate_1m\"][0],\n",
    "            \"driver_avg_speed\": driver_feature_vector[\"avg_speed\"][0],\n",
    "\n",
    "        }\n",
    "\n",
    "        # Now that we have the complete set of features, model prediction could go here.\n",
    "\n",
    "        logger.log(assembled_feature_vector)\n",
    "        pprint(assembled_feature_vector)\n",
    "        print(\"######################################################\")\n",
    "        \n",
    "    profile = logger.profile"
   ]
  },
  {
   "cell_type": "markdown",
   "metadata": {
    "cell_id": "71bfa479-e783-4ea5-870f-628c46696efb",
    "deepnote_cell_height": 82,
    "deepnote_cell_type": "markdown",
    "tags": []
   },
   "source": [
    "# Inspecting the logged profile"
   ]
  },
  {
   "cell_type": "markdown",
   "metadata": {
    "cell_id": "5042e1c1-221a-4dec-bca7-e3fc461628cd",
    "deepnote_cell_height": 52.390625,
    "deepnote_cell_type": "markdown",
    "tags": []
   },
   "source": [
    "You can use whylog's `profile_viewer` to select and view your profile:"
   ]
  },
  {
   "cell_type": "code",
   "execution_count": null,
   "metadata": {
    "cell_id": "b23ab681-413f-4ae9-9c91-1efd1601cb5e",
    "deepnote_cell_height": 99,
    "deepnote_cell_type": "code",
    "deepnote_to_be_reexecuted": false,
    "execution_millis": 9,
    "execution_start": 1643981506426,
    "source_hash": "9288dcd1",
    "tags": []
   },
   "outputs": [],
   "source": [
    "from whylogs.viz import profile_viewer\n",
    "profile_viewer()"
   ]
  },
  {
   "cell_type": "markdown",
   "metadata": {
    "cell_id": "a6b76c4d-53e3-4d7a-abbb-e9553b9e6fb4",
    "deepnote_cell_height": 111.171875,
    "deepnote_cell_type": "markdown",
    "tags": []
   },
   "source": [
    "In a notebook environment, the command above will not work. But if you execute it locally as a python script, the Profile Viewer should be opened on your default browser, where you can select and load a profile JSON summary. The default path for the JSON summary is set as `output/{dataset_name}/{session_id}/json/dataset_profile.json`.\n",
    "\n",
    "You can then navigate and view the profile's features and associated statistics, as depicted in the image below:"
   ]
  },
  {
   "cell_type": "markdown",
   "metadata": {
    "cell_id": "505fdde4-ea9a-4d4d-aa14-0d1ac86fcad2",
    "deepnote_cell_height": 645.515625,
    "deepnote_cell_type": "markdown",
    "deepnote_to_be_reexecuted": false,
    "execution_millis": 662,
    "execution_start": 1644608727749,
    "source_hash": "effa8f30",
    "tags": []
   },
   "source": [
    "![alt text](images/profile_viewer.png \"Title\")"
   ]
  },
  {
   "cell_type": "markdown",
   "metadata": {
    "cell_id": "85202890-268a-46a9-aeb6-4108b8465f54",
    "deepnote_cell_height": 74.78125,
    "deepnote_cell_type": "markdown",
    "tags": []
   },
   "source": [
    "Whenever a logger is closed (in this case, when the `with` statement ends), the profile is saved to disk, which is what we use on the Profile Viewer above. We also stored the profile in-memory as the `profile` variable. Let's use it to check the profile's summary in tabular format:"
   ]
  },
  {
   "cell_type": "code",
   "execution_count": null,
   "metadata": {
    "cell_id": "12aaf990-bf8f-4b85-af87-d4ca67757980",
    "deepnote_cell_height": 459,
    "deepnote_cell_type": "code",
    "deepnote_output_heights": [
     null,
     21.1875
    ],
    "deepnote_to_be_reexecuted": false,
    "execution_millis": 277,
    "execution_start": 1644597686026,
    "source_hash": "46051ba0",
    "tags": []
   },
   "outputs": [
    {
     "data": {
      "application/vnd.deepnote.dataframe.v3+json": {
       "column_count": 40,
       "columns": [
        {
         "dtype": "object",
         "name": "column",
         "stats": {
          "categories": [
           {
            "count": 1,
            "name": "trip_distance"
           },
           {
            "count": 1,
            "name": "PULocationID"
           },
           {
            "count": 5,
            "name": "5 others"
           }
          ],
          "nan_count": 0,
          "unique_count": 7
         }
        },
        {
         "dtype": "float64",
         "name": "count",
         "stats": {
          "histogram": [
           {
            "bin_end": 116.6,
            "bin_start": 116.5,
            "count": 0
           },
           {
            "bin_end": 116.7,
            "bin_start": 116.6,
            "count": 0
           },
           {
            "bin_end": 116.8,
            "bin_start": 116.7,
            "count": 0
           },
           {
            "bin_end": 116.9,
            "bin_start": 116.8,
            "count": 0
           },
           {
            "bin_end": 117,
            "bin_start": 116.9,
            "count": 0
           },
           {
            "bin_end": 117.1,
            "bin_start": 117,
            "count": 7
           },
           {
            "bin_end": 117.2,
            "bin_start": 117.1,
            "count": 0
           },
           {
            "bin_end": 117.3,
            "bin_start": 117.2,
            "count": 0
           },
           {
            "bin_end": 117.4,
            "bin_start": 117.3,
            "count": 0
           },
           {
            "bin_end": 117.5,
            "bin_start": 117.4,
            "count": 0
           }
          ],
          "max": "117.0",
          "min": "117.0",
          "nan_count": 0,
          "unique_count": 1
         }
        },
        {
         "dtype": "float64",
         "name": "null_count",
         "stats": {
          "histogram": [
           {
            "bin_end": -0.4,
            "bin_start": -0.5,
            "count": 0
           },
           {
            "bin_end": -0.3,
            "bin_start": -0.4,
            "count": 0
           },
           {
            "bin_end": -0.19999999999999996,
            "bin_start": -0.3,
            "count": 0
           },
           {
            "bin_end": -0.09999999999999998,
            "bin_start": -0.19999999999999996,
            "count": 0
           },
           {
            "bin_end": 0,
            "bin_start": -0.09999999999999998,
            "count": 0
           },
           {
            "bin_end": 0.10000000000000009,
            "bin_start": 0,
            "count": 7
           },
           {
            "bin_end": 0.20000000000000007,
            "bin_start": 0.10000000000000009,
            "count": 0
           },
           {
            "bin_end": 0.30000000000000004,
            "bin_start": 0.20000000000000007,
            "count": 0
           },
           {
            "bin_end": 0.4,
            "bin_start": 0.30000000000000004,
            "count": 0
           },
           {
            "bin_end": 0.5,
            "bin_start": 0.4,
            "count": 0
           }
          ],
          "max": "0.0",
          "min": "0.0",
          "nan_count": 0,
          "unique_count": 1
         }
        },
        {
         "dtype": "float64",
         "name": "bool_count",
         "stats": {
          "histogram": [
           {
            "bin_end": -0.4,
            "bin_start": -0.5,
            "count": 0
           },
           {
            "bin_end": -0.3,
            "bin_start": -0.4,
            "count": 0
           },
           {
            "bin_end": -0.19999999999999996,
            "bin_start": -0.3,
            "count": 0
           },
           {
            "bin_end": -0.09999999999999998,
            "bin_start": -0.19999999999999996,
            "count": 0
           },
           {
            "bin_end": 0,
            "bin_start": -0.09999999999999998,
            "count": 0
           },
           {
            "bin_end": 0.10000000000000009,
            "bin_start": 0,
            "count": 7
           },
           {
            "bin_end": 0.20000000000000007,
            "bin_start": 0.10000000000000009,
            "count": 0
           },
           {
            "bin_end": 0.30000000000000004,
            "bin_start": 0.20000000000000007,
            "count": 0
           },
           {
            "bin_end": 0.4,
            "bin_start": 0.30000000000000004,
            "count": 0
           },
           {
            "bin_end": 0.5,
            "bin_start": 0.4,
            "count": 0
           }
          ],
          "max": "0.0",
          "min": "0.0",
          "nan_count": 0,
          "unique_count": 1
         }
        },
        {
         "dtype": "float64",
         "name": "numeric_count",
         "stats": {
          "histogram": [
           {
            "bin_end": 116.6,
            "bin_start": 116.5,
            "count": 0
           },
           {
            "bin_end": 116.7,
            "bin_start": 116.6,
            "count": 0
           },
           {
            "bin_end": 116.8,
            "bin_start": 116.7,
            "count": 0
           },
           {
            "bin_end": 116.9,
            "bin_start": 116.8,
            "count": 0
           },
           {
            "bin_end": 117,
            "bin_start": 116.9,
            "count": 0
           },
           {
            "bin_end": 117.1,
            "bin_start": 117,
            "count": 7
           },
           {
            "bin_end": 117.2,
            "bin_start": 117.1,
            "count": 0
           },
           {
            "bin_end": 117.3,
            "bin_start": 117.2,
            "count": 0
           },
           {
            "bin_end": 117.4,
            "bin_start": 117.3,
            "count": 0
           },
           {
            "bin_end": 117.5,
            "bin_start": 117.4,
            "count": 0
           }
          ],
          "max": "117.0",
          "min": "117.0",
          "nan_count": 0,
          "unique_count": 1
         }
        },
        {
         "dtype": "float64",
         "name": "max",
         "stats": {
          "histogram": [
           {
            "bin_end": 26.3,
            "bin_start": 0,
            "count": 4
           },
           {
            "bin_end": 52.6,
            "bin_start": 26.3,
            "count": 2
           },
           {
            "bin_end": 78.9,
            "bin_start": 52.6,
            "count": 0
           },
           {
            "bin_end": 105.2,
            "bin_start": 78.9,
            "count": 0
           },
           {
            "bin_end": 131.5,
            "bin_start": 105.2,
            "count": 0
           },
           {
            "bin_end": 157.8,
            "bin_start": 131.5,
            "count": 0
           },
           {
            "bin_end": 184.1,
            "bin_start": 157.8,
            "count": 0
           },
           {
            "bin_end": 210.4,
            "bin_start": 184.1,
            "count": 0
           },
           {
            "bin_end": 236.70000000000002,
            "bin_start": 210.4,
            "count": 0
           },
           {
            "bin_end": 263,
            "bin_start": 236.70000000000002,
            "count": 1
           }
          ],
          "max": "263.0",
          "min": "0.0",
          "nan_count": 0,
          "unique_count": 7
         }
        },
        {
         "dtype": "float64",
         "name": "mean",
         "stats": {
          "histogram": [
           {
            "bin_end": 15.814529914529913,
            "bin_start": 0,
            "count": 4
           },
           {
            "bin_end": 31.629059829059827,
            "bin_start": 15.814529914529913,
            "count": 2
           },
           {
            "bin_end": 47.44358974358974,
            "bin_start": 31.629059829059827,
            "count": 0
           },
           {
            "bin_end": 63.258119658119654,
            "bin_start": 47.44358974358974,
            "count": 0
           },
           {
            "bin_end": 79.07264957264957,
            "bin_start": 63.258119658119654,
            "count": 0
           },
           {
            "bin_end": 94.88717948717948,
            "bin_start": 79.07264957264957,
            "count": 0
           },
           {
            "bin_end": 110.7017094017094,
            "bin_start": 94.88717948717948,
            "count": 0
           },
           {
            "bin_end": 126.51623931623931,
            "bin_start": 110.7017094017094,
            "count": 0
           },
           {
            "bin_end": 142.33076923076922,
            "bin_start": 126.51623931623931,
            "count": 0
           },
           {
            "bin_end": 158.14529914529913,
            "bin_start": 142.33076923076922,
            "count": 1
           }
          ],
          "max": "158.14529914529913",
          "min": "0.0",
          "nan_count": 0,
          "unique_count": 7
         }
        },
        {
         "dtype": "float64",
         "name": "min",
         "stats": {
          "histogram": [
           {
            "bin_end": 2.1,
            "bin_start": 0,
            "count": 4
           },
           {
            "bin_end": 4.2,
            "bin_start": 2.1,
            "count": 0
           },
           {
            "bin_end": 6.300000000000001,
            "bin_start": 4.2,
            "count": 0
           },
           {
            "bin_end": 8.4,
            "bin_start": 6.300000000000001,
            "count": 0
           },
           {
            "bin_end": 10.5,
            "bin_start": 8.4,
            "count": 0
           },
           {
            "bin_end": 12.600000000000001,
            "bin_start": 10.5,
            "count": 0
           },
           {
            "bin_end": 14.700000000000001,
            "bin_start": 12.600000000000001,
            "count": 2
           },
           {
            "bin_end": 16.8,
            "bin_start": 14.700000000000001,
            "count": 0
           },
           {
            "bin_end": 18.900000000000002,
            "bin_start": 16.8,
            "count": 0
           },
           {
            "bin_end": 21,
            "bin_start": 18.900000000000002,
            "count": 1
           }
          ],
          "max": "21.0",
          "min": "0.0",
          "nan_count": 0,
          "unique_count": 5
         }
        },
        {
         "dtype": "float64",
         "name": "stddev",
         "stats": {
          "histogram": [
           {
            "bin_end": 6.7250210223651035,
            "bin_start": 0,
            "count": 6
           },
           {
            "bin_end": 13.450042044730207,
            "bin_start": 6.7250210223651035,
            "count": 0
           },
           {
            "bin_end": 20.17506306709531,
            "bin_start": 13.450042044730207,
            "count": 0
           },
           {
            "bin_end": 26.900084089460414,
            "bin_start": 20.17506306709531,
            "count": 0
           },
           {
            "bin_end": 33.62510511182552,
            "bin_start": 26.900084089460414,
            "count": 0
           },
           {
            "bin_end": 40.35012613419062,
            "bin_start": 33.62510511182552,
            "count": 0
           },
           {
            "bin_end": 47.07514715655572,
            "bin_start": 40.35012613419062,
            "count": 0
           },
           {
            "bin_end": 53.80016817892083,
            "bin_start": 47.07514715655572,
            "count": 0
           },
           {
            "bin_end": 60.52518920128593,
            "bin_start": 53.80016817892083,
            "count": 0
           },
           {
            "bin_end": 67.25021022365104,
            "bin_start": 60.52518920128593,
            "count": 1
           }
          ],
          "max": "67.25021022365104",
          "min": "0.0",
          "nan_count": 0,
          "unique_count": 7
         }
        },
        {
         "dtype": "float64",
         "name": "nunique_numbers",
         "stats": {
          "histogram": [
           {
            "bin_end": 10.3,
            "bin_start": 1,
            "count": 3
           },
           {
            "bin_end": 19.6,
            "bin_start": 10.3,
            "count": 1
           },
           {
            "bin_end": 28.900000000000002,
            "bin_start": 19.6,
            "count": 0
           },
           {
            "bin_end": 38.2,
            "bin_start": 28.900000000000002,
            "count": 1
           },
           {
            "bin_end": 47.5,
            "bin_start": 38.2,
            "count": 1
           },
           {
            "bin_end": 56.800000000000004,
            "bin_start": 47.5,
            "count": 0
           },
           {
            "bin_end": 66.10000000000001,
            "bin_start": 56.800000000000004,
            "count": 0
           },
           {
            "bin_end": 75.4,
            "bin_start": 66.10000000000001,
            "count": 0
           },
           {
            "bin_end": 84.7,
            "bin_start": 75.4,
            "count": 0
           },
           {
            "bin_end": 94,
            "bin_start": 84.7,
            "count": 1
           }
          ],
          "max": "94.0",
          "min": "1.0",
          "nan_count": 0,
          "unique_count": 7
         }
        },
        {
         "dtype": "float64",
         "name": "nunique_numbers_lower",
         "stats": {
          "histogram": [
           {
            "bin_end": 10.3,
            "bin_start": 1,
            "count": 3
           },
           {
            "bin_end": 19.6,
            "bin_start": 10.3,
            "count": 1
           },
           {
            "bin_end": 28.900000000000002,
            "bin_start": 19.6,
            "count": 0
           },
           {
            "bin_end": 38.2,
            "bin_start": 28.900000000000002,
            "count": 1
           },
           {
            "bin_end": 47.5,
            "bin_start": 38.2,
            "count": 1
           },
           {
            "bin_end": 56.800000000000004,
            "bin_start": 47.5,
            "count": 0
           },
           {
            "bin_end": 66.10000000000001,
            "bin_start": 56.800000000000004,
            "count": 0
           },
           {
            "bin_end": 75.4,
            "bin_start": 66.10000000000001,
            "count": 0
           },
           {
            "bin_end": 84.7,
            "bin_start": 75.4,
            "count": 0
           },
           {
            "bin_end": 94,
            "bin_start": 84.7,
            "count": 1
           }
          ],
          "max": "94.0",
          "min": "1.0",
          "nan_count": 0,
          "unique_count": 7
         }
        },
        {
         "dtype": "float64",
         "name": "nunique_numbers_upper",
         "stats": {
          "histogram": [
           {
            "bin_end": 10.3,
            "bin_start": 1,
            "count": 3
           },
           {
            "bin_end": 19.6,
            "bin_start": 10.3,
            "count": 1
           },
           {
            "bin_end": 28.900000000000002,
            "bin_start": 19.6,
            "count": 0
           },
           {
            "bin_end": 38.2,
            "bin_start": 28.900000000000002,
            "count": 1
           },
           {
            "bin_end": 47.5,
            "bin_start": 38.2,
            "count": 1
           },
           {
            "bin_end": 56.800000000000004,
            "bin_start": 47.5,
            "count": 0
           },
           {
            "bin_end": 66.10000000000001,
            "bin_start": 56.800000000000004,
            "count": 0
           },
           {
            "bin_end": 75.4,
            "bin_start": 66.10000000000001,
            "count": 0
           },
           {
            "bin_end": 84.7,
            "bin_start": 75.4,
            "count": 0
           },
           {
            "bin_end": 94,
            "bin_start": 84.7,
            "count": 1
           }
          ],
          "max": "94.0",
          "min": "1.0",
          "nan_count": 0,
          "unique_count": 7
         }
        },
        {
         "dtype": "float64",
         "name": "inferred_dtype",
         "stats": {
          "histogram": [
           {
            "bin_end": 2.1,
            "bin_start": 2,
            "count": 3
           },
           {
            "bin_end": 2.2,
            "bin_start": 2.1,
            "count": 0
           },
           {
            "bin_end": 2.3,
            "bin_start": 2.2,
            "count": 0
           },
           {
            "bin_end": 2.4,
            "bin_start": 2.3,
            "count": 0
           },
           {
            "bin_end": 2.5,
            "bin_start": 2.4,
            "count": 0
           },
           {
            "bin_end": 2.6,
            "bin_start": 2.5,
            "count": 0
           },
           {
            "bin_end": 2.7,
            "bin_start": 2.6,
            "count": 0
           },
           {
            "bin_end": 2.8,
            "bin_start": 2.7,
            "count": 0
           },
           {
            "bin_end": 2.9,
            "bin_start": 2.8,
            "count": 0
           },
           {
            "bin_end": 3,
            "bin_start": 2.9,
            "count": 4
           }
          ],
          "max": "3.0",
          "min": "2.0",
          "nan_count": 0,
          "unique_count": 2
         }
        },
        {
         "dtype": "float64",
         "name": "dtype_fraction",
         "stats": {
          "histogram": [
           {
            "bin_end": 0.6,
            "bin_start": 0.5,
            "count": 0
           },
           {
            "bin_end": 0.7,
            "bin_start": 0.6,
            "count": 0
           },
           {
            "bin_end": 0.8,
            "bin_start": 0.7,
            "count": 0
           },
           {
            "bin_end": 0.9,
            "bin_start": 0.8,
            "count": 0
           },
           {
            "bin_end": 1,
            "bin_start": 0.9,
            "count": 0
           },
           {
            "bin_end": 1.1,
            "bin_start": 1,
            "count": 7
           },
           {
            "bin_end": 1.2000000000000002,
            "bin_start": 1.1,
            "count": 0
           },
           {
            "bin_end": 1.3,
            "bin_start": 1.2000000000000002,
            "count": 0
           },
           {
            "bin_end": 1.4,
            "bin_start": 1.3,
            "count": 0
           },
           {
            "bin_end": 1.5,
            "bin_start": 1.4,
            "count": 0
           }
          ],
          "max": "1.0",
          "min": "1.0",
          "nan_count": 0,
          "unique_count": 1
         }
        },
        {
         "dtype": "float64",
         "name": "type_unknown_count",
         "stats": {
          "histogram": [
           {
            "bin_end": -0.4,
            "bin_start": -0.5,
            "count": 0
           },
           {
            "bin_end": -0.3,
            "bin_start": -0.4,
            "count": 0
           },
           {
            "bin_end": -0.19999999999999996,
            "bin_start": -0.3,
            "count": 0
           },
           {
            "bin_end": -0.09999999999999998,
            "bin_start": -0.19999999999999996,
            "count": 0
           },
           {
            "bin_end": 0,
            "bin_start": -0.09999999999999998,
            "count": 0
           },
           {
            "bin_end": 0.10000000000000009,
            "bin_start": 0,
            "count": 7
           },
           {
            "bin_end": 0.20000000000000007,
            "bin_start": 0.10000000000000009,
            "count": 0
           },
           {
            "bin_end": 0.30000000000000004,
            "bin_start": 0.20000000000000007,
            "count": 0
           },
           {
            "bin_end": 0.4,
            "bin_start": 0.30000000000000004,
            "count": 0
           },
           {
            "bin_end": 0.5,
            "bin_start": 0.4,
            "count": 0
           }
          ],
          "max": "0.0",
          "min": "0.0",
          "nan_count": 0,
          "unique_count": 1
         }
        },
        {
         "dtype": "float64",
         "name": "type_null_count",
         "stats": {
          "histogram": [
           {
            "bin_end": -0.4,
            "bin_start": -0.5,
            "count": 0
           },
           {
            "bin_end": -0.3,
            "bin_start": -0.4,
            "count": 0
           },
           {
            "bin_end": -0.19999999999999996,
            "bin_start": -0.3,
            "count": 0
           },
           {
            "bin_end": -0.09999999999999998,
            "bin_start": -0.19999999999999996,
            "count": 0
           },
           {
            "bin_end": 0,
            "bin_start": -0.09999999999999998,
            "count": 0
           },
           {
            "bin_end": 0.10000000000000009,
            "bin_start": 0,
            "count": 7
           },
           {
            "bin_end": 0.20000000000000007,
            "bin_start": 0.10000000000000009,
            "count": 0
           },
           {
            "bin_end": 0.30000000000000004,
            "bin_start": 0.20000000000000007,
            "count": 0
           },
           {
            "bin_end": 0.4,
            "bin_start": 0.30000000000000004,
            "count": 0
           },
           {
            "bin_end": 0.5,
            "bin_start": 0.4,
            "count": 0
           }
          ],
          "max": "0.0",
          "min": "0.0",
          "nan_count": 0,
          "unique_count": 1
         }
        },
        {
         "dtype": "float64",
         "name": "type_fractional_count",
         "stats": {
          "histogram": [
           {
            "bin_end": 11.7,
            "bin_start": 0,
            "count": 4
           },
           {
            "bin_end": 23.4,
            "bin_start": 11.7,
            "count": 0
           },
           {
            "bin_end": 35.099999999999994,
            "bin_start": 23.4,
            "count": 0
           },
           {
            "bin_end": 46.8,
            "bin_start": 35.099999999999994,
            "count": 0
           },
           {
            "bin_end": 58.5,
            "bin_start": 46.8,
            "count": 0
           },
           {
            "bin_end": 70.19999999999999,
            "bin_start": 58.5,
            "count": 0
           },
           {
            "bin_end": 81.89999999999999,
            "bin_start": 70.19999999999999,
            "count": 0
           },
           {
            "bin_end": 93.6,
            "bin_start": 81.89999999999999,
            "count": 0
           },
           {
            "bin_end": 105.3,
            "bin_start": 93.6,
            "count": 0
           },
           {
            "bin_end": 117,
            "bin_start": 105.3,
            "count": 3
           }
          ],
          "max": "117.0",
          "min": "0.0",
          "nan_count": 0,
          "unique_count": 2
         }
        },
        {
         "dtype": "float64",
         "name": "type_integral_count",
         "stats": {
          "histogram": [
           {
            "bin_end": 11.7,
            "bin_start": 0,
            "count": 3
           },
           {
            "bin_end": 23.4,
            "bin_start": 11.7,
            "count": 0
           },
           {
            "bin_end": 35.099999999999994,
            "bin_start": 23.4,
            "count": 0
           },
           {
            "bin_end": 46.8,
            "bin_start": 35.099999999999994,
            "count": 0
           },
           {
            "bin_end": 58.5,
            "bin_start": 46.8,
            "count": 0
           },
           {
            "bin_end": 70.19999999999999,
            "bin_start": 58.5,
            "count": 0
           },
           {
            "bin_end": 81.89999999999999,
            "bin_start": 70.19999999999999,
            "count": 0
           },
           {
            "bin_end": 93.6,
            "bin_start": 81.89999999999999,
            "count": 0
           },
           {
            "bin_end": 105.3,
            "bin_start": 93.6,
            "count": 0
           },
           {
            "bin_end": 117,
            "bin_start": 105.3,
            "count": 4
           }
          ],
          "max": "117.0",
          "min": "0.0",
          "nan_count": 0,
          "unique_count": 2
         }
        },
        {
         "dtype": "float64",
         "name": "type_boolean_count",
         "stats": {
          "histogram": [
           {
            "bin_end": -0.4,
            "bin_start": -0.5,
            "count": 0
           },
           {
            "bin_end": -0.3,
            "bin_start": -0.4,
            "count": 0
           },
           {
            "bin_end": -0.19999999999999996,
            "bin_start": -0.3,
            "count": 0
           },
           {
            "bin_end": -0.09999999999999998,
            "bin_start": -0.19999999999999996,
            "count": 0
           },
           {
            "bin_end": 0,
            "bin_start": -0.09999999999999998,
            "count": 0
           },
           {
            "bin_end": 0.10000000000000009,
            "bin_start": 0,
            "count": 7
           },
           {
            "bin_end": 0.20000000000000007,
            "bin_start": 0.10000000000000009,
            "count": 0
           },
           {
            "bin_end": 0.30000000000000004,
            "bin_start": 0.20000000000000007,
            "count": 0
           },
           {
            "bin_end": 0.4,
            "bin_start": 0.30000000000000004,
            "count": 0
           },
           {
            "bin_end": 0.5,
            "bin_start": 0.4,
            "count": 0
           }
          ],
          "max": "0.0",
          "min": "0.0",
          "nan_count": 0,
          "unique_count": 1
         }
        },
        {
         "dtype": "float64",
         "name": "type_string_count",
         "stats": {
          "histogram": [
           {
            "bin_end": -0.4,
            "bin_start": -0.5,
            "count": 0
           },
           {
            "bin_end": -0.3,
            "bin_start": -0.4,
            "count": 0
           },
           {
            "bin_end": -0.19999999999999996,
            "bin_start": -0.3,
            "count": 0
           },
           {
            "bin_end": -0.09999999999999998,
            "bin_start": -0.19999999999999996,
            "count": 0
           },
           {
            "bin_end": 0,
            "bin_start": -0.09999999999999998,
            "count": 0
           },
           {
            "bin_end": 0.10000000000000009,
            "bin_start": 0,
            "count": 7
           },
           {
            "bin_end": 0.20000000000000007,
            "bin_start": 0.10000000000000009,
            "count": 0
           },
           {
            "bin_end": 0.30000000000000004,
            "bin_start": 0.20000000000000007,
            "count": 0
           },
           {
            "bin_end": 0.4,
            "bin_start": 0.30000000000000004,
            "count": 0
           },
           {
            "bin_end": 0.5,
            "bin_start": 0.4,
            "count": 0
           }
          ],
          "max": "0.0",
          "min": "0.0",
          "nan_count": 0,
          "unique_count": 1
         }
        },
        {
         "dtype": "float64",
         "name": "nunique_str",
         "stats": {
          "histogram": [
           {
            "bin_end": -0.4,
            "bin_start": -0.5,
            "count": 0
           },
           {
            "bin_end": -0.3,
            "bin_start": -0.4,
            "count": 0
           },
           {
            "bin_end": -0.19999999999999996,
            "bin_start": -0.3,
            "count": 0
           },
           {
            "bin_end": -0.09999999999999998,
            "bin_start": -0.19999999999999996,
            "count": 0
           },
           {
            "bin_end": 0,
            "bin_start": -0.09999999999999998,
            "count": 0
           },
           {
            "bin_end": 0.10000000000000009,
            "bin_start": 0,
            "count": 7
           },
           {
            "bin_end": 0.20000000000000007,
            "bin_start": 0.10000000000000009,
            "count": 0
           },
           {
            "bin_end": 0.30000000000000004,
            "bin_start": 0.20000000000000007,
            "count": 0
           },
           {
            "bin_end": 0.4,
            "bin_start": 0.30000000000000004,
            "count": 0
           },
           {
            "bin_end": 0.5,
            "bin_start": 0.4,
            "count": 0
           }
          ],
          "max": "0.0",
          "min": "0.0",
          "nan_count": 0,
          "unique_count": 1
         }
        },
        {
         "dtype": "float64",
         "name": "nunique_str_lower",
         "stats": {
          "histogram": [
           {
            "bin_end": -0.4,
            "bin_start": -0.5,
            "count": 0
           },
           {
            "bin_end": -0.3,
            "bin_start": -0.4,
            "count": 0
           },
           {
            "bin_end": -0.19999999999999996,
            "bin_start": -0.3,
            "count": 0
           },
           {
            "bin_end": -0.09999999999999998,
            "bin_start": -0.19999999999999996,
            "count": 0
           },
           {
            "bin_end": 0,
            "bin_start": -0.09999999999999998,
            "count": 0
           },
           {
            "bin_end": 0.10000000000000009,
            "bin_start": 0,
            "count": 7
           },
           {
            "bin_end": 0.20000000000000007,
            "bin_start": 0.10000000000000009,
            "count": 0
           },
           {
            "bin_end": 0.30000000000000004,
            "bin_start": 0.20000000000000007,
            "count": 0
           },
           {
            "bin_end": 0.4,
            "bin_start": 0.30000000000000004,
            "count": 0
           },
           {
            "bin_end": 0.5,
            "bin_start": 0.4,
            "count": 0
           }
          ],
          "max": "0.0",
          "min": "0.0",
          "nan_count": 0,
          "unique_count": 1
         }
        },
        {
         "dtype": "float64",
         "name": "nunique_str_upper",
         "stats": {
          "histogram": [
           {
            "bin_end": -0.4,
            "bin_start": -0.5,
            "count": 0
           },
           {
            "bin_end": -0.3,
            "bin_start": -0.4,
            "count": 0
           },
           {
            "bin_end": -0.19999999999999996,
            "bin_start": -0.3,
            "count": 0
           },
           {
            "bin_end": -0.09999999999999998,
            "bin_start": -0.19999999999999996,
            "count": 0
           },
           {
            "bin_end": 0,
            "bin_start": -0.09999999999999998,
            "count": 0
           },
           {
            "bin_end": 0.10000000000000009,
            "bin_start": 0,
            "count": 7
           },
           {
            "bin_end": 0.20000000000000007,
            "bin_start": 0.10000000000000009,
            "count": 0
           },
           {
            "bin_end": 0.30000000000000004,
            "bin_start": 0.20000000000000007,
            "count": 0
           },
           {
            "bin_end": 0.4,
            "bin_start": 0.30000000000000004,
            "count": 0
           },
           {
            "bin_end": 0.5,
            "bin_start": 0.4,
            "count": 0
           }
          ],
          "max": "0.0",
          "min": "0.0",
          "nan_count": 0,
          "unique_count": 1
         }
        },
        {
         "dtype": "float64",
         "name": "max_length",
         "stats": {
          "histogram": [
           {
            "bin_end": -0.4,
            "bin_start": -0.5,
            "count": 0
           },
           {
            "bin_end": -0.3,
            "bin_start": -0.4,
            "count": 0
           },
           {
            "bin_end": -0.19999999999999996,
            "bin_start": -0.3,
            "count": 0
           },
           {
            "bin_end": -0.09999999999999998,
            "bin_start": -0.19999999999999996,
            "count": 0
           },
           {
            "bin_end": 0,
            "bin_start": -0.09999999999999998,
            "count": 0
           },
           {
            "bin_end": 0.10000000000000009,
            "bin_start": 0,
            "count": 7
           },
           {
            "bin_end": 0.20000000000000007,
            "bin_start": 0.10000000000000009,
            "count": 0
           },
           {
            "bin_end": 0.30000000000000004,
            "bin_start": 0.20000000000000007,
            "count": 0
           },
           {
            "bin_end": 0.4,
            "bin_start": 0.30000000000000004,
            "count": 0
           },
           {
            "bin_end": 0.5,
            "bin_start": 0.4,
            "count": 0
           }
          ],
          "max": "0.0",
          "min": "0.0",
          "nan_count": 0,
          "unique_count": 1
         }
        },
        {
         "dtype": "float64",
         "name": "mean_length",
         "stats": {
          "histogram": [
           {
            "bin_end": -0.4,
            "bin_start": -0.5,
            "count": 0
           },
           {
            "bin_end": -0.3,
            "bin_start": -0.4,
            "count": 0
           },
           {
            "bin_end": -0.19999999999999996,
            "bin_start": -0.3,
            "count": 0
           },
           {
            "bin_end": -0.09999999999999998,
            "bin_start": -0.19999999999999996,
            "count": 0
           },
           {
            "bin_end": 0,
            "bin_start": -0.09999999999999998,
            "count": 0
           },
           {
            "bin_end": 0.10000000000000009,
            "bin_start": 0,
            "count": 7
           },
           {
            "bin_end": 0.20000000000000007,
            "bin_start": 0.10000000000000009,
            "count": 0
           },
           {
            "bin_end": 0.30000000000000004,
            "bin_start": 0.20000000000000007,
            "count": 0
           },
           {
            "bin_end": 0.4,
            "bin_start": 0.30000000000000004,
            "count": 0
           },
           {
            "bin_end": 0.5,
            "bin_start": 0.4,
            "count": 0
           }
          ],
          "max": "0.0",
          "min": "0.0",
          "nan_count": 0,
          "unique_count": 1
         }
        },
        {
         "dtype": "float64",
         "name": "min_length",
         "stats": {
          "histogram": [
           {
            "bin_end": -0.4,
            "bin_start": -0.5,
            "count": 0
           },
           {
            "bin_end": -0.3,
            "bin_start": -0.4,
            "count": 0
           },
           {
            "bin_end": -0.19999999999999996,
            "bin_start": -0.3,
            "count": 0
           },
           {
            "bin_end": -0.09999999999999998,
            "bin_start": -0.19999999999999996,
            "count": 0
           },
           {
            "bin_end": 0,
            "bin_start": -0.09999999999999998,
            "count": 0
           },
           {
            "bin_end": 0.10000000000000009,
            "bin_start": 0,
            "count": 7
           },
           {
            "bin_end": 0.20000000000000007,
            "bin_start": 0.10000000000000009,
            "count": 0
           },
           {
            "bin_end": 0.30000000000000004,
            "bin_start": 0.20000000000000007,
            "count": 0
           },
           {
            "bin_end": 0.4,
            "bin_start": 0.30000000000000004,
            "count": 0
           },
           {
            "bin_end": 0.5,
            "bin_start": 0.4,
            "count": 0
           }
          ],
          "max": "0.0",
          "min": "0.0",
          "nan_count": 0,
          "unique_count": 1
         }
        },
        {
         "dtype": "float64",
         "name": "stddev_length",
         "stats": {
          "histogram": [
           {
            "bin_end": -0.4,
            "bin_start": -0.5,
            "count": 0
           },
           {
            "bin_end": -0.3,
            "bin_start": -0.4,
            "count": 0
           },
           {
            "bin_end": -0.19999999999999996,
            "bin_start": -0.3,
            "count": 0
           },
           {
            "bin_end": -0.09999999999999998,
            "bin_start": -0.19999999999999996,
            "count": 0
           },
           {
            "bin_end": 0,
            "bin_start": -0.09999999999999998,
            "count": 0
           },
           {
            "bin_end": 0.10000000000000009,
            "bin_start": 0,
            "count": 7
           },
           {
            "bin_end": 0.20000000000000007,
            "bin_start": 0.10000000000000009,
            "count": 0
           },
           {
            "bin_end": 0.30000000000000004,
            "bin_start": 0.20000000000000007,
            "count": 0
           },
           {
            "bin_end": 0.4,
            "bin_start": 0.30000000000000004,
            "count": 0
           },
           {
            "bin_end": 0.5,
            "bin_start": 0.4,
            "count": 0
           }
          ],
          "max": "0.0",
          "min": "0.0",
          "nan_count": 0,
          "unique_count": 1
         }
        },
        {
         "dtype": "float64",
         "name": "max_token_length",
         "stats": {
          "histogram": [
           {
            "bin_end": -0.4,
            "bin_start": -0.5,
            "count": 0
           },
           {
            "bin_end": -0.3,
            "bin_start": -0.4,
            "count": 0
           },
           {
            "bin_end": -0.19999999999999996,
            "bin_start": -0.3,
            "count": 0
           },
           {
            "bin_end": -0.09999999999999998,
            "bin_start": -0.19999999999999996,
            "count": 0
           },
           {
            "bin_end": 0,
            "bin_start": -0.09999999999999998,
            "count": 0
           },
           {
            "bin_end": 0.10000000000000009,
            "bin_start": 0,
            "count": 7
           },
           {
            "bin_end": 0.20000000000000007,
            "bin_start": 0.10000000000000009,
            "count": 0
           },
           {
            "bin_end": 0.30000000000000004,
            "bin_start": 0.20000000000000007,
            "count": 0
           },
           {
            "bin_end": 0.4,
            "bin_start": 0.30000000000000004,
            "count": 0
           },
           {
            "bin_end": 0.5,
            "bin_start": 0.4,
            "count": 0
           }
          ],
          "max": "0.0",
          "min": "0.0",
          "nan_count": 0,
          "unique_count": 1
         }
        },
        {
         "dtype": "float64",
         "name": "mean_token_length",
         "stats": {
          "histogram": [
           {
            "bin_end": -0.4,
            "bin_start": -0.5,
            "count": 0
           },
           {
            "bin_end": -0.3,
            "bin_start": -0.4,
            "count": 0
           },
           {
            "bin_end": -0.19999999999999996,
            "bin_start": -0.3,
            "count": 0
           },
           {
            "bin_end": -0.09999999999999998,
            "bin_start": -0.19999999999999996,
            "count": 0
           },
           {
            "bin_end": 0,
            "bin_start": -0.09999999999999998,
            "count": 0
           },
           {
            "bin_end": 0.10000000000000009,
            "bin_start": 0,
            "count": 7
           },
           {
            "bin_end": 0.20000000000000007,
            "bin_start": 0.10000000000000009,
            "count": 0
           },
           {
            "bin_end": 0.30000000000000004,
            "bin_start": 0.20000000000000007,
            "count": 0
           },
           {
            "bin_end": 0.4,
            "bin_start": 0.30000000000000004,
            "count": 0
           },
           {
            "bin_end": 0.5,
            "bin_start": 0.4,
            "count": 0
           }
          ],
          "max": "0.0",
          "min": "0.0",
          "nan_count": 0,
          "unique_count": 1
         }
        },
        {
         "dtype": "float64",
         "name": "min_token_length",
         "stats": {
          "histogram": [
           {
            "bin_end": -0.4,
            "bin_start": -0.5,
            "count": 0
           },
           {
            "bin_end": -0.3,
            "bin_start": -0.4,
            "count": 0
           },
           {
            "bin_end": -0.19999999999999996,
            "bin_start": -0.3,
            "count": 0
           },
           {
            "bin_end": -0.09999999999999998,
            "bin_start": -0.19999999999999996,
            "count": 0
           },
           {
            "bin_end": 0,
            "bin_start": -0.09999999999999998,
            "count": 0
           },
           {
            "bin_end": 0.10000000000000009,
            "bin_start": 0,
            "count": 7
           },
           {
            "bin_end": 0.20000000000000007,
            "bin_start": 0.10000000000000009,
            "count": 0
           },
           {
            "bin_end": 0.30000000000000004,
            "bin_start": 0.20000000000000007,
            "count": 0
           },
           {
            "bin_end": 0.4,
            "bin_start": 0.30000000000000004,
            "count": 0
           },
           {
            "bin_end": 0.5,
            "bin_start": 0.4,
            "count": 0
           }
          ],
          "max": "0.0",
          "min": "0.0",
          "nan_count": 0,
          "unique_count": 1
         }
        },
        {
         "dtype": "float64",
         "name": "stddev_token_length",
         "stats": {
          "histogram": [
           {
            "bin_end": -0.4,
            "bin_start": -0.5,
            "count": 0
           },
           {
            "bin_end": -0.3,
            "bin_start": -0.4,
            "count": 0
           },
           {
            "bin_end": -0.19999999999999996,
            "bin_start": -0.3,
            "count": 0
           },
           {
            "bin_end": -0.09999999999999998,
            "bin_start": -0.19999999999999996,
            "count": 0
           },
           {
            "bin_end": 0,
            "bin_start": -0.09999999999999998,
            "count": 0
           },
           {
            "bin_end": 0.10000000000000009,
            "bin_start": 0,
            "count": 7
           },
           {
            "bin_end": 0.20000000000000007,
            "bin_start": 0.10000000000000009,
            "count": 0
           },
           {
            "bin_end": 0.30000000000000004,
            "bin_start": 0.20000000000000007,
            "count": 0
           },
           {
            "bin_end": 0.4,
            "bin_start": 0.30000000000000004,
            "count": 0
           },
           {
            "bin_end": 0.5,
            "bin_start": 0.4,
            "count": 0
           }
          ],
          "max": "0.0",
          "min": "0.0",
          "nan_count": 0,
          "unique_count": 1
         }
        },
        {
         "dtype": "float64",
         "name": "quantile_0.0000",
         "stats": {
          "histogram": [
           {
            "bin_end": 2.1,
            "bin_start": 0,
            "count": 4
           },
           {
            "bin_end": 4.2,
            "bin_start": 2.1,
            "count": 0
           },
           {
            "bin_end": 6.300000000000001,
            "bin_start": 4.2,
            "count": 0
           },
           {
            "bin_end": 8.4,
            "bin_start": 6.300000000000001,
            "count": 0
           },
           {
            "bin_end": 10.5,
            "bin_start": 8.4,
            "count": 0
           },
           {
            "bin_end": 12.600000000000001,
            "bin_start": 10.5,
            "count": 0
           },
           {
            "bin_end": 14.700000000000001,
            "bin_start": 12.600000000000001,
            "count": 2
           },
           {
            "bin_end": 16.8,
            "bin_start": 14.700000000000001,
            "count": 0
           },
           {
            "bin_end": 18.900000000000002,
            "bin_start": 16.8,
            "count": 0
           },
           {
            "bin_end": 21,
            "bin_start": 18.900000000000002,
            "count": 1
           }
          ],
          "max": "21.0",
          "min": "0.0",
          "nan_count": 0,
          "unique_count": 5
         }
        },
        {
         "dtype": "float64",
         "name": "quantile_0.0100",
         "stats": {
          "histogram": [
           {
            "bin_end": 2.1,
            "bin_start": 0,
            "count": 4
           },
           {
            "bin_end": 4.2,
            "bin_start": 2.1,
            "count": 0
           },
           {
            "bin_end": 6.300000000000001,
            "bin_start": 4.2,
            "count": 0
           },
           {
            "bin_end": 8.4,
            "bin_start": 6.300000000000001,
            "count": 0
           },
           {
            "bin_end": 10.5,
            "bin_start": 8.4,
            "count": 0
           },
           {
            "bin_end": 12.600000000000001,
            "bin_start": 10.5,
            "count": 0
           },
           {
            "bin_end": 14.700000000000001,
            "bin_start": 12.600000000000001,
            "count": 2
           },
           {
            "bin_end": 16.8,
            "bin_start": 14.700000000000001,
            "count": 0
           },
           {
            "bin_end": 18.900000000000002,
            "bin_start": 16.8,
            "count": 0
           },
           {
            "bin_end": 21,
            "bin_start": 18.900000000000002,
            "count": 1
           }
          ],
          "max": "21.0",
          "min": "0.0",
          "nan_count": 0,
          "unique_count": 6
         }
        },
        {
         "dtype": "float64",
         "name": "quantile_0.0500",
         "stats": {
          "histogram": [
           {
            "bin_end": 4.3,
            "bin_start": 0,
            "count": 4
           },
           {
            "bin_end": 8.6,
            "bin_start": 4.3,
            "count": 0
           },
           {
            "bin_end": 12.899999999999999,
            "bin_start": 8.6,
            "count": 0
           },
           {
            "bin_end": 17.2,
            "bin_start": 12.899999999999999,
            "count": 1
           },
           {
            "bin_end": 21.5,
            "bin_start": 17.2,
            "count": 1
           },
           {
            "bin_end": 25.799999999999997,
            "bin_start": 21.5,
            "count": 0
           },
           {
            "bin_end": 30.099999999999998,
            "bin_start": 25.799999999999997,
            "count": 0
           },
           {
            "bin_end": 34.4,
            "bin_start": 30.099999999999998,
            "count": 0
           },
           {
            "bin_end": 38.699999999999996,
            "bin_start": 34.4,
            "count": 0
           },
           {
            "bin_end": 43,
            "bin_start": 38.699999999999996,
            "count": 1
           }
          ],
          "max": "43.0",
          "min": "0.0",
          "nan_count": 0,
          "unique_count": 6
         }
        },
        {
         "dtype": "float64",
         "name": "quantile_0.2500",
         "stats": {
          "histogram": [
           {
            "bin_end": 11.3,
            "bin_start": 0,
            "count": 4
           },
           {
            "bin_end": 22.6,
            "bin_start": 11.3,
            "count": 1
           },
           {
            "bin_end": 33.900000000000006,
            "bin_start": 22.6,
            "count": 1
           },
           {
            "bin_end": 45.2,
            "bin_start": 33.900000000000006,
            "count": 0
           },
           {
            "bin_end": 56.5,
            "bin_start": 45.2,
            "count": 0
           },
           {
            "bin_end": 67.80000000000001,
            "bin_start": 56.5,
            "count": 0
           },
           {
            "bin_end": 79.10000000000001,
            "bin_start": 67.80000000000001,
            "count": 0
           },
           {
            "bin_end": 90.4,
            "bin_start": 79.10000000000001,
            "count": 0
           },
           {
            "bin_end": 101.7,
            "bin_start": 90.4,
            "count": 0
           },
           {
            "bin_end": 113,
            "bin_start": 101.7,
            "count": 1
           }
          ],
          "max": "113.0",
          "min": "0.0",
          "nan_count": 0,
          "unique_count": 6
         }
        },
        {
         "dtype": "float64",
         "name": "quantile_0.5000",
         "stats": {
          "histogram": [
           {
            "bin_end": 16.1,
            "bin_start": 0,
            "count": 4
           },
           {
            "bin_end": 32.2,
            "bin_start": 16.1,
            "count": 2
           },
           {
            "bin_end": 48.300000000000004,
            "bin_start": 32.2,
            "count": 0
           },
           {
            "bin_end": 64.4,
            "bin_start": 48.300000000000004,
            "count": 0
           },
           {
            "bin_end": 80.5,
            "bin_start": 64.4,
            "count": 0
           },
           {
            "bin_end": 96.60000000000001,
            "bin_start": 80.5,
            "count": 0
           },
           {
            "bin_end": 112.70000000000002,
            "bin_start": 96.60000000000001,
            "count": 0
           },
           {
            "bin_end": 128.8,
            "bin_start": 112.70000000000002,
            "count": 0
           },
           {
            "bin_end": 144.9,
            "bin_start": 128.8,
            "count": 0
           },
           {
            "bin_end": 161,
            "bin_start": 144.9,
            "count": 1
           }
          ],
          "max": "161.0",
          "min": "0.0",
          "nan_count": 0,
          "unique_count": 7
         }
        },
        {
         "dtype": "float64",
         "name": "quantile_0.7500",
         "stats": {
          "histogram": [
           {
            "bin_end": 23.1,
            "bin_start": 0,
            "count": 5
           },
           {
            "bin_end": 46.2,
            "bin_start": 23.1,
            "count": 1
           },
           {
            "bin_end": 69.30000000000001,
            "bin_start": 46.2,
            "count": 0
           },
           {
            "bin_end": 92.4,
            "bin_start": 69.30000000000001,
            "count": 0
           },
           {
            "bin_end": 115.5,
            "bin_start": 92.4,
            "count": 0
           },
           {
            "bin_end": 138.60000000000002,
            "bin_start": 115.5,
            "count": 0
           },
           {
            "bin_end": 161.70000000000002,
            "bin_start": 138.60000000000002,
            "count": 0
           },
           {
            "bin_end": 184.8,
            "bin_start": 161.70000000000002,
            "count": 0
           },
           {
            "bin_end": 207.9,
            "bin_start": 184.8,
            "count": 0
           },
           {
            "bin_end": 231,
            "bin_start": 207.9,
            "count": 1
           }
          ],
          "max": "231.0",
          "min": "0.0",
          "nan_count": 0,
          "unique_count": 7
         }
        },
        {
         "dtype": "float64",
         "name": "quantile_0.9500",
         "stats": {
          "histogram": [
           {
            "bin_end": 25.6,
            "bin_start": 0,
            "count": 4
           },
           {
            "bin_end": 51.2,
            "bin_start": 25.6,
            "count": 2
           },
           {
            "bin_end": 76.80000000000001,
            "bin_start": 51.2,
            "count": 0
           },
           {
            "bin_end": 102.4,
            "bin_start": 76.80000000000001,
            "count": 0
           },
           {
            "bin_end": 128,
            "bin_start": 102.4,
            "count": 0
           },
           {
            "bin_end": 153.60000000000002,
            "bin_start": 128,
            "count": 0
           },
           {
            "bin_end": 179.20000000000002,
            "bin_start": 153.60000000000002,
            "count": 0
           },
           {
            "bin_end": 204.8,
            "bin_start": 179.20000000000002,
            "count": 0
           },
           {
            "bin_end": 230.4,
            "bin_start": 204.8,
            "count": 0
           },
           {
            "bin_end": 256,
            "bin_start": 230.4,
            "count": 1
           }
          ],
          "max": "256.0",
          "min": "0.0",
          "nan_count": 0,
          "unique_count": 6
         }
        },
        {
         "dtype": "float64",
         "name": "quantile_0.9900",
         "stats": {
          "histogram": [
           {
            "bin_end": 26.2,
            "bin_start": 0,
            "count": 4
           },
           {
            "bin_end": 52.4,
            "bin_start": 26.2,
            "count": 2
           },
           {
            "bin_end": 78.6,
            "bin_start": 52.4,
            "count": 0
           },
           {
            "bin_end": 104.8,
            "bin_start": 78.6,
            "count": 0
           },
           {
            "bin_end": 131,
            "bin_start": 104.8,
            "count": 0
           },
           {
            "bin_end": 157.2,
            "bin_start": 131,
            "count": 0
           },
           {
            "bin_end": 183.4,
            "bin_start": 157.2,
            "count": 0
           },
           {
            "bin_end": 209.6,
            "bin_start": 183.4,
            "count": 0
           },
           {
            "bin_end": 235.79999999999998,
            "bin_start": 209.6,
            "count": 0
           },
           {
            "bin_end": 262,
            "bin_start": 235.79999999999998,
            "count": 1
           }
          ],
          "max": "262.0",
          "min": "0.0",
          "nan_count": 0,
          "unique_count": 7
         }
        },
        {
         "dtype": "float64",
         "name": "quantile_1.0000",
         "stats": {
          "histogram": [
           {
            "bin_end": 26.3,
            "bin_start": 0,
            "count": 4
           },
           {
            "bin_end": 52.6,
            "bin_start": 26.3,
            "count": 2
           },
           {
            "bin_end": 78.9,
            "bin_start": 52.6,
            "count": 0
           },
           {
            "bin_end": 105.2,
            "bin_start": 78.9,
            "count": 0
           },
           {
            "bin_end": 131.5,
            "bin_start": 105.2,
            "count": 0
           },
           {
            "bin_end": 157.8,
            "bin_start": 131.5,
            "count": 0
           },
           {
            "bin_end": 184.1,
            "bin_start": 157.8,
            "count": 0
           },
           {
            "bin_end": 210.4,
            "bin_start": 184.1,
            "count": 0
           },
           {
            "bin_end": 236.70000000000002,
            "bin_start": 210.4,
            "count": 0
           },
           {
            "bin_end": 263,
            "bin_start": 236.70000000000002,
            "count": 1
           }
          ],
          "max": "263.0",
          "min": "0.0",
          "nan_count": 0,
          "unique_count": 7
         }
        },
        {
         "dtype": "int64",
         "name": "_deepnote_index_column"
        }
       ],
       "row_count": 7,
       "rows": [
        {
         "_deepnote_index_column": 0,
         "bool_count": 0,
         "column": "trip_distance",
         "count": 117,
         "dtype_fraction": 1,
         "inferred_dtype": 2,
         "max": 20.6,
         "max_length": 0,
         "max_token_length": 0,
         "mean": 2.8585470085470086,
         "mean_length": 0,
         "mean_token_length": 0,
         "min": 0,
         "min_length": 0,
         "min_token_length": 0,
         "null_count": 0,
         "numeric_count": 117,
         "nunique_numbers": 94,
         "nunique_numbers_lower": 94,
         "nunique_numbers_upper": 94,
         "nunique_str": 0,
         "nunique_str_lower": 0,
         "nunique_str_upper": 0,
         "quantile_0.0000": 0,
         "quantile_0.0100": 0.2800000011920929,
         "quantile_0.0500": 0.38999998569488525,
         "quantile_0.2500": 0.8899999856948853,
         "quantile_0.5000": 1.7400000095367432,
         "quantile_0.7500": 2.8399999141693115,
         "quantile_0.9500": 9.75,
         "quantile_0.9900": 17.540000915527344,
         "quantile_1.0000": 20.600000381469727,
         "stddev": 3.620116273841659,
         "stddev_length": 0,
         "stddev_token_length": 0,
         "type_boolean_count": 0,
         "type_fractional_count": 117,
         "type_integral_count": 0,
         "type_null_count": 0,
         "type_string_count": 0,
         "type_unknown_count": 0
        },
        {
         "_deepnote_index_column": 1,
         "bool_count": 0,
         "column": "PULocationID",
         "count": 117,
         "dtype_fraction": 1,
         "inferred_dtype": 3,
         "max": 263,
         "max_length": 0,
         "max_token_length": 0,
         "mean": 158.14529914529913,
         "mean_length": 0,
         "mean_token_length": 0,
         "min": 13,
         "min_length": 0,
         "min_token_length": 0,
         "null_count": 0,
         "numeric_count": 117,
         "nunique_numbers": 42,
         "nunique_numbers_lower": 42,
         "nunique_numbers_upper": 42,
         "nunique_str": 0,
         "nunique_str_lower": 0,
         "nunique_str_upper": 0,
         "quantile_0.0000": 13,
         "quantile_0.0100": 13,
         "quantile_0.0500": 43,
         "quantile_0.2500": 113,
         "quantile_0.5000": 161,
         "quantile_0.7500": 231,
         "quantile_0.9500": 256,
         "quantile_0.9900": 262,
         "quantile_1.0000": 263,
         "stddev": 67.25021022365104,
         "stddev_length": 0,
         "stddev_token_length": 0,
         "type_boolean_count": 0,
         "type_fractional_count": 0,
         "type_integral_count": 117,
         "type_null_count": 0,
         "type_string_count": 0,
         "type_unknown_count": 0
        },
        {
         "_deepnote_index_column": 2,
         "bool_count": 0,
         "column": "passenger_count",
         "count": 117,
         "dtype_fraction": 1,
         "inferred_dtype": 2,
         "max": 6,
         "max_length": 0,
         "max_token_length": 0,
         "mean": 1.4871794871794872,
         "mean_length": 0,
         "mean_token_length": 0,
         "min": 0,
         "min_length": 0,
         "min_token_length": 0,
         "null_count": 0,
         "numeric_count": 117,
         "nunique_numbers": 7,
         "nunique_numbers_lower": 7,
         "nunique_numbers_upper": 7,
         "nunique_str": 0,
         "nunique_str_lower": 0,
         "nunique_str_upper": 0,
         "quantile_0.0000": 0,
         "quantile_0.0100": 0,
         "quantile_0.0500": 1,
         "quantile_0.2500": 1,
         "quantile_0.5000": 1,
         "quantile_0.7500": 1,
         "quantile_0.9500": 4,
         "quantile_0.9900": 6,
         "quantile_1.0000": 6,
         "stddev": 1.1418027534786641,
         "stddev_length": 0,
         "stddev_token_length": 0,
         "type_boolean_count": 0,
         "type_fractional_count": 117,
         "type_integral_count": 0,
         "type_null_count": 0,
         "type_string_count": 0,
         "type_unknown_count": 0
        },
        {
         "_deepnote_index_column": 3,
         "bool_count": 0,
         "column": "driver_avg_daily_trips",
         "count": 117,
         "dtype_fraction": 1,
         "inferred_dtype": 3,
         "max": 46,
         "max_length": 0,
         "max_token_length": 0,
         "mean": 29.64957264957265,
         "mean_length": 0,
         "mean_token_length": 0,
         "min": 21,
         "min_length": 0,
         "min_token_length": 0,
         "null_count": 0,
         "numeric_count": 117,
         "nunique_numbers": 18,
         "nunique_numbers_lower": 18,
         "nunique_numbers_upper": 18,
         "nunique_str": 0,
         "nunique_str_lower": 0,
         "nunique_str_upper": 0,
         "quantile_0.0000": 21,
         "quantile_0.0100": 21,
         "quantile_0.0500": 21,
         "quantile_0.2500": 25,
         "quantile_0.5000": 28,
         "quantile_0.7500": 33,
         "quantile_0.9500": 40,
         "quantile_0.9900": 46,
         "quantile_1.0000": 46,
         "stddev": 6.36032454078195,
         "stddev_length": 0,
         "stddev_token_length": 0,
         "type_boolean_count": 0,
         "type_fractional_count": 0,
         "type_integral_count": 117,
         "type_null_count": 0,
         "type_string_count": 0,
         "type_unknown_count": 0
        },
        {
         "_deepnote_index_column": 4,
         "bool_count": 0,
         "column": "pickup_weekday",
         "count": 117,
         "dtype_fraction": 1,
         "inferred_dtype": 3,
         "max": 0,
         "max_length": 0,
         "max_token_length": 0,
         "mean": 0,
         "mean_length": 0,
         "mean_token_length": 0,
         "min": 0,
         "min_length": 0,
         "min_token_length": 0,
         "null_count": 0,
         "numeric_count": 117,
         "nunique_numbers": 1,
         "nunique_numbers_lower": 1,
         "nunique_numbers_upper": 1,
         "nunique_str": 0,
         "nunique_str_lower": 0,
         "nunique_str_upper": 0,
         "quantile_0.0000": 0,
         "quantile_0.0100": 0,
         "quantile_0.0500": 0,
         "quantile_0.2500": 0,
         "quantile_0.5000": 0,
         "quantile_0.7500": 0,
         "quantile_0.9500": 0,
         "quantile_0.9900": 0,
         "quantile_1.0000": 0,
         "stddev": 0,
         "stddev_length": 0,
         "stddev_token_length": 0,
         "type_boolean_count": 0,
         "type_fractional_count": 0,
         "type_integral_count": 117,
         "type_null_count": 0,
         "type_string_count": 0,
         "type_unknown_count": 0
        },
        {
         "_deepnote_index_column": 5,
         "bool_count": 0,
         "column": "driver_avg_speed",
         "count": 117,
         "dtype_fraction": 1,
         "inferred_dtype": 2,
         "max": 33.34000015258789,
         "max_length": 0,
         "max_token_length": 0,
         "mean": 20.700512886047363,
         "mean_length": 0,
         "mean_token_length": 0,
         "min": 14.380000114440918,
         "min_length": 0,
         "min_token_length": 0,
         "null_count": 0,
         "numeric_count": 117,
         "nunique_numbers": 38,
         "nunique_numbers_lower": 38,
         "nunique_numbers_upper": 38,
         "nunique_str": 0,
         "nunique_str_lower": 0,
         "nunique_str_upper": 0,
         "quantile_0.0000": 14.380000114440918,
         "quantile_0.0100": 14.380000114440918,
         "quantile_0.0500": 14.619999885559082,
         "quantile_0.2500": 18.809999465942383,
         "quantile_0.5000": 20.110000610351562,
         "quantile_0.7500": 22.549999237060547,
         "quantile_0.9500": 26.040000915527344,
         "quantile_0.9900": 33.34000015258789,
         "quantile_1.0000": 33.34000015258789,
         "stddev": 4.075931471585527,
         "stddev_length": 0,
         "stddev_token_length": 0,
         "type_boolean_count": 0,
         "type_fractional_count": 117,
         "type_integral_count": 0,
         "type_null_count": 0,
         "type_string_count": 0,
         "type_unknown_count": 0
        },
        {
         "_deepnote_index_column": 6,
         "bool_count": 0,
         "column": "driver_rate_1m",
         "count": 117,
         "dtype_fraction": 1,
         "inferred_dtype": 3,
         "max": 4,
         "max_length": 0,
         "max_token_length": 0,
         "mean": 2.0854700854700856,
         "mean_length": 0,
         "mean_token_length": 0,
         "min": 1,
         "min_length": 0,
         "min_token_length": 0,
         "null_count": 0,
         "numeric_count": 117,
         "nunique_numbers": 4,
         "nunique_numbers_lower": 4,
         "nunique_numbers_upper": 4,
         "nunique_str": 0,
         "nunique_str_lower": 0,
         "nunique_str_upper": 0,
         "quantile_0.0000": 1,
         "quantile_0.0100": 1,
         "quantile_0.0500": 1,
         "quantile_0.2500": 1,
         "quantile_0.5000": 2,
         "quantile_0.7500": 3,
         "quantile_0.9500": 4,
         "quantile_0.9900": 4,
         "quantile_1.0000": 4,
         "stddev": 0.8960896812093199,
         "stddev_length": 0,
         "stddev_token_length": 0,
         "type_boolean_count": 0,
         "type_fractional_count": 0,
         "type_integral_count": 117,
         "type_null_count": 0,
         "type_string_count": 0,
         "type_unknown_count": 0
        }
       ]
      },
      "text/html": [
       "<div>\n",
       "<style scoped>\n",
       "    .dataframe tbody tr th:only-of-type {\n",
       "        vertical-align: middle;\n",
       "    }\n",
       "\n",
       "    .dataframe tbody tr th {\n",
       "        vertical-align: top;\n",
       "    }\n",
       "\n",
       "    .dataframe thead th {\n",
       "        text-align: right;\n",
       "    }\n",
       "</style>\n",
       "<table border=\"1\" class=\"dataframe\">\n",
       "  <thead>\n",
       "    <tr style=\"text-align: right;\">\n",
       "      <th></th>\n",
       "      <th>column</th>\n",
       "      <th>count</th>\n",
       "      <th>null_count</th>\n",
       "      <th>bool_count</th>\n",
       "      <th>numeric_count</th>\n",
       "      <th>max</th>\n",
       "      <th>mean</th>\n",
       "      <th>min</th>\n",
       "      <th>stddev</th>\n",
       "      <th>nunique_numbers</th>\n",
       "      <th>...</th>\n",
       "      <th>stddev_token_length</th>\n",
       "      <th>quantile_0.0000</th>\n",
       "      <th>quantile_0.0100</th>\n",
       "      <th>quantile_0.0500</th>\n",
       "      <th>quantile_0.2500</th>\n",
       "      <th>quantile_0.5000</th>\n",
       "      <th>quantile_0.7500</th>\n",
       "      <th>quantile_0.9500</th>\n",
       "      <th>quantile_0.9900</th>\n",
       "      <th>quantile_1.0000</th>\n",
       "    </tr>\n",
       "  </thead>\n",
       "  <tbody>\n",
       "    <tr>\n",
       "      <th>0</th>\n",
       "      <td>trip_distance</td>\n",
       "      <td>117.0</td>\n",
       "      <td>0.0</td>\n",
       "      <td>0.0</td>\n",
       "      <td>117.0</td>\n",
       "      <td>20.60</td>\n",
       "      <td>2.858547</td>\n",
       "      <td>0.00</td>\n",
       "      <td>3.620116</td>\n",
       "      <td>94.0</td>\n",
       "      <td>...</td>\n",
       "      <td>0.0</td>\n",
       "      <td>0.00</td>\n",
       "      <td>0.28</td>\n",
       "      <td>0.39</td>\n",
       "      <td>0.890000</td>\n",
       "      <td>1.740000</td>\n",
       "      <td>2.840000</td>\n",
       "      <td>9.750000</td>\n",
       "      <td>17.540001</td>\n",
       "      <td>20.60</td>\n",
       "    </tr>\n",
       "    <tr>\n",
       "      <th>1</th>\n",
       "      <td>PULocationID</td>\n",
       "      <td>117.0</td>\n",
       "      <td>0.0</td>\n",
       "      <td>0.0</td>\n",
       "      <td>117.0</td>\n",
       "      <td>263.00</td>\n",
       "      <td>158.145299</td>\n",
       "      <td>13.00</td>\n",
       "      <td>67.250210</td>\n",
       "      <td>42.0</td>\n",
       "      <td>...</td>\n",
       "      <td>0.0</td>\n",
       "      <td>13.00</td>\n",
       "      <td>13.00</td>\n",
       "      <td>43.00</td>\n",
       "      <td>113.000000</td>\n",
       "      <td>161.000000</td>\n",
       "      <td>231.000000</td>\n",
       "      <td>256.000000</td>\n",
       "      <td>262.000000</td>\n",
       "      <td>263.00</td>\n",
       "    </tr>\n",
       "    <tr>\n",
       "      <th>2</th>\n",
       "      <td>passenger_count</td>\n",
       "      <td>117.0</td>\n",
       "      <td>0.0</td>\n",
       "      <td>0.0</td>\n",
       "      <td>117.0</td>\n",
       "      <td>6.00</td>\n",
       "      <td>1.487179</td>\n",
       "      <td>0.00</td>\n",
       "      <td>1.141803</td>\n",
       "      <td>7.0</td>\n",
       "      <td>...</td>\n",
       "      <td>0.0</td>\n",
       "      <td>0.00</td>\n",
       "      <td>0.00</td>\n",
       "      <td>1.00</td>\n",
       "      <td>1.000000</td>\n",
       "      <td>1.000000</td>\n",
       "      <td>1.000000</td>\n",
       "      <td>4.000000</td>\n",
       "      <td>6.000000</td>\n",
       "      <td>6.00</td>\n",
       "    </tr>\n",
       "    <tr>\n",
       "      <th>3</th>\n",
       "      <td>driver_avg_daily_trips</td>\n",
       "      <td>117.0</td>\n",
       "      <td>0.0</td>\n",
       "      <td>0.0</td>\n",
       "      <td>117.0</td>\n",
       "      <td>46.00</td>\n",
       "      <td>29.649573</td>\n",
       "      <td>21.00</td>\n",
       "      <td>6.360325</td>\n",
       "      <td>18.0</td>\n",
       "      <td>...</td>\n",
       "      <td>0.0</td>\n",
       "      <td>21.00</td>\n",
       "      <td>21.00</td>\n",
       "      <td>21.00</td>\n",
       "      <td>25.000000</td>\n",
       "      <td>28.000000</td>\n",
       "      <td>33.000000</td>\n",
       "      <td>40.000000</td>\n",
       "      <td>46.000000</td>\n",
       "      <td>46.00</td>\n",
       "    </tr>\n",
       "    <tr>\n",
       "      <th>4</th>\n",
       "      <td>pickup_weekday</td>\n",
       "      <td>117.0</td>\n",
       "      <td>0.0</td>\n",
       "      <td>0.0</td>\n",
       "      <td>117.0</td>\n",
       "      <td>0.00</td>\n",
       "      <td>0.000000</td>\n",
       "      <td>0.00</td>\n",
       "      <td>0.000000</td>\n",
       "      <td>1.0</td>\n",
       "      <td>...</td>\n",
       "      <td>0.0</td>\n",
       "      <td>0.00</td>\n",
       "      <td>0.00</td>\n",
       "      <td>0.00</td>\n",
       "      <td>0.000000</td>\n",
       "      <td>0.000000</td>\n",
       "      <td>0.000000</td>\n",
       "      <td>0.000000</td>\n",
       "      <td>0.000000</td>\n",
       "      <td>0.00</td>\n",
       "    </tr>\n",
       "    <tr>\n",
       "      <th>5</th>\n",
       "      <td>driver_avg_speed</td>\n",
       "      <td>117.0</td>\n",
       "      <td>0.0</td>\n",
       "      <td>0.0</td>\n",
       "      <td>117.0</td>\n",
       "      <td>33.34</td>\n",
       "      <td>20.700513</td>\n",
       "      <td>14.38</td>\n",
       "      <td>4.075931</td>\n",
       "      <td>38.0</td>\n",
       "      <td>...</td>\n",
       "      <td>0.0</td>\n",
       "      <td>14.38</td>\n",
       "      <td>14.38</td>\n",
       "      <td>14.62</td>\n",
       "      <td>18.809999</td>\n",
       "      <td>20.110001</td>\n",
       "      <td>22.549999</td>\n",
       "      <td>26.040001</td>\n",
       "      <td>33.340000</td>\n",
       "      <td>33.34</td>\n",
       "    </tr>\n",
       "    <tr>\n",
       "      <th>6</th>\n",
       "      <td>driver_rate_1m</td>\n",
       "      <td>117.0</td>\n",
       "      <td>0.0</td>\n",
       "      <td>0.0</td>\n",
       "      <td>117.0</td>\n",
       "      <td>4.00</td>\n",
       "      <td>2.085470</td>\n",
       "      <td>1.00</td>\n",
       "      <td>0.896090</td>\n",
       "      <td>4.0</td>\n",
       "      <td>...</td>\n",
       "      <td>0.0</td>\n",
       "      <td>1.00</td>\n",
       "      <td>1.00</td>\n",
       "      <td>1.00</td>\n",
       "      <td>1.000000</td>\n",
       "      <td>2.000000</td>\n",
       "      <td>3.000000</td>\n",
       "      <td>4.000000</td>\n",
       "      <td>4.000000</td>\n",
       "      <td>4.00</td>\n",
       "    </tr>\n",
       "  </tbody>\n",
       "</table>\n",
       "<p>7 rows × 40 columns</p>\n",
       "</div>"
      ],
      "text/plain": [
       "                   column  count  null_count  bool_count  numeric_count  \\\n",
       "0           trip_distance  117.0         0.0         0.0          117.0   \n",
       "1            PULocationID  117.0         0.0         0.0          117.0   \n",
       "2         passenger_count  117.0         0.0         0.0          117.0   \n",
       "3  driver_avg_daily_trips  117.0         0.0         0.0          117.0   \n",
       "4          pickup_weekday  117.0         0.0         0.0          117.0   \n",
       "5        driver_avg_speed  117.0         0.0         0.0          117.0   \n",
       "6          driver_rate_1m  117.0         0.0         0.0          117.0   \n",
       "\n",
       "      max        mean    min     stddev  nunique_numbers  ...  \\\n",
       "0   20.60    2.858547   0.00   3.620116             94.0  ...   \n",
       "1  263.00  158.145299  13.00  67.250210             42.0  ...   \n",
       "2    6.00    1.487179   0.00   1.141803              7.0  ...   \n",
       "3   46.00   29.649573  21.00   6.360325             18.0  ...   \n",
       "4    0.00    0.000000   0.00   0.000000              1.0  ...   \n",
       "5   33.34   20.700513  14.38   4.075931             38.0  ...   \n",
       "6    4.00    2.085470   1.00   0.896090              4.0  ...   \n",
       "\n",
       "   stddev_token_length  quantile_0.0000  quantile_0.0100  quantile_0.0500  \\\n",
       "0                  0.0             0.00             0.28             0.39   \n",
       "1                  0.0            13.00            13.00            43.00   \n",
       "2                  0.0             0.00             0.00             1.00   \n",
       "3                  0.0            21.00            21.00            21.00   \n",
       "4                  0.0             0.00             0.00             0.00   \n",
       "5                  0.0            14.38            14.38            14.62   \n",
       "6                  0.0             1.00             1.00             1.00   \n",
       "\n",
       "   quantile_0.2500  quantile_0.5000  quantile_0.7500  quantile_0.9500  \\\n",
       "0         0.890000         1.740000         2.840000         9.750000   \n",
       "1       113.000000       161.000000       231.000000       256.000000   \n",
       "2         1.000000         1.000000         1.000000         4.000000   \n",
       "3        25.000000        28.000000        33.000000        40.000000   \n",
       "4         0.000000         0.000000         0.000000         0.000000   \n",
       "5        18.809999        20.110001        22.549999        26.040001   \n",
       "6         1.000000         2.000000         3.000000         4.000000   \n",
       "\n",
       "   quantile_0.9900  quantile_1.0000  \n",
       "0        17.540001            20.60  \n",
       "1       262.000000           263.00  \n",
       "2         6.000000             6.00  \n",
       "3        46.000000            46.00  \n",
       "4         0.000000             0.00  \n",
       "5        33.340000            33.34  \n",
       "6         4.000000             4.00  \n",
       "\n",
       "[7 rows x 40 columns]"
      ]
     },
     "execution_count": 17,
     "metadata": {},
     "output_type": "execute_result"
    }
   ],
   "source": [
    "summaries = profile.flat_summary()\n",
    "summaries['summary']"
   ]
  },
  {
   "cell_type": "markdown",
   "metadata": {
    "cell_id": "05c52f42-d248-4520-b43f-afe281c46d59",
    "deepnote_cell_height": 82,
    "deepnote_cell_type": "markdown",
    "deepnote_to_be_reexecuted": false,
    "execution_start": 1644002560972,
    "source_hash": "a4fd8ea9",
    "tags": []
   },
   "source": [
    "# Inspecting multiple profiles across time"
   ]
  },
  {
   "cell_type": "markdown",
   "metadata": {
    "cell_id": "6e79347a-888b-4386-ba2e-d330304626a0",
    "deepnote_cell_height": 277.515625,
    "deepnote_cell_type": "markdown",
    "tags": []
   },
   "source": [
    "Now, let's add some data error issues into the dataset and see how we could visually inspect this with some of whylog's functionalites. The dataset was changed in the following way:\n",
    "\n",
    "- Feb 10: No changes\n",
    "- Feb 11: (__Data update error__) New driver features are available only in 2 hour cycles. Simulating a scenario in which the sampling frequency is affected for some reason.\n",
    "- Feb 12: No changes\n",
    "- Feb 13: No changes\n",
    "- Feb 14: (__Feature drift__) Based on the considerations made on section __Changes in Data__, we will: a) Reduce the number of passengers (`passenger_count`), b) Reduce `avg_daily_trips` and increase the standard deviation of `rate_1m`'s distribution. For more information of how that was done, please see __Appendix - Changing the Dataset__. \n",
    "- Feb 15: (__Feature drift__) The same as above, but increasing the magnitude of changes.\n",
    "- Feb 16: (__Feature drift__) The same as above, but increasing the magnitude of changes."
   ]
  },
  {
   "cell_type": "markdown",
   "metadata": {
    "cell_id": "8dd6f56d-d868-448e-9091-a77361855e9a",
    "deepnote_cell_height": 52.390625,
    "deepnote_cell_type": "markdown",
    "tags": []
   },
   "source": [
    "We will repeat the previous process, only this time we'll load, fetch and log features for each of the days above. We'll also store the profiles for each day in-memory, so we can inspect them later."
   ]
  },
  {
   "cell_type": "code",
   "execution_count": null,
   "metadata": {
    "cell_id": "5c3188a5-48ab-41f6-9b34-fc790a6d451a",
    "deepnote_cell_height": 1889,
    "deepnote_cell_type": "code",
    "deepnote_to_be_reexecuted": false,
    "execution_millis": 440030,
    "execution_start": 1645028573742,
    "source_hash": "25d40ea5",
    "tags": []
   },
   "outputs": [
    {
     "name": "stderr",
     "output_type": "stream",
     "text": [
      " 'driver_avg_speed': 16.940000534057617,\n",
      " 'driver_rate_1m': 4,\n",
      " 'passenger_count': 1.0,\n",
      " 'pickup_weekday': 5,\n",
      " 'trip_distance': 1.49}\n",
      "######################################################\n",
      "2020-02-15 20:40:53\n",
      "{'PULocationID': 230,\n",
      " 'driver_avg_daily_trips': 7,\n",
      " 'driver_avg_speed': 16.940000534057617,\n",
      " 'driver_rate_1m': 4,\n",
      " 'passenger_count': 1.0,\n",
      " 'pickup_weekday': 5,\n",
      " 'trip_distance': 0.13}\n",
      "######################################################\n",
      "2020-02-15 20:58:28\n",
      "{'PULocationID': 100,\n",
      " 'driver_avg_daily_trips': 13,\n",
      " 'driver_avg_speed': 21.579999923706055,\n",
      " 'driver_rate_1m': 2,\n",
      " 'passenger_count': 1.0,\n",
      " 'pickup_weekday': 5,\n",
      " 'trip_distance': 0.4}\n",
      "######################################################\n",
      "2020-02-15 20:59:49\n",
      "{'PULocationID': 202,\n",
      " 'driver_avg_daily_trips': 13,\n",
      " 'driver_avg_speed': 21.579999923706055,\n",
      " 'driver_rate_1m': 2,\n",
      " 'passenger_count': 1.0,\n",
      " 'pickup_weekday': 5,\n",
      " 'trip_distance': 5.89}\n",
      "######################################################\n",
      "2020-02-15 21:15:59\n",
      "Materializing \u001b[1m\u001b[32m1\u001b[0m feature views from \u001b[1m\u001b[32m2020-02-15 20:00:00+00:00\u001b[0m to \u001b[1m\u001b[32m2020-02-15 21:00:00+00:00\u001b[0m into the \u001b[1m\u001b[32msqlite\u001b[0m online store.\n",
      "\n",
      "\u001b[1m\u001b[32mdriver_hourly_stats\u001b[0m:\n",
      "100%|█████████████████████████████████████████████████████████████████| 2/2 [00:00<00:00, 84.69it/s]\n",
      "{'PULocationID': 249,\n",
      " 'driver_avg_daily_trips': 17,\n",
      " 'driver_avg_speed': 24.510000228881836,\n",
      " 'driver_rate_1m': 5,\n",
      " 'passenger_count': 1.0,\n",
      " 'pickup_weekday': 5,\n",
      " 'trip_distance': 2.16}\n",
      "######################################################\n",
      "2020-02-15 21:18:17\n",
      "{'PULocationID': 239,\n",
      " 'driver_avg_daily_trips': 17,\n",
      " 'driver_avg_speed': 24.510000228881836,\n",
      " 'driver_rate_1m': 5,\n",
      " 'passenger_count': 1.0,\n",
      " 'pickup_weekday': 5,\n",
      " 'trip_distance': 1.58}\n",
      "######################################################\n",
      "2020-02-15 21:24:44\n",
      "{'PULocationID': 246,\n",
      " 'driver_avg_daily_trips': 18,\n",
      " 'driver_avg_speed': 25.1299991607666,\n",
      " 'driver_rate_1m': 1,\n",
      " 'passenger_count': 1.0,\n",
      " 'pickup_weekday': 5,\n",
      " 'trip_distance': 2.14}\n",
      "######################################################\n",
      "2020-02-15 21:31:12\n",
      "{'PULocationID': 233,\n",
      " 'driver_avg_daily_trips': 17,\n",
      " 'driver_avg_speed': 24.510000228881836,\n",
      " 'driver_rate_1m': 5,\n",
      " 'passenger_count': 1.0,\n",
      " 'pickup_weekday': 5,\n",
      " 'trip_distance': 2.3}\n",
      "######################################################\n",
      "2020-02-15 21:31:54\n",
      "{'PULocationID': 125,\n",
      " 'driver_avg_daily_trips': 17,\n",
      " 'driver_avg_speed': 24.510000228881836,\n",
      " 'driver_rate_1m': 5,\n",
      " 'passenger_count': 2.0,\n",
      " 'pickup_weekday': 5,\n",
      " 'trip_distance': 0.74}\n",
      "######################################################\n",
      "2020-02-15 21:47:03\n",
      "{'PULocationID': 230,\n",
      " 'driver_avg_daily_trips': 18,\n",
      " 'driver_avg_speed': 25.1299991607666,\n",
      " 'driver_rate_1m': 1,\n",
      " 'passenger_count': 1.0,\n",
      " 'pickup_weekday': 5,\n",
      " 'trip_distance': 0.0}\n",
      "######################################################\n",
      "2020-02-15 21:47:25\n",
      "{'PULocationID': 230,\n",
      " 'driver_avg_daily_trips': 18,\n",
      " 'driver_avg_speed': 25.1299991607666,\n",
      " 'driver_rate_1m': 1,\n",
      " 'passenger_count': 1.0,\n",
      " 'pickup_weekday': 5,\n",
      " 'trip_distance': 1.68}\n",
      "######################################################\n",
      "2020-02-15 21:51:43\n",
      "{'PULocationID': 230,\n",
      " 'driver_avg_daily_trips': 18,\n",
      " 'driver_avg_speed': 25.1299991607666,\n",
      " 'driver_rate_1m': 1,\n",
      " 'passenger_count': 1.0,\n",
      " 'pickup_weekday': 5,\n",
      " 'trip_distance': 0.8}\n",
      "######################################################\n",
      "2020-02-15 22:19:23\n",
      "Materializing \u001b[1m\u001b[32m1\u001b[0m feature views from \u001b[1m\u001b[32m2020-02-15 21:00:00+00:00\u001b[0m to \u001b[1m\u001b[32m2020-02-15 22:00:00+00:00\u001b[0m into the \u001b[1m\u001b[32msqlite\u001b[0m online store.\n",
      "\n",
      "\u001b[1m\u001b[32mdriver_hourly_stats\u001b[0m:\n",
      "100%|█████████████████████████████████████████████████████████████████| 2/2 [00:00<00:00, 30.04it/s]\n",
      "{'PULocationID': 234,\n",
      " 'driver_avg_daily_trips': 17,\n",
      " 'driver_avg_speed': 16.520000457763672,\n",
      " 'driver_rate_1m': 3,\n",
      " 'passenger_count': 1.0,\n",
      " 'pickup_weekday': 5,\n",
      " 'trip_distance': 4.3}\n",
      "######################################################\n",
      "2020-02-15 22:48:51\n",
      "{'PULocationID': 137,\n",
      " 'driver_avg_daily_trips': 9,\n",
      " 'driver_avg_speed': 14.09000015258789,\n",
      " 'driver_rate_1m': 5,\n",
      " 'passenger_count': 1.0,\n",
      " 'pickup_weekday': 5,\n",
      " 'trip_distance': 1.7}\n",
      "######################################################\n",
      "2020-02-15 23:12:42\n",
      "Materializing \u001b[1m\u001b[32m1\u001b[0m feature views from \u001b[1m\u001b[32m2020-02-15 22:00:00+00:00\u001b[0m to \u001b[1m\u001b[32m2020-02-15 23:00:00+00:00\u001b[0m into the \u001b[1m\u001b[32msqlite\u001b[0m online store.\n",
      "\n",
      "\u001b[1m\u001b[32mdriver_hourly_stats\u001b[0m:\n",
      "100%|█████████████████████████████████████████████████████████████████| 2/2 [00:00<00:00, 65.05it/s]\n",
      "{'PULocationID': 239,\n",
      " 'driver_avg_daily_trips': 12,\n",
      " 'driver_avg_speed': 17.190000534057617,\n",
      " 'driver_rate_1m': 9,\n",
      " 'passenger_count': 1.0,\n",
      " 'pickup_weekday': 5,\n",
      " 'trip_distance': 3.11}\n",
      "######################################################\n",
      "2020-02-15 23:13:10\n",
      "{'PULocationID': 249,\n",
      " 'driver_avg_daily_trips': 12,\n",
      " 'driver_avg_speed': 17.190000534057617,\n",
      " 'driver_rate_1m': 9,\n",
      " 'passenger_count': 1.0,\n",
      " 'pickup_weekday': 5,\n",
      " 'trip_distance': 0.8}\n",
      "######################################################\n",
      "2020-02-15 23:14:02\n",
      "{'PULocationID': 263,\n",
      " 'driver_avg_daily_trips': 8,\n",
      " 'driver_avg_speed': 18.920000076293945,\n",
      " 'driver_rate_1m': 4,\n",
      " 'passenger_count': 2.0,\n",
      " 'pickup_weekday': 5,\n",
      " 'trip_distance': 10.5}\n",
      "######################################################\n",
      "2020-02-15 23:37:38\n",
      "{'PULocationID': 158,\n",
      " 'driver_avg_daily_trips': 8,\n",
      " 'driver_avg_speed': 18.920000076293945,\n",
      " 'driver_rate_1m': 4,\n",
      " 'passenger_count': 1.0,\n",
      " 'pickup_weekday': 5,\n",
      " 'trip_distance': 3.82}\n",
      "######################################################\n",
      "2020-02-15 23:55:57\n",
      "{'PULocationID': 234,\n",
      " 'driver_avg_daily_trips': 12,\n",
      " 'driver_avg_speed': 17.190000534057617,\n",
      " 'driver_rate_1m': 9,\n",
      " 'passenger_count': 1.0,\n",
      " 'pickup_weekday': 5,\n",
      " 'trip_distance': 1.1}\n",
      "######################################################\n",
      "2020-02-16 00:09:20\n",
      "Closing logger for day 2020-02-15 00:00:00....\n",
      "Starting logger for day 2020-02-16 00:00:00....\n",
      "Materializing \u001b[1m\u001b[32m1\u001b[0m feature views from \u001b[1m\u001b[32m2020-02-15 23:00:00+00:00\u001b[0m to \u001b[1m\u001b[32m2020-02-16 00:00:00+00:00\u001b[0m into the \u001b[1m\u001b[32msqlite\u001b[0m online store.\n",
      "\n",
      "\u001b[1m\u001b[32mdriver_hourly_stats\u001b[0m:\n",
      "100%|█████████████████████████████████████████████████████████████████| 2/2 [00:00<00:00, 88.70it/s]\n",
      "{'PULocationID': 151,\n",
      " 'driver_avg_daily_trips': 13,\n",
      " 'driver_avg_speed': 18.18000030517578,\n",
      " 'driver_rate_1m': 4,\n",
      " 'passenger_count': 1.0,\n",
      " 'pickup_weekday': 6,\n",
      " 'trip_distance': 7.48}\n",
      "######################################################\n",
      "2020-02-16 00:25:23\n",
      "{'PULocationID': 230,\n",
      " 'driver_avg_daily_trips': 20,\n",
      " 'driver_avg_speed': 18.850000381469727,\n",
      " 'driver_rate_1m': 1,\n",
      " 'passenger_count': 1.0,\n",
      " 'pickup_weekday': 6,\n",
      " 'trip_distance': 1.97}\n",
      "######################################################\n",
      "2020-02-16 00:27:42\n",
      "{'PULocationID': 148,\n",
      " 'driver_avg_daily_trips': 13,\n",
      " 'driver_avg_speed': 18.18000030517578,\n",
      " 'driver_rate_1m': 4,\n",
      " 'passenger_count': 1.0,\n",
      " 'pickup_weekday': 6,\n",
      " 'trip_distance': 6.3}\n",
      "######################################################\n",
      "2020-02-16 00:27:45\n",
      "{'PULocationID': 239,\n",
      " 'driver_avg_daily_trips': 20,\n",
      " 'driver_avg_speed': 18.850000381469727,\n",
      " 'driver_rate_1m': 1,\n",
      " 'passenger_count': 1.0,\n",
      " 'pickup_weekday': 6,\n",
      " 'trip_distance': 2.48}\n",
      "######################################################\n",
      "2020-02-16 00:53:36\n",
      "{'PULocationID': 142,\n",
      " 'driver_avg_daily_trips': 20,\n",
      " 'driver_avg_speed': 18.850000381469727,\n",
      " 'driver_rate_1m': 1,\n",
      " 'passenger_count': 1.0,\n",
      " 'pickup_weekday': 6,\n",
      " 'trip_distance': 0.9}\n",
      "######################################################\n",
      "2020-02-16 01:04:00\n",
      "Materializing \u001b[1m\u001b[32m1\u001b[0m feature views from \u001b[1m\u001b[32m2020-02-16 00:00:00+00:00\u001b[0m to \u001b[1m\u001b[32m2020-02-16 01:00:00+00:00\u001b[0m into the \u001b[1m\u001b[32msqlite\u001b[0m online store.\n",
      "\n",
      "\u001b[1m\u001b[32mdriver_hourly_stats\u001b[0m:\n",
      "100%|█████████████████████████████████████████████████████████████████| 2/2 [00:00<00:00, 76.43it/s]\n",
      "{'PULocationID': 144,\n",
      " 'driver_avg_daily_trips': 3,\n",
      " 'driver_avg_speed': 26.079999923706055,\n",
      " 'driver_rate_1m': 1,\n",
      " 'passenger_count': 1.0,\n",
      " 'pickup_weekday': 6,\n",
      " 'trip_distance': 0.82}\n",
      "######################################################\n",
      "2020-02-16 01:06:53\n",
      "{'PULocationID': 229,\n",
      " 'driver_avg_daily_trips': 3,\n",
      " 'driver_avg_speed': 26.079999923706055,\n",
      " 'driver_rate_1m': 1,\n",
      " 'passenger_count': 1.0,\n",
      " 'pickup_weekday': 6,\n",
      " 'trip_distance': 8.24}\n",
      "######################################################\n",
      "2020-02-16 01:38:59\n",
      "{'PULocationID': 148,\n",
      " 'driver_avg_daily_trips': 3,\n",
      " 'driver_avg_speed': 26.079999923706055,\n",
      " 'driver_rate_1m': 1,\n",
      " 'passenger_count': 1.0,\n",
      " 'pickup_weekday': 6,\n",
      " 'trip_distance': 8.3}\n",
      "######################################################\n",
      "2020-02-16 01:49:12\n",
      "{'PULocationID': 107,\n",
      " 'driver_avg_daily_trips': 8,\n",
      " 'driver_avg_speed': 21.579999923706055,\n",
      " 'driver_rate_1m': 3,\n",
      " 'passenger_count': 1.0,\n",
      " 'pickup_weekday': 6,\n",
      " 'trip_distance': 2.63}\n",
      "######################################################\n",
      "2020-02-16 01:52:26\n",
      "{'PULocationID': 141,\n",
      " 'driver_avg_daily_trips': 8,\n",
      " 'driver_avg_speed': 21.579999923706055,\n",
      " 'driver_rate_1m': 3,\n",
      " 'passenger_count': 1.0,\n",
      " 'pickup_weekday': 6,\n",
      " 'trip_distance': 1.23}\n",
      "######################################################\n",
      "2020-02-16 02:03:29\n",
      "Materializing \u001b[1m\u001b[32m1\u001b[0m feature views from \u001b[1m\u001b[32m2020-02-16 01:00:00+00:00\u001b[0m to \u001b[1m\u001b[32m2020-02-16 02:00:00+00:00\u001b[0m into the \u001b[1m\u001b[32msqlite\u001b[0m online store.\n",
      "\n",
      "\u001b[1m\u001b[32mdriver_hourly_stats\u001b[0m:\n",
      "100%|█████████████████████████████████████████████████████████████████| 2/2 [00:00<00:00, 99.29it/s]\n",
      "{'PULocationID': 249,\n",
      " 'driver_avg_daily_trips': 1,\n",
      " 'driver_avg_speed': 21.420000076293945,\n",
      " 'driver_rate_1m': 1,\n",
      " 'passenger_count': 1.0,\n",
      " 'pickup_weekday': 6,\n",
      " 'trip_distance': 4.8}\n",
      "######################################################\n",
      "2020-02-16 02:08:01\n",
      "{'PULocationID': 141,\n",
      " 'driver_avg_daily_trips': 1,\n",
      " 'driver_avg_speed': 21.420000076293945,\n",
      " 'driver_rate_1m': 1,\n",
      " 'passenger_count': 1.0,\n",
      " 'pickup_weekday': 6,\n",
      " 'trip_distance': 7.54}\n",
      "######################################################\n",
      "2020-02-16 02:39:31\n",
      "{'PULocationID': 164,\n",
      " 'driver_avg_daily_trips': 5,\n",
      " 'driver_avg_speed': 25.8700008392334,\n",
      " 'driver_rate_1m': 3,\n",
      " 'passenger_count': 1.0,\n",
      " 'pickup_weekday': 6,\n",
      " 'trip_distance': 1.7}\n",
      "######################################################\n",
      "2020-02-16 02:50:41\n",
      "{'PULocationID': 68,\n",
      " 'driver_avg_daily_trips': 5,\n",
      " 'driver_avg_speed': 25.8700008392334,\n",
      " 'driver_rate_1m': 3,\n",
      " 'passenger_count': 1.0,\n",
      " 'pickup_weekday': 6,\n",
      " 'trip_distance': 2.73}\n",
      "######################################################\n",
      "2020-02-16 02:54:40\n",
      "{'PULocationID': 229,\n",
      " 'driver_avg_daily_trips': 1,\n",
      " 'driver_avg_speed': 21.420000076293945,\n",
      " 'driver_rate_1m': 1,\n",
      " 'passenger_count': 1.0,\n",
      " 'pickup_weekday': 6,\n",
      " 'trip_distance': 0.94}\n",
      "######################################################\n",
      "2020-02-16 02:57:21\n",
      "{'PULocationID': 42,\n",
      " 'driver_avg_daily_trips': 5,\n",
      " 'driver_avg_speed': 25.8700008392334,\n",
      " 'driver_rate_1m': 3,\n",
      " 'passenger_count': 1.0,\n",
      " 'pickup_weekday': 6,\n",
      " 'trip_distance': 2.09}\n",
      "######################################################\n",
      "2020-02-16 03:22:50\n",
      "Materializing \u001b[1m\u001b[32m1\u001b[0m feature views from \u001b[1m\u001b[32m2020-02-16 02:00:00+00:00\u001b[0m to \u001b[1m\u001b[32m2020-02-16 03:00:00+00:00\u001b[0m into the \u001b[1m\u001b[32msqlite\u001b[0m online store.\n",
      "\n",
      "\u001b[1m\u001b[32mdriver_hourly_stats\u001b[0m:\n",
      "100%|█████████████████████████████████████████████████████████████████| 2/2 [00:00<00:00, 71.44it/s]\n",
      "{'PULocationID': 163,\n",
      " 'driver_avg_daily_trips': 0,\n",
      " 'driver_avg_speed': 24.600000381469727,\n",
      " 'driver_rate_1m': 1,\n",
      " 'passenger_count': 1.0,\n",
      " 'pickup_weekday': 6,\n",
      " 'trip_distance': 0.16}\n",
      "######################################################\n",
      "2020-02-16 06:36:35\n",
      "Materializing \u001b[1m\u001b[32m1\u001b[0m feature views from \u001b[1m\u001b[32m2020-02-16 05:00:00+00:00\u001b[0m to \u001b[1m\u001b[32m2020-02-16 06:00:00+00:00\u001b[0m into the \u001b[1m\u001b[32msqlite\u001b[0m online store.\n",
      "\n",
      "\u001b[1m\u001b[32mdriver_hourly_stats\u001b[0m:\n",
      "100%|█████████████████████████████████████████████████████████████████| 2/2 [00:00<00:00, 89.04it/s]\n",
      "{'PULocationID': 186,\n",
      " 'driver_avg_daily_trips': 0,\n",
      " 'driver_avg_speed': 15.289999961853027,\n",
      " 'driver_rate_1m': 6,\n",
      " 'passenger_count': 1.0,\n",
      " 'pickup_weekday': 6,\n",
      " 'trip_distance': 1.76}\n",
      "######################################################\n",
      "2020-02-16 07:04:07\n",
      "Materializing \u001b[1m\u001b[32m1\u001b[0m feature views from \u001b[1m\u001b[32m2020-02-16 06:00:00+00:00\u001b[0m to \u001b[1m\u001b[32m2020-02-16 07:00:00+00:00\u001b[0m into the \u001b[1m\u001b[32msqlite\u001b[0m online store.\n",
      "\n",
      "\u001b[1m\u001b[32mdriver_hourly_stats\u001b[0m:\n",
      "100%|█████████████████████████████████████████████████████████████████| 2/2 [00:00<00:00, 86.68it/s]\n",
      "{'PULocationID': 141,\n",
      " 'driver_avg_daily_trips': 0,\n",
      " 'driver_avg_speed': 26.8799991607666,\n",
      " 'driver_rate_1m': 3,\n",
      " 'passenger_count': 1.0,\n",
      " 'pickup_weekday': 6,\n",
      " 'trip_distance': 0.83}\n",
      "######################################################\n",
      "2020-02-16 07:26:46\n",
      "{'PULocationID': 132,\n",
      " 'driver_avg_daily_trips': 0,\n",
      " 'driver_avg_speed': 21.3799991607666,\n",
      " 'driver_rate_1m': 4,\n",
      " 'passenger_count': 1.0,\n",
      " 'pickup_weekday': 6,\n",
      " 'trip_distance': 19.14}\n",
      "######################################################\n",
      "2020-02-16 08:52:11\n",
      "Materializing \u001b[1m\u001b[32m1\u001b[0m feature views from \u001b[1m\u001b[32m2020-02-16 07:00:00+00:00\u001b[0m to \u001b[1m\u001b[32m2020-02-16 08:00:00+00:00\u001b[0m into the \u001b[1m\u001b[32msqlite\u001b[0m online store.\n",
      "\n",
      "\u001b[1m\u001b[32mdriver_hourly_stats\u001b[0m:\n",
      "100%|█████████████████████████████████████████████████████████████████| 2/2 [00:00<00:00, 73.88it/s]\n",
      "{'PULocationID': 162,\n",
      " 'driver_avg_daily_trips': 8,\n",
      " 'driver_avg_speed': 20.549999237060547,\n",
      " 'driver_rate_1m': 3,\n",
      " 'passenger_count': 1.0,\n",
      " 'pickup_weekday': 6,\n",
      " 'trip_distance': 3.13}\n",
      "######################################################\n",
      "2020-02-16 09:17:17\n",
      "Materializing \u001b[1m\u001b[32m1\u001b[0m feature views from \u001b[1m\u001b[32m2020-02-16 08:00:00+00:00\u001b[0m to \u001b[1m\u001b[32m2020-02-16 09:00:00+00:00\u001b[0m into the \u001b[1m\u001b[32msqlite\u001b[0m online store.\n",
      "\n",
      "\u001b[1m\u001b[32mdriver_hourly_stats\u001b[0m:\n",
      "100%|█████████████████████████████████████████████████████████████████| 2/2 [00:00<00:00, 49.18it/s]\n",
      "{'PULocationID': 87,\n",
      " 'driver_avg_daily_trips': 4,\n",
      " 'driver_avg_speed': 25.149999618530273,\n",
      " 'driver_rate_1m': 2,\n",
      " 'passenger_count': 1.0,\n",
      " 'pickup_weekday': 6,\n",
      " 'trip_distance': 0.87}\n",
      "######################################################\n",
      "2020-02-16 10:57:27\n",
      "Materializing \u001b[1m\u001b[32m1\u001b[0m feature views from \u001b[1m\u001b[32m2020-02-16 09:00:00+00:00\u001b[0m to \u001b[1m\u001b[32m2020-02-16 10:00:00+00:00\u001b[0m into the \u001b[1m\u001b[32msqlite\u001b[0m online store.\n",
      "\n",
      "\u001b[1m\u001b[32mdriver_hourly_stats\u001b[0m:\n",
      "100%|█████████████████████████████████████████████████████████████████| 2/2 [00:00<00:00, 84.79it/s]\n",
      "{'PULocationID': 148,\n",
      " 'driver_avg_daily_trips': 5,\n",
      " 'driver_avg_speed': 21.940000534057617,\n",
      " 'driver_rate_1m': 1,\n",
      " 'passenger_count': 1.0,\n",
      " 'pickup_weekday': 6,\n",
      " 'trip_distance': 3.16}\n",
      "######################################################\n",
      "2020-02-16 11:01:11\n",
      "Materializing \u001b[1m\u001b[32m1\u001b[0m feature views from \u001b[1m\u001b[32m2020-02-16 10:00:00+00:00\u001b[0m to \u001b[1m\u001b[32m2020-02-16 11:00:00+00:00\u001b[0m into the \u001b[1m\u001b[32msqlite\u001b[0m online store.\n",
      "\n",
      "\u001b[1m\u001b[32mdriver_hourly_stats\u001b[0m:\n",
      "100%|█████████████████████████████████████████████████████████████████| 2/2 [00:00<00:00, 71.35it/s]\n",
      "{'PULocationID': 74,\n",
      " 'driver_avg_daily_trips': 0,\n",
      " 'driver_avg_speed': 17.84000015258789,\n",
      " 'driver_rate_1m': 6,\n",
      " 'passenger_count': 1.0,\n",
      " 'pickup_weekday': 6,\n",
      " 'trip_distance': 0.57}\n",
      "######################################################\n",
      "2020-02-16 11:26:25\n",
      "{'PULocationID': 141,\n",
      " 'driver_avg_daily_trips': 0,\n",
      " 'driver_avg_speed': 17.84000015258789,\n",
      " 'driver_rate_1m': 6,\n",
      " 'passenger_count': 1.0,\n",
      " 'pickup_weekday': 6,\n",
      " 'trip_distance': 1.1}\n",
      "######################################################\n",
      "2020-02-16 11:32:22\n",
      "{'PULocationID': 223,\n",
      " 'driver_avg_daily_trips': 0,\n",
      " 'driver_avg_speed': 17.84000015258789,\n",
      " 'driver_rate_1m': 6,\n",
      " 'passenger_count': 1.0,\n",
      " 'pickup_weekday': 6,\n",
      " 'trip_distance': 3.28}\n",
      "######################################################\n",
      "2020-02-16 11:44:33\n",
      "{'PULocationID': 264,\n",
      " 'driver_avg_daily_trips': 0,\n",
      " 'driver_avg_speed': 17.84000015258789,\n",
      " 'driver_rate_1m': 6,\n",
      " 'passenger_count': 1.0,\n",
      " 'pickup_weekday': 6,\n",
      " 'trip_distance': 1.9}\n",
      "######################################################\n",
      "2020-02-16 12:00:12\n",
      "Materializing \u001b[1m\u001b[32m1\u001b[0m feature views from \u001b[1m\u001b[32m2020-02-16 11:00:00+00:00\u001b[0m to \u001b[1m\u001b[32m2020-02-16 12:00:00+00:00\u001b[0m into the \u001b[1m\u001b[32msqlite\u001b[0m online store.\n",
      "\n",
      "\u001b[1m\u001b[32mdriver_hourly_stats\u001b[0m:\n",
      "100%|█████████████████████████████████████████████████████████████████| 2/2 [00:00<00:00, 74.34it/s]\n",
      "{'PULocationID': 141,\n",
      " 'driver_avg_daily_trips': 5,\n",
      " 'driver_avg_speed': 22.8700008392334,\n",
      " 'driver_rate_1m': 10,\n",
      " 'passenger_count': 1.0,\n",
      " 'pickup_weekday': 6,\n",
      " 'trip_distance': 1.7}\n",
      "######################################################\n",
      "2020-02-16 13:01:14\n",
      "Materializing \u001b[1m\u001b[32m1\u001b[0m feature views from \u001b[1m\u001b[32m2020-02-16 12:00:00+00:00\u001b[0m to \u001b[1m\u001b[32m2020-02-16 13:00:00+00:00\u001b[0m into the \u001b[1m\u001b[32msqlite\u001b[0m online store.\n",
      "\n",
      "\u001b[1m\u001b[32mdriver_hourly_stats\u001b[0m:\n",
      "100%|█████████████████████████████████████████████████████████████████| 2/2 [00:00<00:00, 73.14it/s]\n",
      "{'PULocationID': 161,\n",
      " 'driver_avg_daily_trips': 0,\n",
      " 'driver_avg_speed': 25.549999237060547,\n",
      " 'driver_rate_1m': 1,\n",
      " 'passenger_count': 1.0,\n",
      " 'pickup_weekday': 6,\n",
      " 'trip_distance': 1.02}\n",
      "######################################################\n",
      "2020-02-16 13:04:19\n",
      "{'PULocationID': 100,\n",
      " 'driver_avg_daily_trips': 0,\n",
      " 'driver_avg_speed': 25.549999237060547,\n",
      " 'driver_rate_1m': 1,\n",
      " 'passenger_count': 1.0,\n",
      " 'pickup_weekday': 6,\n",
      " 'trip_distance': 3.6}\n",
      "######################################################\n",
      "2020-02-16 13:09:55\n",
      "{'PULocationID': 141,\n",
      " 'driver_avg_daily_trips': 6,\n",
      " 'driver_avg_speed': 15.960000038146973,\n",
      " 'driver_rate_1m': 4,\n",
      " 'passenger_count': 3.0,\n",
      " 'pickup_weekday': 6,\n",
      " 'trip_distance': 1.12}\n",
      "######################################################\n",
      "2020-02-16 13:25:41\n",
      "{'PULocationID': 113,\n",
      " 'driver_avg_daily_trips': 0,\n",
      " 'driver_avg_speed': 25.549999237060547,\n",
      " 'driver_rate_1m': 1,\n",
      " 'passenger_count': 1.0,\n",
      " 'pickup_weekday': 6,\n",
      " 'trip_distance': 3.2}\n",
      "######################################################\n",
      "2020-02-16 13:32:50\n",
      "{'PULocationID': 249,\n",
      " 'driver_avg_daily_trips': 6,\n",
      " 'driver_avg_speed': 15.960000038146973,\n",
      " 'driver_rate_1m': 4,\n",
      " 'passenger_count': 1.0,\n",
      " 'pickup_weekday': 6,\n",
      " 'trip_distance': 0.45}\n",
      "######################################################\n",
      "2020-02-16 13:34:32\n",
      "{'PULocationID': 229,\n",
      " 'driver_avg_daily_trips': 0,\n",
      " 'driver_avg_speed': 25.549999237060547,\n",
      " 'driver_rate_1m': 1,\n",
      " 'passenger_count': 1.0,\n",
      " 'pickup_weekday': 6,\n",
      " 'trip_distance': 1.17}\n",
      "######################################################\n",
      "2020-02-16 13:35:07\n",
      "{'PULocationID': 239,\n",
      " 'driver_avg_daily_trips': 6,\n",
      " 'driver_avg_speed': 15.960000038146973,\n",
      " 'driver_rate_1m': 4,\n",
      " 'passenger_count': 1.0,\n",
      " 'pickup_weekday': 6,\n",
      " 'trip_distance': 0.14}\n",
      "######################################################\n",
      "2020-02-16 13:37:31\n",
      "{'PULocationID': 137,\n",
      " 'driver_avg_daily_trips': 6,\n",
      " 'driver_avg_speed': 15.960000038146973,\n",
      " 'driver_rate_1m': 4,\n",
      " 'passenger_count': 1.0,\n",
      " 'pickup_weekday': 6,\n",
      " 'trip_distance': 1.6}\n",
      "######################################################\n",
      "2020-02-16 13:44:43\n",
      "{'PULocationID': 161,\n",
      " 'driver_avg_daily_trips': 0,\n",
      " 'driver_avg_speed': 25.549999237060547,\n",
      " 'driver_rate_1m': 1,\n",
      " 'passenger_count': 1.0,\n",
      " 'pickup_weekday': 6,\n",
      " 'trip_distance': 1.86}\n",
      "######################################################\n",
      "2020-02-16 13:52:15\n",
      "{'PULocationID': 90,\n",
      " 'driver_avg_daily_trips': 6,\n",
      " 'driver_avg_speed': 15.960000038146973,\n",
      " 'driver_rate_1m': 4,\n",
      " 'passenger_count': 3.0,\n",
      " 'pickup_weekday': 6,\n",
      " 'trip_distance': 1.05}\n",
      "######################################################\n",
      "2020-02-16 14:01:55\n",
      "Materializing \u001b[1m\u001b[32m1\u001b[0m feature views from \u001b[1m\u001b[32m2020-02-16 13:00:00+00:00\u001b[0m to \u001b[1m\u001b[32m2020-02-16 14:00:00+00:00\u001b[0m into the \u001b[1m\u001b[32msqlite\u001b[0m online store.\n",
      "\n",
      "\u001b[1m\u001b[32mdriver_hourly_stats\u001b[0m:\n",
      "100%|█████████████████████████████████████████████████████████████████| 2/2 [00:00<00:00, 52.54it/s]\n",
      "{'PULocationID': 107,\n",
      " 'driver_avg_daily_trips': 0,\n",
      " 'driver_avg_speed': 22.59000015258789,\n",
      " 'driver_rate_1m': 3,\n",
      " 'passenger_count': 1.0,\n",
      " 'pickup_weekday': 6,\n",
      " 'trip_distance': 1.03}\n",
      "######################################################\n",
      "2020-02-16 14:14:19\n",
      "{'PULocationID': 234,\n",
      " 'driver_avg_daily_trips': 0,\n",
      " 'driver_avg_speed': 22.59000015258789,\n",
      " 'driver_rate_1m': 3,\n",
      " 'passenger_count': 1.0,\n",
      " 'pickup_weekday': 6,\n",
      " 'trip_distance': 2.31}\n",
      "######################################################\n",
      "2020-02-16 14:52:00\n",
      "{'PULocationID': 107,\n",
      " 'driver_avg_daily_trips': 0,\n",
      " 'driver_avg_speed': 22.59000015258789,\n",
      " 'driver_rate_1m': 3,\n",
      " 'passenger_count': 1.0,\n",
      " 'pickup_weekday': 6,\n",
      " 'trip_distance': 0.7}\n",
      "######################################################\n",
      "2020-02-16 14:54:57\n",
      "{'PULocationID': 163,\n",
      " 'driver_avg_daily_trips': 0,\n",
      " 'driver_avg_speed': 22.59000015258789,\n",
      " 'driver_rate_1m': 3,\n",
      " 'passenger_count': 3.0,\n",
      " 'pickup_weekday': 6,\n",
      " 'trip_distance': 5.21}\n",
      "######################################################\n",
      "2020-02-16 15:24:43\n",
      "Materializing \u001b[1m\u001b[32m1\u001b[0m feature views from \u001b[1m\u001b[32m2020-02-16 14:00:00+00:00\u001b[0m to \u001b[1m\u001b[32m2020-02-16 15:00:00+00:00\u001b[0m into the \u001b[1m\u001b[32msqlite\u001b[0m online store.\n",
      "\n",
      "\u001b[1m\u001b[32mdriver_hourly_stats\u001b[0m:\n",
      "100%|█████████████████████████████████████████████████████████████████| 2/2 [00:00<00:00, 99.48it/s]\n",
      "{'PULocationID': 132,\n",
      " 'driver_avg_daily_trips': 12,\n",
      " 'driver_avg_speed': 17.049999237060547,\n",
      " 'driver_rate_1m': 5,\n",
      " 'passenger_count': 1.0,\n",
      " 'pickup_weekday': 6,\n",
      " 'trip_distance': 10.16}\n",
      "######################################################\n",
      "2020-02-16 15:53:36\n",
      "{'PULocationID': 68,\n",
      " 'driver_avg_daily_trips': 12,\n",
      " 'driver_avg_speed': 17.049999237060547,\n",
      " 'driver_rate_1m': 5,\n",
      " 'passenger_count': 1.0,\n",
      " 'pickup_weekday': 6,\n",
      " 'trip_distance': 0.54}\n",
      "######################################################\n",
      "2020-02-16 16:17:06\n",
      "Materializing \u001b[1m\u001b[32m1\u001b[0m feature views from \u001b[1m\u001b[32m2020-02-16 15:00:00+00:00\u001b[0m to \u001b[1m\u001b[32m2020-02-16 16:00:00+00:00\u001b[0m into the \u001b[1m\u001b[32msqlite\u001b[0m online store.\n",
      "\n",
      "\u001b[1m\u001b[32mdriver_hourly_stats\u001b[0m:\n",
      "100%|█████████████████████████████████████████████████████████████████| 2/2 [00:00<00:00, 88.89it/s]\n",
      "{'PULocationID': 230,\n",
      " 'driver_avg_daily_trips': 16,\n",
      " 'driver_avg_speed': 13.460000038146973,\n",
      " 'driver_rate_1m': 6,\n",
      " 'passenger_count': 1.0,\n",
      " 'pickup_weekday': 6,\n",
      " 'trip_distance': 2.19}\n",
      "######################################################\n",
      "2020-02-16 16:23:06\n",
      "{'PULocationID': 164,\n",
      " 'driver_avg_daily_trips': 16,\n",
      " 'driver_avg_speed': 13.460000038146973,\n",
      " 'driver_rate_1m': 6,\n",
      " 'passenger_count': 2.0,\n",
      " 'pickup_weekday': 6,\n",
      " 'trip_distance': 3.09}\n",
      "######################################################\n",
      "2020-02-16 16:31:08\n",
      "{'PULocationID': 50,\n",
      " 'driver_avg_daily_trips': 16,\n",
      " 'driver_avg_speed': 13.460000038146973,\n",
      " 'driver_rate_1m': 6,\n",
      " 'passenger_count': 1.0,\n",
      " 'pickup_weekday': 6,\n",
      " 'trip_distance': 1.0}\n",
      "######################################################\n",
      "2020-02-16 16:36:15\n",
      "{'PULocationID': 263,\n",
      " 'driver_avg_daily_trips': 0,\n",
      " 'driver_avg_speed': 18.520000457763672,\n",
      " 'driver_rate_1m': 7,\n",
      " 'passenger_count': 1.0,\n",
      " 'pickup_weekday': 6,\n",
      " 'trip_distance': 0.99}\n",
      "######################################################\n",
      "2020-02-16 16:52:00\n",
      "{'PULocationID': 230,\n",
      " 'driver_avg_daily_trips': 16,\n",
      " 'driver_avg_speed': 13.460000038146973,\n",
      " 'driver_rate_1m': 6,\n",
      " 'passenger_count': 1.0,\n",
      " 'pickup_weekday': 6,\n",
      " 'trip_distance': 1.2}\n",
      "######################################################\n",
      "2020-02-16 16:56:53\n",
      "{'PULocationID': 143,\n",
      " 'driver_avg_daily_trips': 0,\n",
      " 'driver_avg_speed': 18.520000457763672,\n",
      " 'driver_rate_1m': 7,\n",
      " 'passenger_count': 1.0,\n",
      " 'pickup_weekday': 6,\n",
      " 'trip_distance': 1.52}\n",
      "######################################################\n",
      "2020-02-16 17:28:41\n",
      "Materializing \u001b[1m\u001b[32m1\u001b[0m feature views from \u001b[1m\u001b[32m2020-02-16 16:00:00+00:00\u001b[0m to \u001b[1m\u001b[32m2020-02-16 17:00:00+00:00\u001b[0m into the \u001b[1m\u001b[32msqlite\u001b[0m online store.\n",
      "\n",
      "\u001b[1m\u001b[32mdriver_hourly_stats\u001b[0m:\n",
      "100%|█████████████████████████████████████████████████████████████████| 2/2 [00:00<00:00, 96.86it/s]\n",
      "{'PULocationID': 263,\n",
      " 'driver_avg_daily_trips': 0,\n",
      " 'driver_avg_speed': 18.020000457763672,\n",
      " 'driver_rate_1m': 7,\n",
      " 'passenger_count': 1.0,\n",
      " 'pickup_weekday': 6,\n",
      " 'trip_distance': 1.6}\n",
      "######################################################\n",
      "2020-02-16 17:57:16\n",
      "{'PULocationID': 161,\n",
      " 'driver_avg_daily_trips': 0,\n",
      " 'driver_avg_speed': 18.020000457763672,\n",
      " 'driver_rate_1m': 7,\n",
      " 'passenger_count': 1.0,\n",
      " 'pickup_weekday': 6,\n",
      " 'trip_distance': 2.25}\n",
      "######################################################\n",
      "2020-02-16 18:07:08\n",
      "Materializing \u001b[1m\u001b[32m1\u001b[0m feature views from \u001b[1m\u001b[32m2020-02-16 17:00:00+00:00\u001b[0m to \u001b[1m\u001b[32m2020-02-16 18:00:00+00:00\u001b[0m into the \u001b[1m\u001b[32msqlite\u001b[0m online store.\n",
      "\n",
      "\u001b[1m\u001b[32mdriver_hourly_stats\u001b[0m:\n",
      "100%|█████████████████████████████████████████████████████████████████| 2/2 [00:00<00:00, 91.88it/s]\n",
      "{'PULocationID': 230,\n",
      " 'driver_avg_daily_trips': 0,\n",
      " 'driver_avg_speed': 23.09000015258789,\n",
      " 'driver_rate_1m': 1,\n",
      " 'passenger_count': 1.0,\n",
      " 'pickup_weekday': 6,\n",
      " 'trip_distance': 0.83}\n",
      "######################################################\n",
      "2020-02-16 18:08:41\n",
      "{'PULocationID': 237,\n",
      " 'driver_avg_daily_trips': 0,\n",
      " 'driver_avg_speed': 23.09000015258789,\n",
      " 'driver_rate_1m': 1,\n",
      " 'passenger_count': 1.0,\n",
      " 'pickup_weekday': 6,\n",
      " 'trip_distance': 0.54}\n",
      "######################################################\n",
      "2020-02-16 18:22:17\n",
      "{'PULocationID': 151,\n",
      " 'driver_avg_daily_trips': 0,\n",
      " 'driver_avg_speed': 23.09000015258789,\n",
      " 'driver_rate_1m': 1,\n",
      " 'passenger_count': 1.0,\n",
      " 'pickup_weekday': 6,\n",
      " 'trip_distance': 0.9}\n",
      "######################################################\n",
      "2020-02-16 18:26:46\n",
      "{'PULocationID': 186,\n",
      " 'driver_avg_daily_trips': 0,\n",
      " 'driver_avg_speed': 23.09000015258789,\n",
      " 'driver_rate_1m': 1,\n",
      " 'passenger_count': 1.0,\n",
      " 'pickup_weekday': 6,\n",
      " 'trip_distance': 1.87}\n",
      "######################################################\n",
      "2020-02-16 18:45:29\n",
      "{'PULocationID': 137,\n",
      " 'driver_avg_daily_trips': 0,\n",
      " 'driver_avg_speed': 23.09000015258789,\n",
      " 'driver_rate_1m': 1,\n",
      " 'passenger_count': 1.0,\n",
      " 'pickup_weekday': 6,\n",
      " 'trip_distance': 1.04}\n",
      "######################################################\n",
      "2020-02-16 18:49:52\n",
      "{'PULocationID': 125,\n",
      " 'driver_avg_daily_trips': 3,\n",
      " 'driver_avg_speed': 23.100000381469727,\n",
      " 'driver_rate_1m': 3,\n",
      " 'passenger_count': 1.0,\n",
      " 'pickup_weekday': 6,\n",
      " 'trip_distance': 0.59}\n",
      "######################################################\n",
      "2020-02-16 18:55:28\n",
      "{'PULocationID': 163,\n",
      " 'driver_avg_daily_trips': 0,\n",
      " 'driver_avg_speed': 23.09000015258789,\n",
      " 'driver_rate_1m': 1,\n",
      " 'passenger_count': 1.0,\n",
      " 'pickup_weekday': 6,\n",
      " 'trip_distance': 0.92}\n",
      "######################################################\n",
      "2020-02-16 18:58:32\n",
      "{'PULocationID': 68,\n",
      " 'driver_avg_daily_trips': 3,\n",
      " 'driver_avg_speed': 23.100000381469727,\n",
      " 'driver_rate_1m': 3,\n",
      " 'passenger_count': 1.0,\n",
      " 'pickup_weekday': 6,\n",
      " 'trip_distance': 1.56}\n",
      "######################################################\n",
      "2020-02-16 19:13:35\n",
      "Materializing \u001b[1m\u001b[32m1\u001b[0m feature views from \u001b[1m\u001b[32m2020-02-16 18:00:00+00:00\u001b[0m to \u001b[1m\u001b[32m2020-02-16 19:00:00+00:00\u001b[0m into the \u001b[1m\u001b[32msqlite\u001b[0m online store.\n",
      "\n",
      "\u001b[1m\u001b[32mdriver_hourly_stats\u001b[0m:\n",
      "100%|█████████████████████████████████████████████████████████████████| 2/2 [00:00<00:00, 91.80it/s]\n",
      "{'PULocationID': 141,\n",
      " 'driver_avg_daily_trips': 0,\n",
      " 'driver_avg_speed': 17.31999969482422,\n",
      " 'driver_rate_1m': 2,\n",
      " 'passenger_count': 1.0,\n",
      " 'pickup_weekday': 6,\n",
      " 'trip_distance': 3.0}\n",
      "######################################################\n",
      "2020-02-16 19:20:45\n",
      "{'PULocationID': 161,\n",
      " 'driver_avg_daily_trips': 6,\n",
      " 'driver_avg_speed': 23.729999542236328,\n",
      " 'driver_rate_1m': 6,\n",
      " 'passenger_count': 1.0,\n",
      " 'pickup_weekday': 6,\n",
      " 'trip_distance': 3.36}\n",
      "######################################################\n",
      "2020-02-16 20:02:25\n",
      "Materializing \u001b[1m\u001b[32m1\u001b[0m feature views from \u001b[1m\u001b[32m2020-02-16 19:00:00+00:00\u001b[0m to \u001b[1m\u001b[32m2020-02-16 20:00:00+00:00\u001b[0m into the \u001b[1m\u001b[32msqlite\u001b[0m online store.\n",
      "\n",
      "\u001b[1m\u001b[32mdriver_hourly_stats\u001b[0m:\n",
      "100%|█████████████████████████████████████████████████████████████████| 2/2 [00:00<00:00, 85.42it/s]\n",
      "{'PULocationID': 140,\n",
      " 'driver_avg_daily_trips': 12,\n",
      " 'driver_avg_speed': 12.069999694824219,\n",
      " 'driver_rate_1m': 5,\n",
      " 'passenger_count': 1.0,\n",
      " 'pickup_weekday': 6,\n",
      " 'trip_distance': 4.76}\n",
      "######################################################\n",
      "2020-02-16 20:08:34\n",
      "{'PULocationID': 161,\n",
      " 'driver_avg_daily_trips': 12,\n",
      " 'driver_avg_speed': 12.069999694824219,\n",
      " 'driver_rate_1m': 5,\n",
      " 'passenger_count': 1.0,\n",
      " 'pickup_weekday': 6,\n",
      " 'trip_distance': 8.39}\n",
      "######################################################\n",
      "2020-02-16 20:18:55\n",
      "{'PULocationID': 141,\n",
      " 'driver_avg_daily_trips': 0,\n",
      " 'driver_avg_speed': 19.0,\n",
      " 'driver_rate_1m': 6,\n",
      " 'passenger_count': 1.0,\n",
      " 'pickup_weekday': 6,\n",
      " 'trip_distance': 0.7}\n",
      "######################################################\n",
      "2020-02-16 20:20:59\n",
      "{'PULocationID': 230,\n",
      " 'driver_avg_daily_trips': 12,\n",
      " 'driver_avg_speed': 12.069999694824219,\n",
      " 'driver_rate_1m': 5,\n",
      " 'passenger_count': 1.0,\n",
      " 'pickup_weekday': 6,\n",
      " 'trip_distance': 1.1}\n",
      "######################################################\n",
      "2020-02-16 20:25:44\n",
      "{'PULocationID': 142,\n",
      " 'driver_avg_daily_trips': 0,\n",
      " 'driver_avg_speed': 19.0,\n",
      " 'driver_rate_1m': 6,\n",
      " 'passenger_count': 1.0,\n",
      " 'pickup_weekday': 6,\n",
      " 'trip_distance': 0.8}\n",
      "######################################################\n",
      "2020-02-16 20:37:48\n",
      "{'PULocationID': 229,\n",
      " 'driver_avg_daily_trips': 12,\n",
      " 'driver_avg_speed': 12.069999694824219,\n",
      " 'driver_rate_1m': 5,\n",
      " 'passenger_count': 1.0,\n",
      " 'pickup_weekday': 6,\n",
      " 'trip_distance': 0.45}\n",
      "######################################################\n",
      "2020-02-16 20:53:52\n",
      "{'PULocationID': 90,\n",
      " 'driver_avg_daily_trips': 12,\n",
      " 'driver_avg_speed': 12.069999694824219,\n",
      " 'driver_rate_1m': 5,\n",
      " 'passenger_count': 1.0,\n",
      " 'pickup_weekday': 6,\n",
      " 'trip_distance': 2.11}\n",
      "######################################################\n",
      "2020-02-16 20:55:50\n",
      "{'PULocationID': 113,\n",
      " 'driver_avg_daily_trips': 12,\n",
      " 'driver_avg_speed': 12.069999694824219,\n",
      " 'driver_rate_1m': 5,\n",
      " 'passenger_count': 1.0,\n",
      " 'pickup_weekday': 6,\n",
      " 'trip_distance': 5.4}\n",
      "######################################################\n",
      "2020-02-16 21:14:50\n",
      "Materializing \u001b[1m\u001b[32m1\u001b[0m feature views from \u001b[1m\u001b[32m2020-02-16 20:00:00+00:00\u001b[0m to \u001b[1m\u001b[32m2020-02-16 21:00:00+00:00\u001b[0m into the \u001b[1m\u001b[32msqlite\u001b[0m online store.\n",
      "\n",
      "\u001b[1m\u001b[32mdriver_hourly_stats\u001b[0m:\n",
      "100%|█████████████████████████████████████████████████████████████████| 2/2 [00:00<00:00, 89.72it/s]\n",
      "{'PULocationID': 162,\n",
      " 'driver_avg_daily_trips': 5,\n",
      " 'driver_avg_speed': 23.829999923706055,\n",
      " 'driver_rate_1m': 1,\n",
      " 'passenger_count': 1.0,\n",
      " 'pickup_weekday': 6,\n",
      " 'trip_distance': 2.4}\n",
      "######################################################\n",
      "2020-02-16 21:15:23\n",
      "{'PULocationID': 234,\n",
      " 'driver_avg_daily_trips': 5,\n",
      " 'driver_avg_speed': 23.829999923706055,\n",
      " 'driver_rate_1m': 1,\n",
      " 'passenger_count': 1.0,\n",
      " 'pickup_weekday': 6,\n",
      " 'trip_distance': 1.38}\n",
      "######################################################\n",
      "2020-02-16 21:16:53\n",
      "{'PULocationID': 158,\n",
      " 'driver_avg_daily_trips': 5,\n",
      " 'driver_avg_speed': 23.829999923706055,\n",
      " 'driver_rate_1m': 1,\n",
      " 'passenger_count': 1.0,\n",
      " 'pickup_weekday': 6,\n",
      " 'trip_distance': 1.73}\n",
      "######################################################\n",
      "2020-02-16 21:19:14\n",
      "{'PULocationID': 141,\n",
      " 'driver_avg_daily_trips': 4,\n",
      " 'driver_avg_speed': 17.760000228881836,\n",
      " 'driver_rate_1m': 5,\n",
      " 'passenger_count': 1.0,\n",
      " 'pickup_weekday': 6,\n",
      " 'trip_distance': 1.3}\n",
      "######################################################\n",
      "2020-02-16 21:20:01\n",
      "{'PULocationID': 143,\n",
      " 'driver_avg_daily_trips': 5,\n",
      " 'driver_avg_speed': 23.829999923706055,\n",
      " 'driver_rate_1m': 1,\n",
      " 'passenger_count': 1.0,\n",
      " 'pickup_weekday': 6,\n",
      " 'trip_distance': 2.23}\n",
      "######################################################\n",
      "2020-02-16 21:24:47\n",
      "{'PULocationID': 162,\n",
      " 'driver_avg_daily_trips': 5,\n",
      " 'driver_avg_speed': 23.829999923706055,\n",
      " 'driver_rate_1m': 1,\n",
      " 'passenger_count': 3.0,\n",
      " 'pickup_weekday': 6,\n",
      " 'trip_distance': 1.01}\n",
      "######################################################\n",
      "2020-02-16 21:37:15\n",
      "{'PULocationID': 68,\n",
      " 'driver_avg_daily_trips': 5,\n",
      " 'driver_avg_speed': 23.829999923706055,\n",
      " 'driver_rate_1m': 1,\n",
      " 'passenger_count': 1.0,\n",
      " 'pickup_weekday': 6,\n",
      " 'trip_distance': 3.7}\n",
      "######################################################\n",
      "2020-02-16 21:45:03\n",
      "{'PULocationID': 75,\n",
      " 'driver_avg_daily_trips': 5,\n",
      " 'driver_avg_speed': 23.829999923706055,\n",
      " 'driver_rate_1m': 1,\n",
      " 'passenger_count': 1.0,\n",
      " 'pickup_weekday': 6,\n",
      " 'trip_distance': 1.9}\n",
      "######################################################\n",
      "2020-02-16 22:59:01\n",
      "Materializing \u001b[1m\u001b[32m1\u001b[0m feature views from \u001b[1m\u001b[32m2020-02-16 21:00:00+00:00\u001b[0m to \u001b[1m\u001b[32m2020-02-16 22:00:00+00:00\u001b[0m into the \u001b[1m\u001b[32msqlite\u001b[0m online store.\n",
      "\n",
      "\u001b[1m\u001b[32mdriver_hourly_stats\u001b[0m:\n",
      "100%|█████████████████████████████████████████████████████████████████| 2/2 [00:00<00:00, 61.17it/s]\n",
      "{'PULocationID': 230,\n",
      " 'driver_avg_daily_trips': 3,\n",
      " 'driver_avg_speed': 16.270000457763672,\n",
      " 'driver_rate_1m': 5,\n",
      " 'passenger_count': 1.0,\n",
      " 'pickup_weekday': 6,\n",
      " 'trip_distance': 1.2}\n",
      "######################################################\n",
      "2020-02-16 23:08:28\n",
      "Materializing \u001b[1m\u001b[32m1\u001b[0m feature views from \u001b[1m\u001b[32m2020-02-16 22:00:00+00:00\u001b[0m to \u001b[1m\u001b[32m2020-02-16 23:00:00+00:00\u001b[0m into the \u001b[1m\u001b[32msqlite\u001b[0m online store.\n",
      "\n",
      "\u001b[1m\u001b[32mdriver_hourly_stats\u001b[0m:\n",
      "100%|█████████████████████████████████████████████████████████████████| 2/2 [00:00<00:00, 86.41it/s]\n",
      "{'PULocationID': 162,\n",
      " 'driver_avg_daily_trips': 0,\n",
      " 'driver_avg_speed': 20.899999618530273,\n",
      " 'driver_rate_1m': 2,\n",
      " 'passenger_count': 1.0,\n",
      " 'pickup_weekday': 6,\n",
      " 'trip_distance': 1.07}\n",
      "######################################################\n",
      "2020-02-16 23:15:19\n",
      "{'PULocationID': 239,\n",
      " 'driver_avg_daily_trips': 6,\n",
      " 'driver_avg_speed': 21.68000030517578,\n",
      " 'driver_rate_1m': 1,\n",
      " 'passenger_count': 1.0,\n",
      " 'pickup_weekday': 6,\n",
      " 'trip_distance': 1.6}\n",
      "######################################################\n"
     ]
    }
   ],
   "source": [
    "from datetime import datetime, timedelta\n",
    "from pprint import pprint\n",
    "from feast import FeatureStore\n",
    "from whylogs import get_or_create_session\n",
    "\n",
    "session = get_or_create_session()\n",
    "\n",
    "store = FeatureStore(repo_path=\".\")\n",
    "\n",
    "prev_time = datetime(2020, 2, 10, 00, 00)\n",
    "target_time = datetime(2020, 2, 10, 1, 00)\n",
    "!feast materialize {prev_time.isoformat()} {target_time.isoformat()}\n",
    "\n",
    "# Initializing logger for the first day\n",
    "day_to_log = datetime(2020, 2, 10)\n",
    "logger = session.logger(dataset_name=\"my_dataset\",dataset_timestamp=day_to_log)\n",
    "\n",
    "profiles = []\n",
    "for index,row in rides_df.iterrows():\n",
    "\n",
    "    request_timestamp = row['tpep_pickup_datetime']\n",
    "    print(request_timestamp)\n",
    "\n",
    "    # If new request is from the next day, close logger, save profile in-memory and start logger for the next day\n",
    "    if request_timestamp.day > day_to_log.day:\n",
    "        print(\"Closing logger for day {}....\".format(day_to_log))\n",
    "        profile = logger.close()\n",
    "        profiles.append(profile)\n",
    "        day_to_log = request_timestamp.replace(hour=0, minute=0, second=0, microsecond=0)\n",
    "        print(\"Starting logger for day {}....\".format(day_to_log))\n",
    "        logger = session.logger(dataset_name=\"my_dataset\",dataset_timestamp=day_to_log)\n",
    "\n",
    "    if request_timestamp>target_time + timedelta(hours=1):\n",
    "        target_time = datetime(request_timestamp.year,request_timestamp.month,request_timestamp.day,request_timestamp.hour)\n",
    "        prev_time = target_time - timedelta(hours=1)\n",
    "        !feast materialize {prev_time.isoformat()} {target_time.isoformat()}\n",
    "\n",
    "\n",
    "    driver_feature_vector = store.get_online_features(\n",
    "    features=[\n",
    "        \"driver_hourly_stats:rate_1m\",\n",
    "        \"driver_hourly_stats:avg_daily_trips\",\n",
    "        \"driver_hourly_stats:avg_speed\"\n",
    "    ],\n",
    "    entity_rows=[{\"driver_id\": row['driver_id']},],\n",
    "    ).to_dict()\n",
    "\n",
    "    # Get features from both ride and driver\n",
    "    assembled_feature_vector = {\n",
    "        \"pickup_weekday\": row[\"pickup_weekday\"],\n",
    "        \"passenger_count\": row[\"passenger_count\"],\n",
    "        \"trip_distance\": row[\"trip_distance\"],\n",
    "        \"PULocationID\": row[\"PULocationID\"],\n",
    "        \"driver_avg_daily_trips\": driver_feature_vector[\"avg_daily_trips\"][0],\n",
    "        \"driver_rate_1m\": driver_feature_vector[\"rate_1m\"][0],\n",
    "        \"driver_avg_speed\": driver_feature_vector[\"avg_speed\"][0],\n",
    "\n",
    "    }\n",
    "\n",
    "    # Now that we have the complete set of features, model prediction could go here.\n",
    "\n",
    "    logger.log(assembled_feature_vector)\n",
    "    pprint(assembled_feature_vector)\n",
    "    print(\"######################################################\")\n",
    "\n",
    "profile = logger.close()\n",
    "profiles.append(profile)"
   ]
  },
  {
   "cell_type": "code",
   "execution_count": null,
   "metadata": {
    "cell_id": "58103c68-2e2f-4565-a61b-1fecd6f931e9",
    "deepnote_cell_height": 166.1875,
    "deepnote_cell_type": "code",
    "deepnote_output_heights": [
     null,
     117.1875
    ],
    "deepnote_to_be_reexecuted": false,
    "execution_millis": 2646,
    "execution_start": 1645029022273,
    "source_hash": "55e49c3f",
    "tags": []
   },
   "outputs": [
    {
     "name": "stderr",
     "output_type": "stream",
     "text": [
      "02/16/2022 04:30:23 PM INFO:generated new fontManager\n"
     ]
    }
   ],
   "source": [
    "from whylogs.viz import ProfileVisualizer\n",
    "\n",
    "viz = ProfileVisualizer()\n",
    "viz.set_profiles(profiles)"
   ]
  },
  {
   "cell_type": "code",
   "execution_count": null,
   "metadata": {
    "cell_id": "9ea9c8e7-b525-420d-8a27-b5fb649065a0",
    "deepnote_cell_height": 623.09375,
    "deepnote_cell_type": "code",
    "deepnote_output_heights": [
     null,
     378.96875
    ],
    "deepnote_to_be_reexecuted": false,
    "execution_millis": 1036,
    "execution_start": 1644598357486,
    "source_hash": "74d1d489",
    "tags": []
   },
   "outputs": [
    {
     "name": "stderr",
     "output_type": "stream",
     "text": [
      "02/11/2022 04:52:37 PM WARNING:findfont: Font family ['sans-serif'] not found. Falling back to DejaVu Sans.\n",
      "02/11/2022 04:52:37 PM WARNING:findfont: Generic family 'sans-serif' not found because none of the following families were found: Asap, Verdana\n",
      "02/11/2022 04:52:37 PM WARNING:findfont: Font family ['sans-serif'] not found. Falling back to DejaVu Sans.\n",
      "02/11/2022 04:52:37 PM WARNING:findfont: Generic family 'sans-serif' not found because none of the following families were found: Asap, Verdana\n",
      "02/11/2022 04:52:37 PM WARNING:findfont: Font family ['sans-serif'] not found. Falling back to DejaVu Sans.\n",
      "02/11/2022 04:52:37 PM WARNING:findfont: Generic family 'sans-serif' not found because none of the following families were found: Asap, Verdana\n"
     ]
    },
    {
     "data": {
      "image/png": "[encoded data removed]",
      "text/plain": [
       "<Figure size 2000x400 with 1 Axes>"
      ]
     },
     "execution_count": 20,
     "metadata": {
      "image/png": {
       "height": 478,
       "width": 1656
      }
     },
     "output_type": "execute_result"
    }
   ],
   "source": [
    "viz.plot_distribution(\"passenger_count\")"
   ]
  },
  {
   "cell_type": "markdown",
   "metadata": {
    "cell_id": "9e7d46be-1cc5-48fb-a68b-8c3a367ec8ff",
    "deepnote_cell_height": 74.78125,
    "deepnote_cell_type": "markdown",
    "tags": []
   },
   "source": [
    "The distribution of number of passengers before Feb 14 doesn't seem to be unconventional. After that, the 5-95% range falls between 1-2 passengers, which is enough to prompt a more detailed investigation."
   ]
  },
  {
   "cell_type": "code",
   "execution_count": null,
   "metadata": {
    "cell_id": "5a2d120b-95b5-4669-9356-d8a2c56a7c48",
    "deepnote_cell_height": 496.640625,
    "deepnote_cell_type": "code",
    "deepnote_output_heights": [
     399.640625
    ],
    "deepnote_to_be_reexecuted": false,
    "execution_millis": 759,
    "execution_start": 1644598370321,
    "source_hash": "8f8c7f44",
    "tags": []
   },
   "outputs": [
    {
     "data": {
      "image/png": "[encoded data removed]",
      "text/plain": [
       "<Figure size 2000x400 with 1 Axes>"
      ]
     },
     "execution_count": 21,
     "metadata": {
      "image/png": {
       "height": 510,
       "width": 1675
      }
     },
     "output_type": "execute_result"
    }
   ],
   "source": [
    "viz.plot_distribution(\"driver_avg_daily_trips\")"
   ]
  },
  {
   "cell_type": "markdown",
   "metadata": {
    "cell_id": "3c16e6ee-844d-4dc2-8004-fae8b1155f52",
    "deepnote_cell_height": 52.390625,
    "deepnote_cell_type": "markdown",
    "tags": []
   },
   "source": [
    "From Feb 14 onwards, as expected, there's a visible reduction in avg daily trips, without much changes in the standard deviation."
   ]
  },
  {
   "cell_type": "code",
   "execution_count": null,
   "metadata": {
    "cell_id": "99978e62-64ea-4ef0-954a-d830df614ac2",
    "deepnote_cell_height": 622.859375,
    "deepnote_cell_type": "code",
    "deepnote_output_heights": [
     null,
     378.734375
    ],
    "deepnote_to_be_reexecuted": false,
    "execution_millis": 574,
    "execution_start": 1645029042352,
    "source_hash": "e468444d",
    "tags": []
   },
   "outputs": [
    {
     "name": "stderr",
     "output_type": "stream",
     "text": [
      "02/16/2022 04:30:42 PM WARNING:findfont: Font family ['sans-serif'] not found. Falling back to DejaVu Sans.\n",
      "02/16/2022 04:30:42 PM WARNING:findfont: Generic family 'sans-serif' not found because none of the following families were found: Asap, Verdana\n",
      "02/16/2022 04:30:42 PM WARNING:findfont: Font family ['sans-serif'] not found. Falling back to DejaVu Sans.\n",
      "02/16/2022 04:30:42 PM WARNING:findfont: Generic family 'sans-serif' not found because none of the following families were found: Asap, Verdana\n",
      "02/16/2022 04:30:42 PM WARNING:findfont: Font family ['sans-serif'] not found. Falling back to DejaVu Sans.\n",
      "02/16/2022 04:30:42 PM WARNING:findfont: Generic family 'sans-serif' not found because none of the following families were found: Asap, Verdana\n"
     ]
    },
    {
     "data": {
      "image/png": "[encoded data removed]",
      "text/plain": [
       "<Figure size 2000x400 with 1 Axes>"
      ]
     },
     "execution_count": 27,
     "metadata": {
      "image/png": {
       "height": 478,
       "width": 1657
      }
     },
     "output_type": "execute_result"
    }
   ],
   "source": [
    "viz.plot_distribution(\"driver_rate_1m\")"
   ]
  },
  {
   "cell_type": "markdown",
   "metadata": {
    "cell_id": "33ec5bd2-22dc-4e0c-8b8b-a843d9176fc1",
    "deepnote_cell_height": 52.390625,
    "deepnote_cell_type": "markdown",
    "tags": []
   },
   "source": [
    "As with the previous plots, the changes injected in `rate_1m` is also visible by plotting the feature's distribution."
   ]
  },
  {
   "cell_type": "code",
   "execution_count": null,
   "metadata": {
    "cell_id": "7670d90c-2fe2-4e5d-9949-1f6fdd5d4cc6",
    "deepnote_cell_height": 471.90625,
    "deepnote_cell_type": "code",
    "deepnote_output_heights": [
     374.90625
    ],
    "deepnote_to_be_reexecuted": false,
    "execution_millis": 420,
    "execution_start": 1644598435649,
    "source_hash": "8ad409f3",
    "tags": []
   },
   "outputs": [
    {
     "data": {
      "image/png": "[encoded data removed]",
      "text/plain": [
       "<Figure size 2000x400 with 1 Axes>"
      ]
     },
     "execution_count": 23,
     "metadata": {
      "image/png": {
       "height": 478,
       "width": 1674
      }
     },
     "output_type": "execute_result"
    }
   ],
   "source": [
    "viz.plot_uniqueness(\"driver_avg_speed\")"
   ]
  },
  {
   "cell_type": "markdown",
   "metadata": {
    "cell_id": "b424147f-fe29-49ec-9954-433d9a6653b6",
    "deepnote_cell_height": 74.78125,
    "deepnote_cell_type": "markdown",
    "tags": []
   },
   "source": [
    "Although indirectly, the unique values of `driver_avg_speed` reflect the fact that for Feb 11 we have half the points available of driver statistics and, so, approximately half of unique values for the average speed."
   ]
  },
  {
   "cell_type": "markdown",
   "metadata": {
    "cell_id": "4d78b80c-42be-4823-8228-750c19d51cc4",
    "deepnote_cell_height": 82,
    "deepnote_cell_type": "markdown",
    "is_collapsed": false,
    "tags": []
   },
   "source": [
    "# Appendix - Changing the Dataset"
   ]
  },
  {
   "cell_type": "markdown",
   "metadata": {
    "cell_id": "d29248e7-2d0c-490b-967d-7b5d786edac4",
    "deepnote_cell_height": 74.78125,
    "deepnote_cell_type": "markdown",
    "tags": []
   },
   "source": [
    "This section is not really a part of the demonstration. It's just to show the changes made in the dataset that originated the `driver_stats_changed.parquet` file that will be used in the beginning of the notebook."
   ]
  },
  {
   "cell_type": "markdown",
   "metadata": {
    "cell_id": "86d151d9-7454-4382-af0b-5d0e434cd324",
    "deepnote_cell_height": 130.78125,
    "deepnote_cell_type": "markdown",
    "tags": []
   },
   "source": [
    "## Driver Statistics\n",
    "\n",
    "The NYC taxi datasets provides only information about rides, but in this example we want to show an example of using an online feature store to enrich ride information with driver statistics. So, we'll fabricate some driver statistics and link them with the rides dataset  (__nyc_taxi_rides_feb_2020.parquet__) through the `Driver_ID` key."
   ]
  },
  {
   "cell_type": "code",
   "execution_count": null,
   "metadata": {
    "cell_id": "018468ac-ad1b-4ed7-b47b-4f75c885a6c6",
    "deepnote_cell_height": 315,
    "deepnote_cell_type": "code",
    "deepnote_to_be_reexecuted": false,
    "execution_millis": 23,
    "execution_start": 1645028244218,
    "source_hash": "725bdef6",
    "tags": []
   },
   "outputs": [],
   "source": [
    "import pandas as pd\n",
    "\n",
    "\n",
    "dstats = pd.DataFrame(\n",
    "        {'event_timestamp': pd.date_range('2020-02-10', '2020-02-17', freq='1H', closed='left')}\n",
    "     )\n",
    "dstats['driver_id'] = '1001'\n",
    "\n",
    "dstats2 = pd.DataFrame(\n",
    "        {'event_timestamp': pd.date_range('2020-02-10', '2020-02-17', freq='1H', closed='left')}\n",
    "     )\n",
    "dstats2['driver_id'] = '1002'\n",
    "\n",
    "dstats_tot = pd.concat([dstats, dstats2])"
   ]
  },
  {
   "cell_type": "code",
   "execution_count": null,
   "metadata": {
    "cell_id": "f51f412d-c1c7-46a0-b034-5d6e5d72d74b",
    "deepnote_cell_height": 81,
    "deepnote_cell_type": "code",
    "deepnote_to_be_reexecuted": false,
    "execution_millis": 9,
    "execution_start": 1645028270725,
    "source_hash": "1edc92b2",
    "tags": []
   },
   "outputs": [],
   "source": [
    "dstats_tot = dstats_tot.sort_values(by=[\"event_timestamp\",\"driver_id\"])"
   ]
  },
  {
   "cell_type": "code",
   "execution_count": null,
   "metadata": {
    "cell_id": "240df262-1a5f-4ab7-99b7-83011ad159f7",
    "deepnote_cell_height": 99,
    "deepnote_cell_type": "code",
    "deepnote_to_be_reexecuted": false,
    "execution_millis": 3,
    "execution_start": 1645028276457,
    "source_hash": "8de3bf4d",
    "tags": []
   },
   "outputs": [],
   "source": [
    "import datetime\n",
    "dstats_tot['created'] = datetime.datetime.now()"
   ]
  },
  {
   "cell_type": "code",
   "execution_count": null,
   "metadata": {
    "cell_id": "250fe3fb-4523-434d-ba9b-fc65de1e86ab",
    "deepnote_cell_height": 189,
    "deepnote_cell_type": "code",
    "deepnote_to_be_reexecuted": false,
    "execution_millis": 8,
    "execution_start": 1645028281414,
    "source_hash": "639e1fd2",
    "tags": []
   },
   "outputs": [],
   "source": [
    "import numpy as np\n",
    "\n",
    "mu, sigma = 30, 6 # mean and standard deviation\n",
    "s = np.random.normal(mu, sigma, len(dstats_tot))\n",
    "daily_trips = np.round(s)\n",
    "daily_trips = [int(x) for x in daily_trips]\n",
    "dstats_tot['avg_daily_trips'] = daily_trips"
   ]
  },
  {
   "cell_type": "code",
   "execution_count": null,
   "metadata": {
    "cell_id": "eeac0c0c-c557-4163-9783-65a696a80b04",
    "deepnote_cell_height": 225,
    "deepnote_cell_type": "code",
    "deepnote_to_be_reexecuted": false,
    "execution_millis": 735,
    "execution_start": 1645028293087,
    "source_hash": "9399dc6",
    "tags": []
   },
   "outputs": [],
   "source": [
    "from scipy.stats import truncnorm\n",
    "\n",
    "def get_truncated_normal(mean=3, sd=0.75, low=1, upp=11):\n",
    "    return truncnorm(\n",
    "        (low - mean) / sd, (upp - mean) / sd, loc=mean, scale=sd)\n",
    "\n",
    "X = get_truncated_normal()\n",
    "\n",
    "dstats_tot['rate_1m'] = [int(x) for x in X.rvs(len(dstats_tot))]"
   ]
  },
  {
   "cell_type": "code",
   "execution_count": null,
   "metadata": {
    "cell_id": "a42b7248-06b4-454f-946a-564c76094ba7",
    "deepnote_cell_height": 189,
    "deepnote_cell_type": "code",
    "deepnote_to_be_reexecuted": false,
    "execution_millis": 0,
    "execution_start": 1645028297986,
    "source_hash": "7768cfc0",
    "tags": []
   },
   "outputs": [],
   "source": [
    "import numpy as np\n",
    "\n",
    "mu, sigma = 20, 4 # mean and standard deviation\n",
    "s = np.random.normal(mu, sigma, len(dstats_tot))\n",
    "avg_speed = np.round(s,2)\n",
    "avg_speed\n",
    "dstats_tot['avg_speed'] = avg_speed"
   ]
  },
  {
   "cell_type": "markdown",
   "metadata": {
    "cell_id": "1ba7fae2-ef01-46a6-ba18-f4de87faaa1c",
    "deepnote_cell_height": 62,
    "deepnote_cell_type": "markdown",
    "tags": []
   },
   "source": [
    "### Adding changes - Stats Update Frequency"
   ]
  },
  {
   "cell_type": "code",
   "execution_count": null,
   "metadata": {
    "cell_id": "d082e41d-bae4-46b1-9a1c-affab45d23e3",
    "deepnote_cell_height": 135,
    "deepnote_cell_type": "code",
    "deepnote_to_be_reexecuted": false,
    "execution_millis": 21,
    "execution_start": 1645028303211,
    "source_hash": "974118e8",
    "tags": []
   },
   "outputs": [],
   "source": [
    "dstats_tot = dstats_tot.reset_index()\n",
    "cond = (dstats_tot['event_timestamp'].dt.day==11) & (dstats_tot['event_timestamp'].dt.month==2) & ((dstats_tot['event_timestamp'].dt.hour%2)!=0)\n",
    "df2 = dstats_tot.loc[cond]\n",
    "dstats_tot = dstats_tot[~dstats_tot.isin(df2)].dropna()"
   ]
  },
  {
   "cell_type": "markdown",
   "metadata": {
    "cell_id": "1e033143-b572-4101-a57b-44762746a9bd",
    "deepnote_cell_height": 122.78125,
    "deepnote_cell_type": "markdown",
    "deepnote_to_be_reexecuted": false,
    "execution_millis": 1,
    "execution_start": 1644849312421,
    "source_hash": "d4b6560f",
    "tags": []
   },
   "source": [
    "### Adding changes - Rate_1m\n",
    "\n",
    "We're assuming that this change in customer's behaviour would not change the mean of the distribution, but would have an increased standard deviation, making the rates be more spreaded, increasing the frequency of extreme ratings (positive or negative)."
   ]
  },
  {
   "cell_type": "code",
   "execution_count": null,
   "metadata": {
    "cell_id": "0db74771-a49e-4327-bbea-992e6478ae65",
    "deepnote_cell_height": 189,
    "deepnote_cell_type": "code",
    "deepnote_to_be_reexecuted": false,
    "execution_millis": 0,
    "execution_start": 1645028311961,
    "source_hash": "8b53504a",
    "tags": []
   },
   "outputs": [],
   "source": [
    "import numpy as np\n",
    "cond = (dstats_tot['event_timestamp'].dt.day==14) & (dstats_tot['event_timestamp'].dt.month==2)\n",
    "size = len(dstats_tot.loc[cond])\n",
    "\n",
    "X = get_truncated_normal(mean=3, sd=2, low=1, upp=11)\n",
    "rate_1m = [int(x) for x in X.rvs(size)]\n",
    "dstats_tot.loc[cond, 'rate_1m'] = rate_1m"
   ]
  },
  {
   "cell_type": "code",
   "execution_count": null,
   "metadata": {
    "cell_id": "922542d2-8b37-4016-9c7e-08153f2df0fc",
    "deepnote_cell_height": 189,
    "deepnote_cell_type": "code",
    "deepnote_to_be_reexecuted": false,
    "execution_millis": 6,
    "execution_start": 1645028316780,
    "source_hash": "3765392e",
    "tags": []
   },
   "outputs": [],
   "source": [
    "import numpy as np\n",
    "cond = (dstats_tot['event_timestamp'].dt.day==15) & (dstats_tot['event_timestamp'].dt.month==2)\n",
    "size = len(dstats_tot.loc[cond])\n",
    "\n",
    "X = get_truncated_normal(mean=3, sd=3, low=1, upp=11)\n",
    "rate_1m = [int(x) for x in X.rvs(size)]\n",
    "dstats_tot.loc[cond, 'rate_1m'] = rate_1m"
   ]
  },
  {
   "cell_type": "code",
   "execution_count": null,
   "metadata": {
    "cell_id": "d5585a50-342f-4b21-8586-515e9444939d",
    "deepnote_cell_height": 189,
    "deepnote_cell_type": "code",
    "deepnote_to_be_reexecuted": false,
    "execution_millis": 3,
    "execution_start": 1645028320674,
    "source_hash": "47a3fc77",
    "tags": []
   },
   "outputs": [],
   "source": [
    "import numpy as np\n",
    "cond = (dstats_tot['event_timestamp'].dt.day==16) & (dstats_tot['event_timestamp'].dt.month==2)\n",
    "size = len(dstats_tot.loc[cond])\n",
    "\n",
    "X = get_truncated_normal(mean=3, sd=4, low=1, upp=11)\n",
    "rate_1m = [int(x) for x in X.rvs(size)]\n",
    "dstats_tot.loc[cond, 'rate_1m'] = rate_1m"
   ]
  },
  {
   "cell_type": "markdown",
   "metadata": {
    "cell_id": "cec3a4d7-6a01-4e2f-a74b-f05564cd47ab",
    "deepnote_cell_height": 62,
    "deepnote_cell_type": "markdown",
    "deepnote_to_be_reexecuted": false,
    "execution_millis": 1,
    "execution_start": 1644849464186,
    "source_hash": "f50be616",
    "tags": []
   },
   "source": [
    "### Adding Changes - Avg Daily Trips"
   ]
  },
  {
   "cell_type": "code",
   "execution_count": null,
   "metadata": {
    "cell_id": "1a3ef184-bd7f-49f2-8a13-568fc87c2180",
    "deepnote_cell_height": 243,
    "deepnote_cell_type": "code",
    "deepnote_to_be_reexecuted": false,
    "execution_millis": 3,
    "execution_start": 1645028324212,
    "source_hash": "465c95fb",
    "tags": []
   },
   "outputs": [],
   "source": [
    "cond = (dstats_tot['event_timestamp'].dt.day==14) & (dstats_tot['event_timestamp'].dt.month==2)\n",
    "size = len(dstats_tot.loc[cond])\n",
    "\n",
    "mu, sigma = 24, 6 # mean and standard deviation\n",
    "s = np.random.normal(mu, sigma, size)\n",
    "daily_trips = np.round(s)\n",
    "daily_trips = [int(x) if x>0 else 0 for x in daily_trips]\n",
    "# daily_trips\n",
    "\n",
    "dstats_tot.loc[cond, 'avg_daily_trips'] = daily_trips"
   ]
  },
  {
   "cell_type": "code",
   "execution_count": null,
   "metadata": {
    "cell_id": "2f7e0dc6-5ced-43ef-9e1d-36b3ca33e2f6",
    "deepnote_cell_height": 243,
    "deepnote_cell_type": "code",
    "deepnote_to_be_reexecuted": false,
    "execution_millis": 8,
    "execution_start": 1645028326717,
    "source_hash": "18b54ce6",
    "tags": []
   },
   "outputs": [],
   "source": [
    "cond = (dstats_tot['event_timestamp'].dt.day==15) & (dstats_tot['event_timestamp'].dt.month==2)\n",
    "size = len(dstats_tot.loc[cond])\n",
    "\n",
    "mu, sigma = 12, 6 # mean and standard deviation\n",
    "s = np.random.normal(mu, sigma, size)\n",
    "daily_trips = np.round(s)\n",
    "daily_trips = [int(x) if x>0 else 0 for x in daily_trips]\n",
    "# daily_trips\n",
    "\n",
    "dstats_tot.loc[cond, 'avg_daily_trips'] = daily_trips"
   ]
  },
  {
   "cell_type": "code",
   "execution_count": null,
   "metadata": {
    "cell_id": "029bca72-3427-4a72-bee5-dfd37bfc7a00",
    "deepnote_cell_height": 243,
    "deepnote_cell_type": "code",
    "deepnote_to_be_reexecuted": false,
    "execution_millis": 7,
    "execution_start": 1645028329180,
    "source_hash": "7071f367",
    "tags": []
   },
   "outputs": [],
   "source": [
    "cond = (dstats_tot['event_timestamp'].dt.day==16) & (dstats_tot['event_timestamp'].dt.month==2)\n",
    "size = len(dstats_tot.loc[cond])\n",
    "\n",
    "mu, sigma = 3, 6 # mean and standard deviation\n",
    "s = np.random.normal(mu, sigma, size)\n",
    "daily_trips = np.round(s)\n",
    "daily_trips = [int(x) if x>0 else 0 for x in daily_trips]\n",
    "# daily_trips\n",
    "\n",
    "dstats_tot.loc[cond, 'avg_daily_trips'] = daily_trips"
   ]
  },
  {
   "cell_type": "code",
   "execution_count": null,
   "metadata": {
    "cell_id": "fcf49813-4cd4-4bc5-8d5f-e8a97f9e3ec7",
    "deepnote_cell_height": 99,
    "deepnote_cell_type": "code",
    "deepnote_to_be_reexecuted": false,
    "execution_millis": 294,
    "execution_start": 1645028342957,
    "source_hash": "4b6dc89f",
    "tags": []
   },
   "outputs": [],
   "source": [
    "dstats_tot = dstats_tot.astype({'driver_id': 'int64','avg_daily_trips':'int64','rate_1m':'int64'})\n",
    "dstats_tot.to_parquet(\"driver_stats.parquet\")"
   ]
  },
  {
   "cell_type": "markdown",
   "metadata": {
    "cell_id": "531b2db8-7b5c-49f4-a3b3-b992f18d9f98",
    "deepnote_cell_height": 70,
    "deepnote_cell_type": "markdown",
    "tags": []
   },
   "source": [
    "## Rides Dataset"
   ]
  },
  {
   "cell_type": "markdown",
   "metadata": {
    "cell_id": "c35dc825-45b6-44b3-acee-adf869239cc9",
    "deepnote_cell_height": 147.5625,
    "deepnote_cell_type": "markdown",
    "tags": []
   },
   "source": [
    "The `nyc_taxi_rides_feb_2020.parquet` was extracted from [the TLC trip record data](https://www1.nyc.gov/site/tlc/about/tlc-trip-record-data.page). We randomly sampled the data and selected a few chosen features, in order to reduce the dataset for this demonstration.\n",
    "\n",
    "In addition, one features was created: The day of the week, based from `tpep_pickup_datetime`.\n",
    "\n",
    "The original features are described in this [data dictionary](https://www1.nyc.gov/assets/tlc/downloads/pdf/data_dictionary_trip_records_yellow.pdf)."
   ]
  },
  {
   "cell_type": "code",
   "execution_count": null,
   "metadata": {
    "cell_id": "5a5b167c-822c-4acb-a270-da80a2d53df6",
    "deepnote_cell_height": 129.796875,
    "deepnote_cell_type": "code",
    "deepnote_to_be_reexecuted": false,
    "execution_millis": 358,
    "execution_start": 1645029286247,
    "is_output_hidden": true,
    "output_cleared": false,
    "source_hash": "7f6fed49",
    "tags": []
   },
   "outputs": [
    {
     "name": "stdout",
     "output_type": "stream",
     "text": [
      "/work\n",
      ".:\n",
      "feature_repo  init.ipynb      nyc_taxi_rides_feb_2020_changed.parquet\n",
      "images\t      notebook.ipynb  nyc_taxi_rides_feb_2020.parquet\n",
      "\n",
      "./feature_repo:\n",
      "data  example.py  feature_store.yaml  __init__.py  output\n",
      "\n",
      "./feature_repo/data:\n",
      "driver_stats.parquet\t\t online_store.db\n",
      "nyc_taxi_rides_feb_2020.parquet  registry.db\n",
      "\n",
      "./feature_repo/output:\n",
      "my_dataset\n",
      "\n",
      "./feature_repo/output/my_dataset:\n",
      "aa1ffa55-00fa-4da4-b413-b387365fbde4\n",
      "\n",
      "./feature_repo/output/my_dataset/aa1ffa55-00fa-4da4-b413-b387365fbde4:\n",
      "flat_table  frequent_strings  histogram  json  protobuf\n",
      "\n",
      "./feature_repo/output/my_dataset/aa1ffa55-00fa-4da4-b413-b387365fbde4/flat_table:\n",
      "dataset_profile.csv\n",
      "\n",
      "./feature_repo/output/my_dataset/aa1ffa55-00fa-4da4-b413-b387365fbde4/frequent_strings:\n",
      "dataset_profile.json\n",
      "\n",
      "./feature_repo/output/my_dataset/aa1ffa55-00fa-4da4-b413-b387365fbde4/histogram:\n",
      "dataset_profile.json\n",
      "\n",
      "./feature_repo/output/my_dataset/aa1ffa55-00fa-4da4-b413-b387365fbde4/json:\n",
      "dataset_profile.json\n",
      "\n",
      "./feature_repo/output/my_dataset/aa1ffa55-00fa-4da4-b413-b387365fbde4/protobuf:\n",
      "dataset_profile.bin\n",
      "\n",
      "./images:\n",
      "context.jpg  profile_viewer.png\n"
     ]
    }
   ],
   "source": [
    "%cd ..\n",
    "!ls -R"
   ]
  },
  {
   "cell_type": "code",
   "execution_count": null,
   "metadata": {
    "cell_id": "f4b5c6d0-9001-4bc2-b252-e7b2e1270a9c",
    "deepnote_cell_height": 117,
    "deepnote_cell_type": "code",
    "deepnote_to_be_reexecuted": false,
    "execution_millis": 0,
    "execution_start": 1645029314962,
    "source_hash": "5691d52d",
    "tags": []
   },
   "outputs": [],
   "source": [
    "import pandas as pd\n",
    "\n",
    "df_final = pd.read_parquet(\"nyc_taxi_rides_feb_2020.parquet\")"
   ]
  },
  {
   "cell_type": "markdown",
   "metadata": {
    "cell_id": "99bd1579-1114-49af-9af1-d45b7564521e",
    "deepnote_cell_height": 62,
    "deepnote_cell_type": "markdown",
    "tags": []
   },
   "source": [
    "### Reducing Passenger Count"
   ]
  },
  {
   "cell_type": "code",
   "execution_count": null,
   "metadata": {
    "cell_id": "f735d71c-91ea-4df5-93db-058dcb22274f",
    "deepnote_cell_height": 207,
    "deepnote_cell_type": "code",
    "deepnote_to_be_reexecuted": false,
    "execution_millis": 17,
    "execution_start": 1645029322856,
    "source_hash": "71a0b501",
    "tags": []
   },
   "outputs": [],
   "source": [
    "cond = (df_final['tpep_pickup_datetime'].dt.day==14) & (df_final['tpep_pickup_datetime'].dt.month==2)\n",
    "df_final.loc[cond, 'passenger_count'] = df_final[cond]['passenger_count'].apply(lambda x: x-1 if x>1 else 1)\n",
    "\n",
    "cond = (df_final['tpep_pickup_datetime'].dt.day==15) & (df_final['tpep_pickup_datetime'].dt.month==2)\n",
    "df_final.loc[cond, 'passenger_count'] = df_final[cond]['passenger_count'].apply(lambda x: x-2 if x-2>0 else 1)\n",
    "\n",
    "cond = (df_final['tpep_pickup_datetime'].dt.day==16) & (df_final['tpep_pickup_datetime'].dt.month==2)\n",
    "df_final.loc[cond, 'passenger_count'] = df_final[cond]['passenger_count'].apply(lambda x: x-2 if x-2>0 else 1)"
   ]
  },
  {
   "cell_type": "code",
   "execution_count": null,
   "metadata": {
    "cell_id": "d1a9ae6d-e621-4314-a749-03a33eca0126",
    "deepnote_cell_height": 81,
    "deepnote_cell_type": "code",
    "deepnote_to_be_reexecuted": false,
    "execution_millis": 10,
    "execution_start": 1645029337656,
    "source_hash": "c6aecf25",
    "tags": []
   },
   "outputs": [],
   "source": [
    "df_final.to_parquet(\"nyc_taxi_rides_feb_2020_changed.parquet\")"
   ]
  },
  {
   "cell_type": "markdown",
   "metadata": {
    "created_in_deepnote_cell": true,
    "deepnote_cell_type": "markdown",
    "tags": []
   },
   "source": [
    "<a style='text-decoration:none;line-height:16px;display:flex;color:#5B5B62;padding:10px;justify-content:end;' href='https://deepnote.com?utm_source=created-in-deepnote-cell&projectId=00e43ad4-9473-4fa9-be6f-62af4ce1f0de' target=\"_blank\">\n",
    "<img alt='Created in deepnote.com' style='display:inline;max-height:16px;margin:0px;margin-right:7.5px;' src='data:image/svg+xml;base64,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' > </img>\n",
    "Created in <span style='font-weight:600;margin-left:4px;'>Deepnote</span></a>"
   ]
  }
 ],
 "metadata": {
  "deepnote": {
   "is_reactive": false
  },
  "deepnote_execution_queue": [],
  "deepnote_notebook_id": "6e2d27d1-2ead-4876-a7d8-b9bb4ed36dda",
  "interpreter": {
   "hash": "916dbcbb3f70747c44a77c7bcd40155683ae19c65e1c03b4aa3499c5328201f1"
  },
  "kernelspec": {
   "display_name": "Python 3.8.10 64-bit",
   "language": "python",
   "name": "python3"
  },
  "language_info": {
   "codemirror_mode": {
    "name": "ipython",
    "version": 3
   },
   "file_extension": ".py",
   "mimetype": "text/x-python",
   "name": "python",
   "nbconvert_exporter": "python",
   "pygments_lexer": "ipython3",
   "version": "3.8.12"
  },
  "orig_nbformat": 2
 },
 "nbformat": 4,
 "nbformat_minor": 2
}
