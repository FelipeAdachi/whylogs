{
 "cells": [
  {
   "cell_type": "markdown",
   "id": "6b36ea8e",
   "metadata": {},
   "source": [
    "# Profiler Viewer In Notebook"
   ]
  },
  {
   "cell_type": "code",
   "execution_count": null,
   "id": "5d40e474",
   "metadata": {},
   "outputs": [],
   "source": [
    "import numpy as np\n",
    "import datetime"
   ]
  },
  {
   "cell_type": "code",
   "execution_count": null,
   "id": "2c3ff3a2",
   "metadata": {},
   "outputs": [],
   "source": [
    "from whylogs import get_or_create_session\n",
    "from whylogs.core import DatasetProfile\n",
    "from whylogs.viz import display_profile"
   ]
  },
  {
   "cell_type": "markdown",
   "id": "272f6054",
   "metadata": {},
   "source": [
    "## Data for Logging"
   ]
  },
  {
   "cell_type": "code",
   "execution_count": null,
   "id": "29e48da5",
   "metadata": {},
   "outputs": [],
   "source": [
    "!pip install faker"
   ]
  },
  {
   "cell_type": "code",
   "execution_count": null,
   "id": "41f8a0f9",
   "metadata": {},
   "outputs": [],
   "source": [
    "from collections import OrderedDict\n",
    "from faker import Faker\n",
    "\n",
    "locales = OrderedDict([\n",
    "    ('en-US', 1),\n",
    "    ('fr-FR', 2),\n",
    "    ('ja_JP', 2),\n",
    "])\n",
    "fake= Faker(locales)\n",
    "distribution = np.concatenate((np.random.normal(0.1, 0.1, 500), np.random.normal(0.6, 0.2, 500)))"
   ]
  },
  {
   "cell_type": "markdown",
   "id": "200841f2",
   "metadata": {},
   "source": [
    "### 📝 Log it\n"
   ]
  },
  {
   "cell_type": "code",
   "execution_count": null,
   "id": "ea4ce6a6",
   "metadata": {},
   "outputs": [],
   "source": [
    "session = get_or_create_session()\n",
    "def profile_generator():\n",
    "    with session.logger(\"mytestytest\",dataset_timestamp=datetime.datetime(2021, 6, 2)) as logger:\n",
    "        for _ in range(500):\n",
    "            logger.log({\"uniform_integers\": np.random.randint(0,50)})\n",
    "            logger.log({\"strings\": fake.name()})\n",
    "            logger.log({\"mixture_distribution\": np.random.choice(distribution, 1)[0]})\n",
    "            logger.log({\"nulls\": None})\n",
    "        logger.log({\"moah_data\":1})\n",
    "        logger.log({\"moah_data\":1})\n",
    "        logger.log({\"moah_data\":5})\n",
    "        return logger.profile\n",
    "profile=profile_generator()"
   ]
  },
  {
   "cell_type": "markdown",
   "id": "8390f360",
   "metadata": {},
   "source": [
    "## 👀 open viewer"
   ]
  },
  {
   "cell_type": "markdown",
   "id": "650d44c4",
   "metadata": {},
   "source": [
    "By calling `display_profile`, it will display a summary of your profiled dataset."
   ]
  },
  {
   "cell_type": "code",
   "execution_count": null,
   "id": "7dbff14f",
   "metadata": {},
   "outputs": [],
   "source": [
    "display_profile(profiles=[profile])\n"
   ]
  },
  {
   "cell_type": "markdown",
   "id": "9908a9f9",
   "metadata": {},
   "source": [
    "### Logging reference profile"
   ]
  },
  {
   "cell_type": "code",
   "execution_count": null,
   "id": "911147eb",
   "metadata": {},
   "outputs": [],
   "source": [
    "reference_profile=profile_generator() "
   ]
  },
  {
   "cell_type": "markdown",
   "id": "2768a074",
   "metadata": {},
   "source": [
    "### Add reference profile to viewer and open"
   ]
  },
  {
   "cell_type": "code",
   "execution_count": null,
   "id": "250bb662",
   "metadata": {},
   "outputs": [],
   "source": [
    "display_profile(profiles=[profile], reference_profiles=[reference_profile])"
   ]
  },
  {
   "cell_type": "code",
   "execution_count": null,
   "id": "2ab7221d",
   "metadata": {},
   "outputs": [],
   "source": []
  }
 ],
 "metadata": {
  "kernelspec": {
   "display_name": "Python 3 (ipykernel)",
   "language": "python",
   "name": "python3"
  },
  "language_info": {
   "codemirror_mode": {
    "name": "ipython",
    "version": 3
   },
   "file_extension": ".py",
   "mimetype": "text/x-python",
   "name": "python",
   "nbconvert_exporter": "python",
   "pygments_lexer": "ipython3",
   "version": "3.9.7"
  }
 },
 "nbformat": 4,
 "nbformat_minor": 5
}
