{
 "cells": [
  {
   "cell_type": "markdown",
   "id": "6b36ea8e",
   "metadata": {},
   "source": [
    "# Profiler Viewer In Notebook"
   ]
  },
  {
   "cell_type": "code",
   "execution_count": null,
   "id": "5d40e474",
   "metadata": {},
   "outputs": [],
   "source": [
    "import numpy as np\n",
    "import datetime"
   ]
  },
  {
   "cell_type": "code",
   "execution_count": null,
   "id": "2c3ff3a2",
   "metadata": {},
   "outputs": [],
   "source": [
    "from whylogs import get_or_create_session\n",
    "from whylogs.core import DatasetProfile\n",
    "from whylogs.viz import DisplayProfile\n"
   ]
  },
  {
   "cell_type": "markdown",
   "id": "272f6054",
   "metadata": {},
   "source": [
    "## Data for Logging"
   ]
  },
  {
   "cell_type": "code",
   "execution_count": null,
   "id": "29e48da5",
   "metadata": {},
   "outputs": [],
   "source": [
    "!pip install faker"
   ]
  },
  {
   "cell_type": "code",
   "execution_count": null,
   "id": "41f8a0f9",
   "metadata": {},
   "outputs": [],
   "source": [
    "from collections import OrderedDict\n",
    "from faker import Faker\n",
    "\n",
    "locales = OrderedDict([\n",
    "    ('en-US', 1),\n",
    "    ('fr-FR', 2),\n",
    "    ('ja_JP', 2),\n",
    "])\n",
    "fake= Faker(locales)\n",
    "distribution = np.concatenate((np.random.normal(0.1, 0.1, 500), np.random.normal(0.6, 0.2, 500)))"
   ]
  },
  {
   "cell_type": "markdown",
   "id": "200841f2",
   "metadata": {},
   "source": [
    "### 📝 Log it\n"
   ]
  },
  {
   "cell_type": "code",
   "execution_count": null,
   "id": "ea4ce6a6",
   "metadata": {},
   "outputs": [],
   "source": [
    "session = get_or_create_session()\n",
    "def profile_generator():\n",
    "    with session.logger(\"mytestytest\",dataset_timestamp=datetime.datetime(2021, 6, 2)) as logger:\n",
    "        for _ in range(500):\n",
    "            logger.log({\"uniform_integers\": np.random.randint(0,50)})\n",
    "            logger.log({\"strings\": fake.name()})\n",
    "            logger.log({\"mixture_distribution\": np.random.choice(distribution, 1)[0]})\n",
    "            logger.log({\"nulls\": None})\n",
    "        logger.log({\"moah_data\":1})\n",
    "        logger.log({\"moah_data\":1})\n",
    "        logger.log({\"moah_data\":5})\n",
    "        return logger.profile\n",
    "profile=profile_generator()"
   ]
  },
  {
   "cell_type": "markdown",
   "id": "8390f360",
   "metadata": {},
   "source": [
    "## 👀 data visualization"
   ]
  },
  {
   "cell_type": "markdown",
   "id": "650d44c4",
   "metadata": {},
   "source": [
    "Pass profile data to `DisplayProfile` and show histogram data by calling `summary()` method, it will display a summary of your profiled dataset."
   ]
  },
  {
   "cell_type": "code",
   "execution_count": null,
   "id": "7dbff14f",
   "metadata": {},
   "outputs": [],
   "source": [
    "p=DisplayProfile([profile])\n",
    "p.summary()\n"
   ]
  },
  {
   "cell_type": "markdown",
   "id": "9908a9f9",
   "metadata": {},
   "source": [
    "### Logging reference profile"
   ]
  },
  {
   "cell_type": "code",
   "execution_count": null,
   "id": "911147eb",
   "metadata": {},
   "outputs": [],
   "source": [
    "reference_profile=profile_generator() "
   ]
  },
  {
   "cell_type": "markdown",
   "id": "2768a074",
   "metadata": {},
   "source": [
    "### Add reference profile to viewer and open"
   ]
  },
  {
   "cell_type": "code",
   "execution_count": null,
   "id": "250bb662",
   "metadata": {},
   "outputs": [],
   "source": [
    "visualization=DisplayProfile([profile], [reference_profile])\n",
    "visualization.summary()"
   ]
  },
  {
   "cell_type": "markdown",
   "id": "4dd9e690",
   "metadata": {},
   "source": [
    "### Display double histogram of a feature"
   ]
  },
  {
   "cell_type": "markdown",
   "id": "28b512ca",
   "metadata": {},
   "source": [
    "Both target profile and reference profile must be passed to `DisplayProfile`. By calling `feature()` method with your preferred feature title (`feature(\"title\")`) detailed double histogram will be displayed bellow."
   ]
  },
  {
   "cell_type": "code",
   "execution_count": null,
   "id": "02f38de0",
   "metadata": {},
   "outputs": [],
   "source": [
    "visualization.feature(\"uniform_integers\")"
   ]
  },
  {
   "cell_type": "markdown",
   "id": "b04f735b",
   "metadata": {},
   "source": [
    "### Download prefered cell output"
   ]
  },
  {
   "cell_type": "markdown",
   "id": "01fbed2c",
   "metadata": {},
   "source": [
    "By calling `download()` method of `DisplayProfile` and passing visualizer command, path to be downloaded to (optional) and name of the file you prefer (optional). Exaple `download(visualization.feature(\"title\"), \"examlpe/path\", \"example_html_file_name\")`. Command will download HTML format.\n",
    "\n",
    "If path is not passed file will be downloaded to `html_reports` located in whylogs directory by default.\n",
    "\n",
    "If name of the file is not passed it will be name of the dataset followed by timestamp of the profile by default. "
   ]
  },
  {
   "cell_type": "code",
   "execution_count": null,
   "id": "980d7236",
   "metadata": {},
   "outputs": [],
   "source": [
    "p.download(p.feature(\"uniform_integers\"))"
   ]
  }
 ],
 "metadata": {
  "kernelspec": {
   "display_name": "Python 3 (ipykernel)",
   "language": "python",
   "name": "python3"
  },
  "language_info": {
   "codemirror_mode": {
    "name": "ipython",
    "version": 3
   },
   "file_extension": ".py",
   "mimetype": "text/x-python",
   "name": "python",
   "nbconvert_exporter": "python",
   "pygments_lexer": "ipython3",
   "version": "3.9.7"
  }
 },
 "nbformat": 4,
 "nbformat_minor": 5
}
