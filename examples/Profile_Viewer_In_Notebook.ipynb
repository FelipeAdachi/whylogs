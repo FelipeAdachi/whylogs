{
 "cells": [
  {
   "cell_type": "markdown",
   "id": "6b36ea8e",
   "metadata": {},
   "source": [
    "# 📈 Whylogs Profile Visualization\n",
    "### gives you various ways to simplify the proccess of detecting dataset drift. Bellow you can see the instructions for creating dummy dataset and list of currently available visual reports."
   ]
  },
  {
   "cell_type": "markdown",
   "id": "be56fca7",
   "metadata": {},
   "source": [
    "### 🗂️Install dependencies and make imports"
   ]
  },
  {
   "cell_type": "code",
   "execution_count": null,
   "id": "29e48da5",
   "metadata": {},
   "outputs": [],
   "source": [
    "!pip install faker"
   ]
  },
  {
   "cell_type": "code",
   "execution_count": null,
   "id": "5d40e474",
   "metadata": {},
   "outputs": [],
   "source": [
    "import numpy as np\n",
    "import datetime\n",
    "from collections import OrderedDict\n",
    "from faker import Faker"
   ]
  },
  {
   "cell_type": "code",
   "execution_count": null,
   "id": "2c3ff3a2",
   "metadata": {},
   "outputs": [],
   "source": [
    "from whylogs import get_or_create_session\n",
    "from whylogs.viz import NotebookProfileViewer"
   ]
  },
  {
   "cell_type": "markdown",
   "id": "272f6054",
   "metadata": {},
   "source": [
    "### ♻️Create dummy data"
   ]
  },
  {
   "cell_type": "code",
   "execution_count": null,
   "id": "41f8a0f9",
   "metadata": {},
   "outputs": [],
   "source": [
    "locales = OrderedDict([\n",
    "    ('en-US', 1),\n",
    "    ('fr-FR', 2),\n",
    "    ('ja_JP', 2),\n",
    "])\n",
    "fake = Faker(locales)\n",
    "distribution = np.concatenate((np.random.normal(0.1, 0.1, 500), np.random.normal(0.6, 0.2, 500)))"
   ]
  },
  {
   "cell_type": "markdown",
   "id": "200841f2",
   "metadata": {},
   "source": [
    "### 📝 Log it\n"
   ]
  },
  {
   "cell_type": "code",
   "execution_count": null,
   "id": "ea4ce6a6",
   "metadata": {},
   "outputs": [],
   "source": [
    "session = get_or_create_session()\n",
    "def profile_generator():\n",
    "    with session.logger(\"mytestytest\", dataset_timestamp=datetime.datetime(2021, 6, 2)) as logger:\n",
    "        for _ in range(500):\n",
    "            logger.log({\"uniform_integers\": np.random.randint(0,50)})\n",
    "            logger.log({\"strings\": fake.name()})\n",
    "            logger.log({\"mixture_distribution\": np.random.choice(distribution, 1)[0]})\n",
    "            logger.log({\"nulls\": None})\n",
    "        logger.log({\"moah_data\": 1})\n",
    "        logger.log({\"moah_data\": 1})\n",
    "        logger.log({\"moah_data\": 5})\n",
    "        return logger.profile\n",
    "\n",
    "target_profile = profile_generator()\n",
    "reference_profile = profile_generator() "
   ]
  },
  {
   "cell_type": "markdown",
   "id": "8390f360",
   "metadata": {},
   "source": [
    "## ✨ Vizualize profiles with Whylogs"
   ]
  },
  {
   "cell_type": "markdown",
   "id": "562fbacf",
   "metadata": {},
   "source": [
    "### Initialization\n",
    "Initialize Profile viewer by passing profiles for which you want to get the visualizations"
   ]
  },
  {
   "cell_type": "code",
   "execution_count": null,
   "id": "7dbff14f",
   "metadata": {},
   "outputs": [],
   "source": [
    "# should we allow multiple profiles?\n",
    "visualization = NotebookProfileViewer(target_profiles=[target_profile], reference_profiles=[reference_profile])"
   ]
  },
  {
   "cell_type": "markdown",
   "id": "87ea53b6",
   "metadata": {},
   "source": [
    "###### `*target_profiles`: Profiled dataset which will be reffered as `target`\n",
    "###### `*reference_profiles`: Profiled dataset which will be reffered as `reference`"
   ]
  },
  {
   "cell_type": "markdown",
   "id": "9908a9f9",
   "metadata": {},
   "source": [
    "### Summary Drift Report"
   ]
  },
  {
   "cell_type": "markdown",
   "id": "650d44c4",
   "metadata": {},
   "source": [
    "You can get summary drift report for `target` and `reference` profiles features"
   ]
  },
  {
   "cell_type": "code",
   "execution_count": null,
   "id": "911147eb",
   "metadata": {},
   "outputs": [],
   "source": [
    "visualization.summary_drift_report(preferred_cell_height=\"1000px\")"
   ]
  },
  {
   "cell_type": "markdown",
   "id": "c4be405d",
   "metadata": {},
   "source": [
    "###### `preferred_cell_height`: height in `px` for generated visualization cell "
   ]
  },
  {
   "cell_type": "markdown",
   "id": "4dd9e690",
   "metadata": {},
   "source": [
    "### Double histogram"
   ]
  },
  {
   "cell_type": "markdown",
   "id": "28b512ca",
   "metadata": {},
   "source": [
    "You can get double histogram for any of your features"
   ]
  },
  {
   "cell_type": "code",
   "execution_count": null,
   "id": "250bb662",
   "metadata": {},
   "outputs": [],
   "source": [
    "visualization.double_histogram(feature_names=\"uniform_integers\")"
   ]
  },
  {
   "cell_type": "markdown",
   "id": "af84a332",
   "metadata": {},
   "source": [
    "###### `*feature_names`: string or list of strings containing names of the features for which you want to see double histogram\n",
    "###### `preferred_cell_height`: height in `px` for generated visualization cell "
   ]
  },
  {
   "cell_type": "markdown",
   "id": "d318761d",
   "metadata": {},
   "source": [
    "### Summary Statistics"
   ]
  },
  {
   "cell_type": "markdown",
   "id": "32974704",
   "metadata": {},
   "source": [
    "You can get set of useful statistics for both `target` and `reference` by passing the name"
   ]
  },
  {
   "cell_type": "code",
   "execution_count": null,
   "id": "d68c5e6a",
   "metadata": {},
   "outputs": [],
   "source": [
    "visualization.summary_statistics(profile=\"target\")"
   ]
  },
  {
   "cell_type": "markdown",
   "id": "2fc9c79e",
   "metadata": {},
   "source": [
    "###### `profile_name`: `\"target\"` or `\"reference\"`\n",
    "###### `prefered_cell_height`: height in `px` for generated visualization cell "
   ]
  },
  {
   "cell_type": "markdown",
   "id": "78db1538",
   "metadata": {},
   "source": [
    "### Feature Summary Statistics"
   ]
  },
  {
   "cell_type": "markdown",
   "id": "4dc0e3f6",
   "metadata": {},
   "source": [
    "You can get set of useful statistics for features by passing the profile and feature names"
   ]
  },
  {
   "cell_type": "code",
   "execution_count": null,
   "id": "fb77bcd5",
   "metadata": {},
   "outputs": [],
   "source": [
    "visualization.feature_summary_statistics(feature_name\"uniform_integers\", profile=\"reference\")"
   ]
  },
  {
   "cell_type": "markdown",
   "id": "8b483a1d",
   "metadata": {},
   "source": [
    "###### `*feature_name`: Any feature name from your profiled dataset\n",
    "###### `profile_name`: `\"target\"` or `\"reference\"`\n",
    "###### `prefered_cell_height`: height in `px` for generated visualization cell "
   ]
  },
  {
   "cell_type": "markdown",
   "id": "b04f735b",
   "metadata": {},
   "source": [
    "### Download prefered cell output"
   ]
  },
  {
   "cell_type": "markdown",
   "id": "2015ff5d",
   "metadata": {},
   "source": [
    "You can also download any of those visualisation in `HTML` format for further analysys, by passing the visualization name"
   ]
  },
  {
   "cell_type": "code",
   "execution_count": null,
   "id": "980d7236",
   "metadata": {},
   "outputs": [],
   "source": [
    "visualization.download(html=visualization.summary_drift_report(), html_file_name='example')"
   ]
  },
  {
   "cell_type": "markdown",
   "id": "01fbed2c",
   "metadata": {},
   "source": [
    "By calling `download()` method of `DisplayProfile` and passing visualizer command, path to be downloaded to (optional) and name of the file you prefer (optional). Exaple `download(visualization.feature(\"title\"), path=\"examlpe/path\", html_file_name=\"example_html_file_name\")`. Command will download HTML format.\n",
    "\n",
    "If path is not passed file will be downloaded to `html_reports` located in whylogs directory by default.\n",
    "\n",
    "If name of the file is not passed it will be name of the dataset followed by timestamp of the profile by default. "
   ]
  },
  {
   "cell_type": "markdown",
   "id": "7ffc293c",
   "metadata": {},
   "source": [
    "###### `*feature_name`: Any feature name from your profiled dataset\n",
    "###### `preferred_path`: save path `default:` `/html_reports` located in whylogs directory\n",
    "###### `html_file_name`: name of the file `default:` name of the dataset followed by timestamp of the profile"
   ]
  }
 ],
 "metadata": {
  "kernelspec": {
   "display_name": "Python 3",
   "language": "python",
   "name": "python3"
  },
  "language_info": {
   "codemirror_mode": {
    "name": "ipython",
    "version": 3
   },
   "file_extension": ".py",
   "mimetype": "text/x-python",
   "name": "python",
   "nbconvert_exporter": "python",
   "pygments_lexer": "ipython3",
   "version": "3.9.7"
  }
 },
 "nbformat": 4,
 "nbformat_minor": 5
}
